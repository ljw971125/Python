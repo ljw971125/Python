{
 "cells": [
  {
   "attachments": {},
   "cell_type": "markdown",
   "metadata": {},
   "source": [
    "# 9. 람다 함수\n",
    "## 9.1 정의\n",
    "- 리스트 내포, 조건부 표현식 등과 같이 여러 줄의 코드를 간결하게 표현할 수 있도록 도와주는 새로운 함수 정의 방법\n",
    "- lambda로 정의할 수 있고 def와 같은 역할\n",
    "  - 함수의 이름을 정의하지 않고, 일회성으로 간편하게 사용할 때 유용\n",
    "  - def로 정의할 만큼 복잡하지 않을 때 활용\n",
    "- lambda 매개변수1, 매개변수2...:\n",
    "  - 매개변수를 이용한 표현식\n",
    "- 람다 함수를 add라는 변수에 할당해 일반 함수처럼 사용\n",
    "- 람다 함수는 전통적인 함수와 다른 성격을 지님(macro)\n",
    "- 따로 변수에 할당하지 않고 바로 한 줄로 표현\n",
    "- def 함수와 같이 기본 매개변수, 키워드 매개변수, 가변 매개변수 설정 가능\n",
    "- 조건문과 함께 사용 가능\n",
    "## 9.2 활용\n",
    "1) map 내장 함수와 함께 활용\n",
    "- 시퀀스 자료형이 지닌 각 요소 값들에 대해 함수에 적용한 요소를 지닌 map 객체를 반환\n",
    "2) filter 내장 함수와 함께 활용\n",
    "- 시퀀스 자료형이 지닌 각 요소의 값에 대해 함수에 적용한 결과가 참인 원소 값만을 지닌 filter 객체를 반환\n",
    "3) 복잡한 객체를 정렬할 때 활용\n",
    "4) 문자열 포맷팅과 함께 활용\n",
    "\n",
    "## 9.3 재귀함수\n",
    "- 재귀 함수는 자기 자신을 호출하는 함수로 파이썬은 자기 자신을 함수 내에서 호출할 수 있기 때문에 재귀 함수로 활용할 수 있음\n",
    "- 파이썬은 끝없이 자기 자신을 호출해 무한루프에 빠지는 것을 방지하기 위해 일정 기간 반복하여 자기 자신을 호출할 경우 오류 발생\n",
    "- 종료 조건이 필요함"
   ]
  },
  {
   "cell_type": "code",
   "execution_count": 2,
   "metadata": {},
   "outputs": [
    {
     "name": "stdout",
     "output_type": "stream",
     "text": [
      "7\n"
     ]
    }
   ],
   "source": [
    "def add(a,b):\n",
    "    return a+b\n",
    "\n",
    "result = add(3,4)\n",
    "print(result)"
   ]
  },
  {
   "cell_type": "code",
   "execution_count": 6,
   "metadata": {},
   "outputs": [
    {
     "name": "stdout",
     "output_type": "stream",
     "text": [
      "7\n"
     ]
    }
   ],
   "source": [
    "add = lambda a, b : a+b\n",
    "result = add(3,4)\n",
    "print(result)"
   ]
  },
  {
   "cell_type": "code",
   "execution_count": 7,
   "metadata": {},
   "outputs": [
    {
     "name": "stdout",
     "output_type": "stream",
     "text": [
      "7\n"
     ]
    }
   ],
   "source": [
    "print((lambda a, b : a+b)(3,4))"
   ]
  },
  {
   "cell_type": "code",
   "execution_count": 8,
   "metadata": {},
   "outputs": [
    {
     "name": "stdout",
     "output_type": "stream",
     "text": [
      "4\n"
     ]
    }
   ],
   "source": [
    "print((lambda a,b=1 : a+b)(3))"
   ]
  },
  {
   "cell_type": "code",
   "execution_count": 9,
   "metadata": {},
   "outputs": [
    {
     "name": "stdout",
     "output_type": "stream",
     "text": [
      "4\n"
     ]
    }
   ],
   "source": [
    "print((lambda a,b : a+b)(b=1, a=3))"
   ]
  },
  {
   "cell_type": "code",
   "execution_count": 10,
   "metadata": {},
   "outputs": [
    {
     "name": "stdout",
     "output_type": "stream",
     "text": [
      "(3, 4, 5, 3, 4, 5, 3, 4, 5)\n"
     ]
    }
   ],
   "source": [
    "print((lambda a, *b : a*b)(3,3,4,5)) #(반복횟수,값,값,값)"
   ]
  },
  {
   "cell_type": "code",
   "execution_count": 12,
   "metadata": {},
   "outputs": [
    {
     "name": "stdout",
     "output_type": "stream",
     "text": [
      "3\n"
     ]
    }
   ],
   "source": [
    "print((lambda a,b : a if a%2==0 else b)(1,3))#람다함수로 표현한 조건문"
   ]
  },
  {
   "cell_type": "code",
   "execution_count": 13,
   "metadata": {},
   "outputs": [
    {
     "name": "stdout",
     "output_type": "stream",
     "text": [
      "3\n"
     ]
    }
   ],
   "source": [
    "def func(a,b) :#함수로 표현한 조건문\n",
    "    if(a%2 == 0):\n",
    "        return a\n",
    "    else :\n",
    "        return b\n",
    "print(func(1,3))"
   ]
  },
  {
   "cell_type": "code",
   "execution_count": 14,
   "metadata": {},
   "outputs": [
    {
     "name": "stdout",
     "output_type": "stream",
     "text": [
      "<class 'map'>\n",
      "[1, 4, 9, 16, 25]\n"
     ]
    }
   ],
   "source": [
    "def func(x):\n",
    "    return x*x\n",
    "\n",
    "a = [1,2,3,4,5]\n",
    "b = map(func,a)\n",
    "print(type(b))\n",
    "print(list(b)) #리스트 형태로 받아야 함"
   ]
  },
  {
   "cell_type": "code",
   "execution_count": 20,
   "metadata": {},
   "outputs": [
    {
     "name": "stdout",
     "output_type": "stream",
     "text": [
      "[1, 4, 9, 16, 25]\n"
     ]
    }
   ],
   "source": [
    "def func(x):\n",
    "    return x*x\n",
    "\n",
    "a = [1,2,3,4,5]\n",
    "b = []\n",
    "#for문으로 표현\n",
    "for i in a:\n",
    "    j = func(i)\n",
    "    b.append(j)\n",
    "print(b)\n",
    "    \n",
    "\n",
    "#[1,4,9,16,25]"
   ]
  },
  {
   "cell_type": "code",
   "execution_count": 21,
   "metadata": {},
   "outputs": [
    {
     "name": "stdout",
     "output_type": "stream",
     "text": [
      "[1, 4, 9, 16, 25]\n"
     ]
    }
   ],
   "source": [
    "# map + 람다 함수로 구현\n",
    "print(list(map(lambda x:x*x,[1,2,3,4,5])))"
   ]
  },
  {
   "cell_type": "code",
   "execution_count": 23,
   "metadata": {},
   "outputs": [
    {
     "name": "stdout",
     "output_type": "stream",
     "text": [
      "<class 'filter'>\n",
      "<class 'list'>\n"
     ]
    }
   ],
   "source": [
    "def func(x):\n",
    "    return x>2\n",
    "\n",
    "a = [1,2,3,25]\n",
    "b = filter(func,a)\n",
    "print(type(b))\n",
    "print(type(a))"
   ]
  },
  {
   "cell_type": "code",
   "execution_count": 24,
   "metadata": {},
   "outputs": [
    {
     "name": "stdout",
     "output_type": "stream",
     "text": [
      "[3, 25]\n"
     ]
    }
   ],
   "source": [
    "def func(x):\n",
    "    return x>2\n",
    "\n",
    "a = [1,2,3,25]\n",
    "b = []\n",
    "\n",
    "for x in a:\n",
    "    if func(x):\n",
    "        b.append(x)\n",
    "print(b)"
   ]
  },
  {
   "cell_type": "code",
   "execution_count": 25,
   "metadata": {},
   "outputs": [
    {
     "name": "stdout",
     "output_type": "stream",
     "text": [
      "[3, 25]\n"
     ]
    }
   ],
   "source": [
    "print(list(filter(lambda x:x>2, [1,2,3,25])))"
   ]
  },
  {
   "cell_type": "code",
   "execution_count": 26,
   "metadata": {},
   "outputs": [],
   "source": [
    "students = [\n",
    "    (\"라이언\",'A','20'),\n",
    "    (\"어피치\",'B','19'),\n",
    "    (\"춘식이\",'C','10')\n",
    "]"
   ]
  },
  {
   "cell_type": "code",
   "execution_count": 27,
   "metadata": {},
   "outputs": [
    {
     "name": "stdout",
     "output_type": "stream",
     "text": [
      "[('라이언', 'A', '20'), ('어피치', 'B', '19'), ('춘식이', 'C', '10')]\n"
     ]
    }
   ],
   "source": [
    "print(sorted(students))"
   ]
  },
  {
   "cell_type": "code",
   "execution_count": 28,
   "metadata": {},
   "outputs": [
    {
     "name": "stdout",
     "output_type": "stream",
     "text": [
      "[('라이언', 'A', '20'), ('어피치', 'B', '19'), ('춘식이', 'C', '10')]\n"
     ]
    }
   ],
   "source": [
    "print(sorted(students, key=lambda x: x[1]))"
   ]
  },
  {
   "cell_type": "code",
   "execution_count": 29,
   "metadata": {},
   "outputs": [
    {
     "name": "stdout",
     "output_type": "stream",
     "text": [
      "[('라이언', 'A', '20'), ('어피치', 'B', '19'), ('춘식이', 'C', '10')]\n"
     ]
    }
   ],
   "source": [
    "print(sorted(students, key=lambda x: x[0]))"
   ]
  },
  {
   "cell_type": "code",
   "execution_count": 30,
   "metadata": {},
   "outputs": [
    {
     "name": "stdout",
     "output_type": "stream",
     "text": [
      "[('춘식이', 'C', '10'), ('어피치', 'B', '19'), ('라이언', 'A', '20')]\n"
     ]
    }
   ],
   "source": [
    "print(sorted(students, key=lambda x: x[2]))"
   ]
  },
  {
   "cell_type": "code",
   "execution_count": 31,
   "metadata": {},
   "outputs": [
    {
     "name": "stdout",
     "output_type": "stream",
     "text": [
      "3 x 4 = 12\n"
     ]
    }
   ],
   "source": [
    "print((lambda x,y : '{} x {} = {}'.format(x,y,x*y))(3,4))"
   ]
  }
 ],
 "metadata": {
  "kernelspec": {
   "display_name": "Python 3",
   "language": "python",
   "name": "python3"
  },
  "language_info": {
   "codemirror_mode": {
    "name": "ipython",
    "version": 3
   },
   "file_extension": ".py",
   "mimetype": "text/x-python",
   "name": "python",
   "nbconvert_exporter": "python",
   "pygments_lexer": "ipython3",
   "version": "3.11.2"
  },
  "orig_nbformat": 4,
  "vscode": {
   "interpreter": {
    "hash": "1682e5d06a6d97c1b1cf6bb4ae6cf16223e994936ddb1d53664597d7d46101fa"
   }
  }
 },
 "nbformat": 4,
 "nbformat_minor": 2
}
