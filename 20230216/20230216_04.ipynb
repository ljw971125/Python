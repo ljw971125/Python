{
 "cells": [
  {
   "cell_type": "code",
   "execution_count": null,
   "metadata": {},
   "outputs": [],
   "source": [
    "#인터넷 프로토콜과 지원\n",
    "import urllib.request #URL을 열기 위한 확장 가능한 라이브러리\n",
    "import bs4 #웹 크롤링 지원\n",
    "web_page = urllib.request.urlopen(\"https://www.naver.com\")\n",
    "print(web_page.read())"
   ]
  },
  {
   "cell_type": "code",
   "execution_count": 21,
   "metadata": {},
   "outputs": [
    {
     "name": "stdout",
     "output_type": "stream",
     "text": [
      "메일\n",
      "카페\n",
      "블로그\n",
      "지식iN\n",
      "쇼핑\n",
      "쇼핑LIVE\n",
      "Pay\n",
      "TV\n"
     ]
    }
   ],
   "source": [
    "#인터넷 프로토콜과 지원\n",
    "import urllib.request #URL을 열기 위한 확장 가능한 라이브러리\n",
    "import bs4 #웹 크롤링 지원\n",
    "web_page = urllib.request.urlopen(\"https://www.naver.com\")\n",
    "result = bs4.BeautifulSoup(web_page, \"html.parser\")\n",
    "menu = result.find(\"ul\",class_ = \"list_nav\")\n",
    "#글자만 추출하기\n",
    "for i in menu.find_all(\"li\"):\n",
    "    print(i.get_text(strip=\"True\"))"
   ]
  }
 ],
 "metadata": {
  "kernelspec": {
   "display_name": "Python 3",
   "language": "python",
   "name": "python3"
  },
  "language_info": {
   "codemirror_mode": {
    "name": "ipython",
    "version": 3
   },
   "file_extension": ".py",
   "mimetype": "text/x-python",
   "name": "python",
   "nbconvert_exporter": "python",
   "pygments_lexer": "ipython3",
   "version": "3.11.2"
  },
  "orig_nbformat": 4,
  "vscode": {
   "interpreter": {
    "hash": "1682e5d06a6d97c1b1cf6bb4ae6cf16223e994936ddb1d53664597d7d46101fa"
   }
  }
 },
 "nbformat": 4,
 "nbformat_minor": 2
}
