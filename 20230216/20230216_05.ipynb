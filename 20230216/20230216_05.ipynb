{
 "cells": [
  {
   "attachments": {},
   "cell_type": "markdown",
   "metadata": {},
   "source": [
    "# 12.파이썬의 클래스\n",
    "## 12.1 클래스와 객체\n",
    "1) 객체지향 프로그래밍(OOP : Object oriented Programming)\n",
    "- 절차지향 프로그래밍\n",
    "  - 위에서 아래로, 순서대로 실행\n",
    "  - 프로그램이 유기적으로 연결\n",
    "  - 대표 언어 : C언어\n",
    "  - 장점 : 순서대로 실행되기 때문에 실행속도가 빠름\n",
    "  - 단점 : 유지보수가 어려움, 코드의 재사용이 어려움\n",
    "- 객체지향 프로그래밍\n",
    "  - 컴퓨터 프로그래밍의 패러다임 중 하나\n",
    "  - 여러 개의 독립된 단위, 즉 \"객체\"들의 모임으로 파악하고자 하는 것\n",
    "  - 프로그램을 유연하고 변경이 용이하게 만들기 때문에 대규모 소프트웨어 개발에 많이 사용\n",
    "  - 프로그램 개발과 유지보수가 간편하고 직관적인 코드 분석이 가능\n",
    "  - 추상화, 캡슐화, 정보은닉, 상속, 다형성, 동적 바인딩, 오버로딩 등의 특성 가짐\n",
    "\n",
    "* 프로그래밍을 할 때 주의할 점?\n",
    "- 같은 코드를 반복하지 않음\n",
    "- 한번 작성한 코드는 언제든 바뀔 수 있다는 것을 생각\n",
    "\n",
    "## 11.2 클래스와 이름 공간\n",
    "1) 클래스의 정의\n",
    "- 객체를 조금 더 효율적으로 생성하기 위해 만들어진 구문\n",
    "class 클래스 이름:\n",
    "  클래스 내용\n",
    "- 대소문자를 구별하기 때문에 소문자로 class 정의\n",
    "- <font color = red>인스턴스</font> : 클래스로부터 만들어진 객체\n",
    "\n",
    "2) 클래스의 이름 공간\n",
    "- 클래스는 별도의 이름 공간이 할당\n",
    "- 인스턴스 또한 별도의 이름공간을 할당\n",
    "  - 동적으로 인스턴스 내부에 멤버 추가 가능\n",
    "  - 인스턴스마다 모두 독립적인 이름공간\n",
    "\n",
    "# 11.3 클래스의 메서드\n",
    "1) 메서드의 정의\n",
    "- 클래스가 가지고 있는 함수\n",
    "- 일반적인 함수와 똑같이 정의하지만 첫 번째 매개변수로 self를 사용(관례적)\n",
    "- self는 인스턴스 객체 자신의 레퍼런스를 지니고 있음\n",
    "  -각 인스턴스들은 self를 활용해 자신의 이름 공간에 접근 가능\n",
    "2) 메서드의 호출\n",
    "- 인스턴스 객체를 활용한 메서드 호출(self 인자는 생략)\n",
    "- 클래스 객체를 이용한 메서드 호출(직접 인스턴스를 적어줌)\n",
    "3) 객체 내부 메서드의 호출\n",
    "- 객체 내부의 메서드를 호출할 수 있음\n",
    "- 주의!! self를 적어주지 않으면, 외부에서 해당 메서드를 찾음\n",
    "4) 정적 메서드(Static Method)\n",
    "- 인스턴스 객체와 무관하게 클래스 이름 공간에 존재하는 메서드\n",
    "- 클래스 이름을 이용하여 직접 호출 가능\n",
    "- 장식자 @staticmethod 사용"
   ]
  },
  {
   "cell_type": "code",
   "execution_count": 2,
   "metadata": {},
   "outputs": [],
   "source": [
    "# 학생관리 프로그램\n",
    "students =[\n",
    "    {\"student_name\":\"김학생\", \"student_number\":20230201, \"student_age\": 21},\n",
    "    {\"student_name\":\"이학생\", \"student_number\":20230202, \"student_age\": 21},\n",
    "    {\"student_name\":\"최학생\", \"student_number\":20230203, \"student_age\": 22},\n",
    "    {\"student_name\":\"박학생\", \"student_number\":20230204, \"student_age\": 24}\n",
    "]"
   ]
  },
  {
   "cell_type": "code",
   "execution_count": 9,
   "metadata": {},
   "outputs": [
    {
     "name": "stdout",
     "output_type": "stream",
     "text": [
      "22\n"
     ]
    }
   ],
   "source": [
    "#학생들의 평균 나이를 구하시오.\n",
    "age_sum = 0\n",
    "for student in students:\n",
    "    age_sum += student[\"student_age\"]\n",
    "print(int(age_sum/len(students)))"
   ]
  },
  {
   "cell_type": "code",
   "execution_count": 11,
   "metadata": {},
   "outputs": [
    {
     "name": "stdout",
     "output_type": "stream",
     "text": [
      "0\n",
      "<__main__.S1 object at 0x00000217494B90D0> 0\n"
     ]
    }
   ],
   "source": [
    "a = 0\n",
    "\n",
    "class S1:\n",
    "    a=1\n",
    "x = S1() #인스턴스\n",
    "print(a)\n",
    "print(x,a)"
   ]
  },
  {
   "cell_type": "code",
   "execution_count": 12,
   "metadata": {},
   "outputs": [
    {
     "name": "stdout",
     "output_type": "stream",
     "text": [
      "10\n"
     ]
    },
    {
     "ename": "AttributeError",
     "evalue": "'Simpler_Class' object has no attribute 'a'",
     "output_type": "error",
     "traceback": [
      "\u001b[1;31m---------------------------------------------------------------------------\u001b[0m",
      "\u001b[1;31mAttributeError\u001b[0m                            Traceback (most recent call last)",
      "Cell \u001b[1;32mIn[12], line 10\u001b[0m\n\u001b[0;32m      7\u001b[0m c1\u001b[39m.\u001b[39ma \u001b[39m=\u001b[39m \u001b[39m10\u001b[39m\n\u001b[0;32m      9\u001b[0m \u001b[39mprint\u001b[39m(c1\u001b[39m.\u001b[39ma)\n\u001b[1;32m---> 10\u001b[0m \u001b[39mprint\u001b[39m(c2\u001b[39m.\u001b[39;49ma)\n",
      "\u001b[1;31mAttributeError\u001b[0m: 'Simpler_Class' object has no attribute 'a'"
     ]
    }
   ],
   "source": [
    "class Simpler_Class :\n",
    "    pass\n",
    "\n",
    "c1 = Simpler_Class()\n",
    "c2 = Simpler_Class()\n",
    "\n",
    "c1.a = 10\n",
    "\n",
    "print(c1.a)\n",
    "print(c2.a)"
   ]
  },
  {
   "cell_type": "code",
   "execution_count": 18,
   "metadata": {},
   "outputs": [
    {
     "name": "stdout",
     "output_type": "stream",
     "text": [
      "S1 1\n",
      "x.a  10\n",
      "\n",
      "a : 0\n",
      "x.a :  10\n",
      "S1.a : 1\n"
     ]
    }
   ],
   "source": [
    "a = 0\n",
    "\n",
    "class S1:\n",
    "    a=1\n",
    "\n",
    "print (\"S1\" , S1.a)\n",
    "X = S1()\n",
    "print(\"x.a \",x.a)\n",
    "print()\n",
    "x.a = 10\n",
    "print(\"a :\",a)\n",
    "print(\"x.a : \", x.a)\n",
    "print(\"S1.a :\",S1.a)"
   ]
  },
  {
   "cell_type": "code",
   "execution_count": 19,
   "metadata": {},
   "outputs": [],
   "source": [
    "class MyClass : \n",
    "     \n",
    "    def class_set(self, v):\n",
    "        self.value = v\n",
    "\n",
    "    def class_get(self):\n",
    "        return self.value"
   ]
  },
  {
   "cell_type": "code",
   "execution_count": 21,
   "metadata": {},
   "outputs": [
    {
     "name": "stdout",
     "output_type": "stream",
     "text": [
      "10\n"
     ]
    }
   ],
   "source": [
    "c1 = MyClass()\n",
    "c1.class_set('10')\n",
    "print(c1.class_get())"
   ]
  },
  {
   "cell_type": "code",
   "execution_count": 22,
   "metadata": {},
   "outputs": [
    {
     "name": "stdout",
     "output_type": "stream",
     "text": [
      "11\n"
     ]
    }
   ],
   "source": [
    "c2 = MyClass()\n",
    "MyClass.class_set(c2, '11')\n",
    "print(MyClass.class_get(c2))"
   ]
  },
  {
   "cell_type": "code",
   "execution_count": 23,
   "metadata": {},
   "outputs": [],
   "source": [
    "class MyClass : \n",
    "     \n",
    "    def class_set(self, v):\n",
    "        self.value = v\n",
    "    def class_get(self):\n",
    "        return self.value\n",
    "    def class_incr(self):\n",
    "        #내부 메서드 호출\n",
    "        self.class_set(self.value + 1)"
   ]
  },
  {
   "cell_type": "code",
   "execution_count": 25,
   "metadata": {},
   "outputs": [
    {
     "name": "stdout",
     "output_type": "stream",
     "text": [
      "1\n"
     ]
    }
   ],
   "source": [
    "c1 = MyClass()\n",
    "c1.class_set(1)\n",
    "print(c1.class_get())"
   ]
  },
  {
   "cell_type": "code",
   "execution_count": 26,
   "metadata": {},
   "outputs": [
    {
     "name": "stdout",
     "output_type": "stream",
     "text": [
      "2\n"
     ]
    }
   ],
   "source": [
    "c1.class_incr()\n",
    "print(c1.class_get())"
   ]
  },
  {
   "cell_type": "code",
   "execution_count": 34,
   "metadata": {},
   "outputs": [],
   "source": [
    "def class_set(i):#외부 메서드\n",
    "    print(\"외부 함수입니다. - \",i)\n",
    "\n",
    "class MyClass : \n",
    "     \n",
    "    def class_set(self, v):\n",
    "        self.value = v\n",
    "    def class_get(self):\n",
    "        return self.value\n",
    "    def class_incr(self):\n",
    "        #외부 메서드 호출\n",
    "        class_set(self.value + 1) #self가 빠지면 외부 메서드가 호출됨"
   ]
  },
  {
   "cell_type": "code",
   "execution_count": 43,
   "metadata": {},
   "outputs": [
    {
     "name": "stdout",
     "output_type": "stream",
     "text": [
      "1\n"
     ]
    }
   ],
   "source": [
    "c1 = MyClass()\n",
    "c1.class_set(1)\n",
    "print(c1.class_get())"
   ]
  },
  {
   "cell_type": "code",
   "execution_count": 44,
   "metadata": {},
   "outputs": [
    {
     "name": "stdout",
     "output_type": "stream",
     "text": [
      "외부 함수입니다. -  2\n",
      "1\n"
     ]
    }
   ],
   "source": [
    "c1.class_incr()\n",
    "print(c1.class_get())"
   ]
  },
  {
   "cell_type": "code",
   "execution_count": 54,
   "metadata": {},
   "outputs": [],
   "source": [
    "class C :\n",
    "    def ham(self,x, y):\n",
    "        print(\"instance method\", x, y)"
   ]
  },
  {
   "cell_type": "code",
   "execution_count": 55,
   "metadata": {},
   "outputs": [
    {
     "name": "stdout",
     "output_type": "stream",
     "text": [
      "instance method 1 2\n"
     ]
    }
   ],
   "source": [
    "c1 = C()\n",
    "c1.ham(1,2)"
   ]
  },
  {
   "cell_type": "code",
   "execution_count": 45,
   "metadata": {},
   "outputs": [
    {
     "ename": "TypeError",
     "evalue": "C.ham() missing 1 required positional argument: 'y'",
     "output_type": "error",
     "traceback": [
      "\u001b[1;31m---------------------------------------------------------------------------\u001b[0m",
      "\u001b[1;31mTypeError\u001b[0m                                 Traceback (most recent call last)",
      "Cell \u001b[1;32mIn[45], line 2\u001b[0m\n\u001b[0;32m      1\u001b[0m \u001b[39m#인스턴스 객체 없이 클래스에서 직접 호출\u001b[39;00m\n\u001b[1;32m----> 2\u001b[0m C\u001b[39m.\u001b[39;49mham(\u001b[39m1\u001b[39;49m,\u001b[39m2\u001b[39;49m)\n",
      "\u001b[1;31mTypeError\u001b[0m: C.ham() missing 1 required positional argument: 'y'"
     ]
    }
   ],
   "source": [
    "#인스턴스 객체 없이 클래스에서 직접 호출\n",
    "C.ham(1,2)"
   ]
  },
  {
   "cell_type": "code",
   "execution_count": 49,
   "metadata": {},
   "outputs": [],
   "source": [
    "class D:\n",
    "    @staticmethod\n",
    "    def spam(x, y):\n",
    "        print(\"static method\", x, y)"
   ]
  },
  {
   "cell_type": "code",
   "execution_count": 50,
   "metadata": {},
   "outputs": [
    {
     "name": "stdout",
     "output_type": "stream",
     "text": [
      "static method 1 2\n"
     ]
    }
   ],
   "source": [
    "D.spam(1,2)"
   ]
  },
  {
   "cell_type": "code",
   "execution_count": 51,
   "metadata": {},
   "outputs": [
    {
     "name": "stdout",
     "output_type": "stream",
     "text": [
      "static method 1 2\n"
     ]
    }
   ],
   "source": [
    "d1 = D()\n",
    "d1.spam(1,2)"
   ]
  }
 ],
 "metadata": {
  "kernelspec": {
   "display_name": "Python 3",
   "language": "python",
   "name": "python3"
  },
  "language_info": {
   "codemirror_mode": {
    "name": "ipython",
    "version": 3
   },
   "file_extension": ".py",
   "mimetype": "text/x-python",
   "name": "python",
   "nbconvert_exporter": "python",
   "pygments_lexer": "ipython3",
   "version": "3.11.2"
  },
  "orig_nbformat": 4,
  "vscode": {
   "interpreter": {
    "hash": "1682e5d06a6d97c1b1cf6bb4ae6cf16223e994936ddb1d53664597d7d46101fa"
   }
  }
 },
 "nbformat": 4,
 "nbformat_minor": 2
}
