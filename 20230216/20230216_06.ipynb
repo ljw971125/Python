{
 "cells": [
  {
   "attachments": {},
   "cell_type": "markdown",
   "metadata": {},
   "source": [
    "## 11.4 클래스 멤버와 인스턴스\n",
    "1) 클래스 멤버 : 클래스 이름 공간에 생성, 모든 인스턴스에 공유\n",
    "2) 인스턴스 멤버 : 인스턴스 이름 공간에 생성, 인스턴스마다 독립\n",
    "## 11.5 생성자와 소멸자\n",
    "1) 생성자\n",
    "- 객체(인스턴스)가 생성될 때 자동으로 호출되는 함수\n",
    "- __init__으로 정의\n",
    "- 일반적으로 객체가 보유해야 할 변수나 자원들의 초기화를 하는 코드를 작성\n",
    "2) 소멸자\n",
    "- 객체(인스턴스)가 소멸될 때 자동으로 호출되는 함수\n",
    "- __del__으로 정의\n",
    "- 일반적으로 객체가 점유하고 있는 메모리나 기타 자원들의 해제를 하는 코드를 작성"
   ]
  },
  {
   "cell_type": "code",
   "execution_count": 2,
   "metadata": {},
   "outputs": [],
   "source": [
    "class Var:\n",
    "    c_mem = 100\n",
    "    def f(self):\n",
    "        self.i_mem = 200"
   ]
  },
  {
   "cell_type": "code",
   "execution_count": 4,
   "metadata": {},
   "outputs": [
    {
     "name": "stdout",
     "output_type": "stream",
     "text": [
      "100\n",
      "100\n",
      "100\n"
     ]
    }
   ],
   "source": [
    "v1 = Var()\n",
    "v2 = Var()\n",
    "print(Var.c_mem)\n",
    "print(v1.c_mem)\n",
    "print(v2.c_mem)\n"
   ]
  },
  {
   "cell_type": "code",
   "execution_count": 5,
   "metadata": {},
   "outputs": [
    {
     "name": "stdout",
     "output_type": "stream",
     "text": [
      "100\n",
      "50\n",
      "100\n"
     ]
    }
   ],
   "source": [
    "v1.c_mem =50\n",
    "print(Var.c_mem)\n",
    "print(v1.c_mem)\n",
    "print(v2.c_mem)"
   ]
  },
  {
   "cell_type": "code",
   "execution_count": 6,
   "metadata": {},
   "outputs": [
    {
     "name": "stdout",
     "output_type": "stream",
     "text": [
      "200\n"
     ]
    },
    {
     "ename": "AttributeError",
     "evalue": "'Var' object has no attribute 'i_mem'",
     "output_type": "error",
     "traceback": [
      "\u001b[1;31m---------------------------------------------------------------------------\u001b[0m",
      "\u001b[1;31mAttributeError\u001b[0m                            Traceback (most recent call last)",
      "Cell \u001b[1;32mIn[6], line 6\u001b[0m\n\u001b[0;32m      3\u001b[0m v1\u001b[39m.\u001b[39mf()\n\u001b[0;32m      5\u001b[0m \u001b[39mprint\u001b[39m(v1\u001b[39m.\u001b[39mi_mem)\n\u001b[1;32m----> 6\u001b[0m \u001b[39mprint\u001b[39m(v2\u001b[39m.\u001b[39;49mi_mem)\n",
      "\u001b[1;31mAttributeError\u001b[0m: 'Var' object has no attribute 'i_mem'"
     ]
    }
   ],
   "source": [
    "v1 = Var()\n",
    "v2 = Var()\n",
    "v1.f()\n",
    "\n",
    "print(v1.i_mem)\n",
    "print(v2.i_mem) "
   ]
  },
  {
   "cell_type": "code",
   "execution_count": 7,
   "metadata": {},
   "outputs": [],
   "source": [
    "class MyClass:\n",
    "\n",
    "    def __init__(self):\n",
    "        self.name = \"class\"\n",
    "        print(\"클래스가 생성되었습니다. - \", self.name)\n",
    "\n",
    "    def __del__(self):\n",
    "        print(\"클래스가 소멸되었습니다.\")"
   ]
  },
  {
   "cell_type": "code",
   "execution_count": 19,
   "metadata": {},
   "outputs": [
    {
     "name": "stdout",
     "output_type": "stream",
     "text": [
      "클래스가 생성되었습니다. -  class\n",
      "클래스가 소멸되었습니다.\n"
     ]
    }
   ],
   "source": [
    "c1 = MyClass()"
   ]
  }
 ],
 "metadata": {
  "kernelspec": {
   "display_name": "Python 3",
   "language": "python",
   "name": "python3"
  },
  "language_info": {
   "codemirror_mode": {
    "name": "ipython",
    "version": 3
   },
   "file_extension": ".py",
   "mimetype": "text/x-python",
   "name": "python",
   "nbconvert_exporter": "python",
   "pygments_lexer": "ipython3",
   "version": "3.11.2"
  },
  "orig_nbformat": 4,
  "vscode": {
   "interpreter": {
    "hash": "1682e5d06a6d97c1b1cf6bb4ae6cf16223e994936ddb1d53664597d7d46101fa"
   }
  }
 },
 "nbformat": 4,
 "nbformat_minor": 2
}
