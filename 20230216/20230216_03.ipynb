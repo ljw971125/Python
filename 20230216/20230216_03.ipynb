{
 "cells": [
  {
   "attachments": {},
   "cell_type": "markdown",
   "metadata": {},
   "source": [
    "# 11.파이썬 외부 모듈의 활용\n",
    "## 11.1 외부 모듈\n",
    "1) 공개 소스 라이선스 계약에 따라 개발한 소프트웨어를 다른 사용자가 사용 가능\n",
    "- 파이썬 : 널리 사용되는 개방형 소스 개발 프로젝트\n",
    "- 다양한 사용자층과 커뮤니티가 활성화 되어 있음\n",
    "  - 대표적으로 파이썬 패키지 인덱스(PyPI)라고 불리는 라이브러리 저장소 관리 기구가 있음  \n",
    "https://pypi.org/\n",
    "2) 4차 산업혁명 관련 IT 분야에서 파이썬의 중요성이 높아지고 있는 이유\n",
    "- 파이썬이 해당 분야의 프로그래밍에 도움이 되는 외부  모듈을 다양하게 제공하기 때문\n",
    "1. 데이터 분석, 통계 : Numpy, Pandas, Matplotlib\n",
    "2. 인공지능 : Tensorflow, PyTorch, Keras\n",
    "3. 웹 크롤링 : BeautifulSoup, Selenium\n",
    "\n",
    "## 11.2 외부 모듈 설치하기\n",
    "1) Jupyter Notebook 환경에서 명령어 앞에 !를 붙여 설치 가능\n",
    "- 느낌표(!)를 붙이면 콘솔창에서 입력한 것과 같은 역할\n",
    "- 설치 : !pip install 모듈명\n",
    "- 삭제 : !pip uninstall 모듈명\n",
    "2) 데이터베이스 연결하기\n",
    "- pymysql : MySQL을 파이썬에서 사용할 수 있는 모듈 중 하나\n",
    "- !pip install pymysql로 설치\n",
    "- MySQL : 전 세계에서 가장 많이 사용되는 오픈 소스 관계형 데이터베이스\n",
    "3) 웹 크롤링하기\n",
    "- 웹 크롤링 : 컴퓨터 소프트웨어 기술로 웹 사이트들에서 원하는 정보를 추출하는 것\n",
    "- 파이썬에서는 웹 크롤링을 지원하는 대표 라이브러리 BeautifuulSoup 설치\n",
    "  - !pip install beautifulsoup4로 설치\n",
    "  - !pip install bs4"
   ]
  },
  {
   "cell_type": "code",
   "execution_count": 11,
   "metadata": {},
   "outputs": [
    {
     "name": "stdout",
     "output_type": "stream",
     "text": [
      "Requirement already satisfied: beautifulsoup4 in c:\\users\\admin\\appdata\\local\\programs\\python\\python311\\lib\\site-packages (4.11.1)\n",
      "Requirement already satisfied: soupsieve>1.2 in c:\\users\\admin\\appdata\\local\\programs\\python\\python311\\lib\\site-packages (from beautifulsoup4) (2.3.2.post1)\n"
     ]
    }
   ],
   "source": [
    "!pip install beautifulsoup4"
   ]
  }
 ],
 "metadata": {
  "kernelspec": {
   "display_name": "Python 3",
   "language": "python",
   "name": "python3"
  },
  "language_info": {
   "codemirror_mode": {
    "name": "ipython",
    "version": 3
   },
   "file_extension": ".py",
   "mimetype": "text/x-python",
   "name": "python",
   "nbconvert_exporter": "python",
   "pygments_lexer": "ipython3",
   "version": "3.11.2"
  },
  "orig_nbformat": 4,
  "vscode": {
   "interpreter": {
    "hash": "1682e5d06a6d97c1b1cf6bb4ae6cf16223e994936ddb1d53664597d7d46101fa"
   }
  }
 },
 "nbformat": 4,
 "nbformat_minor": 2
}
