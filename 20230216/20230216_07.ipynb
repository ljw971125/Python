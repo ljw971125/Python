{
 "cells": [
  {
   "attachments": {},
   "cell_type": "markdown",
   "metadata": {},
   "source": [
    "# 12. 파이썬 클래스의 활용\n",
    "## 12.1 연산자 오버로딩\n",
    "1) 오버로딩의 의미\n",
    "- 사전적 의미 : 과적하다, 과부하가 걸리게 하다\n",
    "- 컴퓨터에서의 의미 : 메서드의 중복 정의, 즉 , 같은 이름의 메서드를 사용하는 것 - 자바에서는 매개변수의 타입이나 개수 등을 달리해서 사용  \n",
    "예) 하나의 노래 검색 함수를 두가지로 활용 가능\n",
    "- 노래 검색(재목) : 제목으로 노래 검색\n",
    "- 노래 검색(가수) : 가수로 노래 검색\n",
    "2) 파이썬에서의 오버로딩\n",
    "- 파이썬에서 같은 이름의 메서드를 사용하면 늦게 정의한 메서드로 덮어쓰기 됨\n",
    "3) 연산자 오버로딩\n",
    "- 기존 약속되어 있는 add() 메서드를 재정의 해서 해당 클래스에서 객체 간 덧셈 연산을 가능하게 함\n",
    "- 인스턴스의 사칙연산 : 연산자 오버로딩을 하지 않으면 인스턴스 간 연산이 되지 않음\n",
    "4) 수치 연산자 오버로딩\n",
    "- 해당 메서드들을 클래스에 오버로딩하면 연산자를 활용해 인스턴스들의 연산이 가능\n",
    "  - 주의~!! 2.x -> 3.x div -> truediv로 변경"
   ]
  },
  {
   "attachments": {},
   "cell_type": "markdown",
   "metadata": {},
   "source": [
    "메서드  |연산자|인스턴스객체(O)에 대한 사용 예  \n",
    "|__add__(self,B)|+|O+B, O+=B  \n",
    "|__sub__(self,B)|-|O-B, O-=B  \n",
    "|__mul__(self,B)|*|O*B, O*=B  \n",
    "|__truediv__(self,B)|/|O/B, O/=B  "
   ]
  },
  {
   "attachments": {},
   "cell_type": "markdown",
   "metadata": {},
   "source": [
    "5) 비교 연산자 오버로딩\n",
    "|__lt__(self,other|self< other|  \n",
    "|__le__(self,other|self<= other|  \n",
    "|__eq__(self,other|self== other|  \n",
    "|__ne__(self,other|self!= other|  \n",
    "|__gt__(self,other|self> other|  \n",
    "|__ge__(self,other|self>= other|  "
   ]
  },
  {
   "attachments": {},
   "cell_type": "markdown",
   "metadata": {},
   "source": [
    "6) 시퀀스/ 매핑 자료형의 연산자 오버로딩\n",
    "-클래스에 다음 연산자들을 활용해 자신만의 시퀀스 자료형을 만들 수 있음\n",
    "|메서드|연산자|\n",
    "|__len__(self)|len()|\n",
    "|__contains__(self, item)|item in self|\n",
    "|__getitem__(self, key)|self[key|\n",
    "|__setitem__(self, key,value)|self[key]=value| \n",
    "|__delitem__(self, key)|del self(key|\n",
    "- 내장 자료형과 개발자가 정의한 자료형에 대해 일관된 연산 적용이 가능\n",
    "- 일관된 코딩 스타일을 유지할 수 있음\n",
    "\n",
    "* IndexError란 시퀀스 자료형이 범위를 벗어난 인덱스를 참조할 때 발생하는 오류\n",
    "* 사용자가 정의한 MyClass 객체를 리스트, 튜플 객체로 변경할 수 있음\n"
   ]
  },
  {
   "cell_type": "code",
   "execution_count": 2,
   "metadata": {},
   "outputs": [],
   "source": [
    "class A:\n",
    "\n",
    "    def func(self, a):\n",
    "        return \"hello\"\n",
    "\n",
    "    def func(self):\n",
    "        return \"world\""
   ]
  },
  {
   "cell_type": "code",
   "execution_count": 3,
   "metadata": {},
   "outputs": [
    {
     "name": "stdout",
     "output_type": "stream",
     "text": [
      "world\n"
     ]
    },
    {
     "ename": "TypeError",
     "evalue": "A.func() takes 1 positional argument but 2 were given",
     "output_type": "error",
     "traceback": [
      "\u001b[1;31m---------------------------------------------------------------------------\u001b[0m",
      "\u001b[1;31mTypeError\u001b[0m                                 Traceback (most recent call last)",
      "Cell \u001b[1;32mIn[3], line 3\u001b[0m\n\u001b[0;32m      1\u001b[0m a \u001b[39m=\u001b[39m A()\n\u001b[0;32m      2\u001b[0m \u001b[39mprint\u001b[39m(a\u001b[39m.\u001b[39mfunc())\n\u001b[1;32m----> 3\u001b[0m \u001b[39mprint\u001b[39m(a\u001b[39m.\u001b[39;49mfunc(\u001b[39m1\u001b[39;49m))\n",
      "\u001b[1;31mTypeError\u001b[0m: A.func() takes 1 positional argument but 2 were given"
     ]
    }
   ],
   "source": [
    "a = A()\n",
    "print(a.func())\n",
    "print(a.func(1))"
   ]
  },
  {
   "cell_type": "code",
   "execution_count": 43,
   "metadata": {},
   "outputs": [],
   "source": [
    "class B:\n",
    "    def __init__(self, i):\n",
    "        self.i = i"
   ]
  },
  {
   "cell_type": "code",
   "execution_count": 4,
   "metadata": {},
   "outputs": [
    {
     "name": "stdout",
     "output_type": "stream",
     "text": [
      "41\n"
     ]
    }
   ],
   "source": [
    "a = 40\n",
    "print(a+1)"
   ]
  },
  {
   "cell_type": "code",
   "execution_count": 3,
   "metadata": {},
   "outputs": [
    {
     "ename": "TypeError",
     "evalue": "unsupported operand type(s) for +: 'B' and 'int'",
     "output_type": "error",
     "traceback": [
      "\u001b[1;31m---------------------------------------------------------------------------\u001b[0m",
      "\u001b[1;31mTypeError\u001b[0m                                 Traceback (most recent call last)",
      "Cell \u001b[1;32mIn[3], line 2\u001b[0m\n\u001b[0;32m      1\u001b[0m n \u001b[39m=\u001b[39m B(\u001b[39m40\u001b[39m)\n\u001b[1;32m----> 2\u001b[0m \u001b[39mprint\u001b[39m(n\u001b[39m+\u001b[39;49m\u001b[39m1\u001b[39;49m)\n",
      "\u001b[1;31mTypeError\u001b[0m: unsupported operand type(s) for +: 'B' and 'int'"
     ]
    }
   ],
   "source": [
    "n = B(40)\n",
    "print(n+1)"
   ]
  },
  {
   "cell_type": "code",
   "execution_count": 11,
   "metadata": {},
   "outputs": [],
   "source": [
    "class C:\n",
    "    \n",
    "    def __init__(self, i):\n",
    "        self.i = i\n",
    "        \n",
    "    def __add__(self, other):\n",
    "        return self.i + other"
   ]
  },
  {
   "cell_type": "code",
   "execution_count": 12,
   "metadata": {},
   "outputs": [
    {
     "ename": "TypeError",
     "evalue": "unsupported operand type(s) for +: 'C' and 'int'",
     "output_type": "error",
     "traceback": [
      "\u001b[1;31m---------------------------------------------------------------------------\u001b[0m",
      "\u001b[1;31mTypeError\u001b[0m                                 Traceback (most recent call last)",
      "Cell \u001b[1;32mIn[12], line 2\u001b[0m\n\u001b[0;32m      1\u001b[0m n \u001b[39m=\u001b[39m C(\u001b[39m40\u001b[39m)\n\u001b[1;32m----> 2\u001b[0m \u001b[39mprint\u001b[39m(n\u001b[39m+\u001b[39;49m\u001b[39m1\u001b[39;49m)\n",
      "\u001b[1;31mTypeError\u001b[0m: unsupported operand type(s) for +: 'C' and 'int'"
     ]
    }
   ],
   "source": [
    "n = C(40)\n",
    "print(n+1)"
   ]
  },
  {
   "cell_type": "code",
   "execution_count": 16,
   "metadata": {},
   "outputs": [],
   "source": [
    "class MyInteger:\n",
    "\n",
    "    def __init__(self, i):\n",
    "        self.i = i\n",
    "    def __str__(self):\n",
    "        return str(self.i)\n",
    "    def __add__(self, other):\n",
    "        return self.i + other\n",
    "    def __sub__(self, other):\n",
    "        return self.i - other"
   ]
  },
  {
   "cell_type": "code",
   "execution_count": 17,
   "metadata": {},
   "outputs": [
    {
     "name": "stdout",
     "output_type": "stream",
     "text": [
      "10\n"
     ]
    }
   ],
   "source": [
    "i = MyInteger(10)\n",
    "print(str(i))"
   ]
  },
  {
   "cell_type": "code",
   "execution_count": 18,
   "metadata": {},
   "outputs": [
    {
     "name": "stdout",
     "output_type": "stream",
     "text": [
      "\n"
     ]
    }
   ],
   "source": [
    "i += 5\n",
    "print()"
   ]
  },
  {
   "cell_type": "code",
   "execution_count": 19,
   "metadata": {},
   "outputs": [
    {
     "name": "stdout",
     "output_type": "stream",
     "text": [
      "20\n"
     ]
    }
   ],
   "source": [
    "i = MyInteger(10)\n",
    "print(i+10)\n"
   ]
  },
  {
   "cell_type": "code",
   "execution_count": 44,
   "metadata": {},
   "outputs": [],
   "source": [
    "class MyInteger:\n",
    "\n",
    "    def __init__(self, i):\n",
    "        self.i = i\n",
    "    def __str__(self):\n",
    "        return str(self.i)\n",
    "    def __add__(self, other):\n",
    "        return self.i + other\n",
    "    def __sub__(self, other):\n",
    "        return self.i - other\n",
    "    def __radd__(self, other):\n",
    "        return self.i + other\n",
    "    def __rsub__(self, other):\n",
    "        return self.i - other"
   ]
  },
  {
   "cell_type": "code",
   "execution_count": 46,
   "metadata": {},
   "outputs": [
    {
     "name": "stdout",
     "output_type": "stream",
     "text": [
      "15\n",
      "20\n"
     ]
    }
   ],
   "source": [
    "i = MyInteger(10)\n",
    "print(i+5)\n",
    "print(10+i)"
   ]
  },
  {
   "cell_type": "code",
   "execution_count": 25,
   "metadata": {},
   "outputs": [],
   "source": [
    "class MyInteger:\n",
    "    def __init__(self, i):\n",
    "        self.i = i\n",
    "    def __gt__(self, other):\n",
    "        return self.i > other\n",
    "    def __ge__(self, other):\n",
    "        return self.i >= other\n",
    "    def __lt__(self, other):\n",
    "        return self.i < other\n",
    "    def __le__(self, other):\n",
    "        return self.i <= other\n",
    "    def __eq__(self, other):\n",
    "        return self.i == other\n",
    "    def __ne__(self, other):\n",
    "        return self.i != other"
   ]
  },
  {
   "cell_type": "code",
   "execution_count": 26,
   "metadata": {},
   "outputs": [
    {
     "name": "stdout",
     "output_type": "stream",
     "text": [
      "True\n",
      "True\n",
      "False\n",
      "False\n",
      "False\n",
      "True\n"
     ]
    }
   ],
   "source": [
    "c= MyInteger(10)\n",
    "print(c > 1)\n",
    "print(c >= 1)\n",
    "print(c < 1)\n",
    "print(c <= 1)\n",
    "print(c == 1)\n",
    "print(c != 1)"
   ]
  },
  {
   "cell_type": "code",
   "execution_count": 27,
   "metadata": {},
   "outputs": [
    {
     "name": "stdout",
     "output_type": "stream",
     "text": [
      "False\n",
      "False\n",
      "True\n",
      "True\n",
      "False\n",
      "True\n"
     ]
    }
   ],
   "source": [
    "c= MyInteger(10)\n",
    "d= MyInteger(20)\n",
    "print(c > d)\n",
    "print(c >= d)\n",
    "print(c < d)\n",
    "print(c <= d)\n",
    "print(c == d)\n",
    "print(c != d)"
   ]
  },
  {
   "cell_type": "code",
   "execution_count": 49,
   "metadata": {},
   "outputs": [],
   "source": [
    "class MyClass:\n",
    "    def __init__(self,end):\n",
    "        self.end =end\n",
    "    def __len__(self):\n",
    "        return self.end"
   ]
  },
  {
   "cell_type": "code",
   "execution_count": 50,
   "metadata": {},
   "outputs": [
    {
     "name": "stdout",
     "output_type": "stream",
     "text": [
      "10\n"
     ]
    }
   ],
   "source": [
    "s1 = MyClass(10)\n",
    "print(len(s1))"
   ]
  },
  {
   "cell_type": "code",
   "execution_count": 51,
   "metadata": {},
   "outputs": [
    {
     "ename": "TypeError",
     "evalue": "object of type 'int' has no len()",
     "output_type": "error",
     "traceback": [
      "\u001b[1;31m---------------------------------------------------------------------------\u001b[0m",
      "\u001b[1;31mTypeError\u001b[0m                                 Traceback (most recent call last)",
      "Cell \u001b[1;32mIn[51], line 2\u001b[0m\n\u001b[0;32m      1\u001b[0m s2 \u001b[39m=\u001b[39m \u001b[39m10\u001b[39m\n\u001b[1;32m----> 2\u001b[0m \u001b[39mprint\u001b[39m(\u001b[39mlen\u001b[39;49m(s2))\n",
      "\u001b[1;31mTypeError\u001b[0m: object of type 'int' has no len()"
     ]
    }
   ],
   "source": [
    "s2 = 10\n",
    "print(len(s2))"
   ]
  },
  {
   "cell_type": "code",
   "execution_count": 39,
   "metadata": {},
   "outputs": [],
   "source": [
    "class MyClass :\n",
    "    def __init__(self, end):\n",
    "        self.end = end\n",
    "    def __getitem__(self, k):\n",
    "        if k<0 or self.end <= k:\n",
    "            raise IndexError(\"Out of index :\"+str(k))\n",
    "        return k*k"
   ]
  },
  {
   "cell_type": "code",
   "execution_count": 42,
   "metadata": {},
   "outputs": [
    {
     "name": "stdout",
     "output_type": "stream",
     "text": [
      "0\n",
      "1\n",
      "4\n",
      "81\n",
      "[0, 1, 4, 9, 16, 25, 36, 49, 64, 81]\n",
      "(0, 1, 4, 9, 16, 25, 36, 49, 64, 81)\n"
     ]
    }
   ],
   "source": [
    "s1= MyClass(10)\n",
    "print(s1[0])\n",
    "print(s1[1])\n",
    "print(s1[2])\n",
    "print(s1[9])\n",
    "# print(s1[10])\n",
    "# print(s1[11])\n",
    "\n",
    "print(list(s1))\n",
    "print(tuple(s1))"
   ]
  }
 ],
 "metadata": {
  "kernelspec": {
   "display_name": "Python 3",
   "language": "python",
   "name": "python3"
  },
  "language_info": {
   "codemirror_mode": {
    "name": "ipython",
    "version": 3
   },
   "file_extension": ".py",
   "mimetype": "text/x-python",
   "name": "python",
   "nbconvert_exporter": "python",
   "pygments_lexer": "ipython3",
   "version": "3.11.2"
  },
  "orig_nbformat": 4,
  "vscode": {
   "interpreter": {
    "hash": "1682e5d06a6d97c1b1cf6bb4ae6cf16223e994936ddb1d53664597d7d46101fa"
   }
  }
 },
 "nbformat": 4,
 "nbformat_minor": 2
}
