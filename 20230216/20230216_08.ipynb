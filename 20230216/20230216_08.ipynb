{
 "cells": [
  {
   "attachments": {},
   "cell_type": "markdown",
   "metadata": {},
   "source": [
    "## 12.2 상속\n",
    "1) 상속의 의미\n",
    "- 사전적 의미 : 뒤를 이음, 친족관계가 있는 사람이 재산을 물려줌\n",
    "- 컴퓨터에서의 의미 : 클래스 속성과 메서드를 부모가 자식에게 물려주는 것\n",
    "\n",
    "class 부모 클래스:  \n",
    "&nbsp;&nbsp;실행할 코드\n",
    "\n",
    "class 자식 클래스(부모 클래스):  \n",
    "&nbsp;&nbsp;실행할 코드\n",
    "\n",
    "- 상속받은 자식 클래스는 부모 클래스의 속성과 메서드를 사용할 수 있음\n",
    " -> 자식 클래스의 이름 공간에 부모 클래스의 이름 공간이 포함\n",
    "\n",
    "* 상속의 이유\n",
    "1. 코드를 재사용 할 수 있음\n",
    "2. 상속 받은 자식클래스는 부모 클래스의 모든 기능을 그대로 사용 가능\n",
    "3. 자식 클래스는 필요한 기능만 정리하거나, 기존의 기능을 변경(overriding) 할 수 있음\n",
    "2) 메서드 오버라이딩\n",
    "- 사전적 의미 : 최우선시되는, 기각하다\n",
    "- 컴퓨터에서의 의미 : 메서드의 재정의\n",
    "- 자식 클래스에서 부모 클래스에 정의된 메서드를 재정의하여 대치하는 것\n",
    "\n",
    "## 12.3 다형성\n",
    "1) 다형성의 의미\n",
    "- 다른 클래스에 속한 같은 이름의 인스턴스들이 동일한 메서드 이름으로 호출한 경우 동적으로 선택되어 수행\n",
    "- 다양한 형태를 가질 수 있음\n",
    "2) 다형성의 장점\n",
    "- 다른 클래스에 속한 같은 이름의 다양한 메서드들에게 유사한 작업을 수행시킬 수 있음\n",
    "- 추상클래스를 상속하는 다른 서브클래스 내에 작성된 같은 이름의 메서드를 다른 목적용으로 사용할 수 있음\n",
    "3) 파이썬에서 다형성의 장점\n",
    "- 자료형의 타입이 동적으로 결정되므로 다형성을 적용하기에 훨씬 용이함\n",
    "\n",
    "## 12.4 상속 관계 알아내기\n",
    "1) <font color =red>isinstance</font>(인스턴스, 클래스) : 해당 인스턴스가 해당 클래스에 속하면 True, 속하지 않으면 False\n",
    "2) <font color =red>issubclass</font>(A클래스, B클래스) : A 클래스가 B 클래스와 같거나 자식 클래스이면 True, 아니라면 False 반환"
   ]
  },
  {
   "cell_type": "code",
   "execution_count": 5,
   "metadata": {},
   "outputs": [],
   "source": [
    "class Person:\n",
    "\n",
    "    def __init__(self, name, phone=None):\n",
    "        self.name = name\n",
    "        self.phone = phone\n",
    "    def __str__(self):\n",
    "        return \"<Person {0} {1}>\".format(self.name, self.phone)\n",
    "class Employee(Person):\n",
    "    def __init__(self, name, phone, position, salary):\n",
    "        Person.__init__(self, name, phone)\n",
    "        self.position = position\n",
    "        self.salary = salary\n",
    "    def __str__(self):\n",
    "        return \"<Person {0} {1} {2} {3}>\".format(self.name, self.phone, self.position, self.salary)"
   ]
  },
  {
   "cell_type": "code",
   "execution_count": 6,
   "metadata": {},
   "outputs": [
    {
     "name": "stdout",
     "output_type": "stream",
     "text": [
      "라이언\n",
      "1234\n",
      "<Person 라이언 1234>\n",
      "\n",
      "어피치 5678 대리 300\n",
      "<Person 어피치 5678 대리 300>\n"
     ]
    }
   ],
   "source": [
    "p1 = Person(\"라이언\",1234)\n",
    "print(p1.name)\n",
    "print(p1.phone)\n",
    "print(p1)\n",
    "print()\n",
    "\n",
    "m1 = Employee(\"어피치\", 5678,\"대리\",300)\n",
    "print(m1.name, m1.phone, m1.position, m1.salary)\n",
    "print(m1)"
   ]
  },
  {
   "cell_type": "code",
   "execution_count": 7,
   "metadata": {},
   "outputs": [],
   "source": [
    "class Animal :\n",
    "    def cry(self):\n",
    "        return \"엉엉\"\n",
    "\n",
    "class Dog(Animal):\n",
    "    def cry(self, a,b):\n",
    "        return a*b\n",
    "\n",
    "class Duck(Animal):\n",
    "    def cry(self, a, b):\n",
    "        return a+b\n",
    "\n",
    "class Fish(Animal):\n",
    "    pass"
   ]
  },
  {
   "cell_type": "code",
   "execution_count": 8,
   "metadata": {},
   "outputs": [
    {
     "name": "stdout",
     "output_type": "stream",
     "text": [
      "멍멍멍멍멍멍\n",
      "7\n",
      "엉엉\n"
     ]
    }
   ],
   "source": [
    "a = Dog()\n",
    "b = Duck()\n",
    "c = Fish()\n",
    "\n",
    "print(a.cry(\"멍멍\",3))\n",
    "print(b.cry(4,3))\n",
    "print(c.cry())"
   ]
  },
  {
   "cell_type": "code",
   "execution_count": 12,
   "metadata": {},
   "outputs": [],
   "source": [
    "class A : \n",
    "    pass\n",
    "class B :\n",
    "    def f(self):\n",
    "        pass\n",
    "    \n",
    "class C(B):\n",
    "    pass"
   ]
  },
  {
   "cell_type": "code",
   "execution_count": 15,
   "metadata": {},
   "outputs": [
    {
     "name": "stdout",
     "output_type": "stream",
     "text": [
      "True\n",
      "False\n",
      "False\n"
     ]
    }
   ],
   "source": [
    "a = A()\n",
    "print(isinstance(a,A))\n",
    "print(isinstance(A,B))\n",
    "print(isinstance(C,B))\n",
    "#수정\n"
   ]
  }
 ],
 "metadata": {
  "kernelspec": {
   "display_name": "Python 3",
   "language": "python",
   "name": "python3"
  },
  "language_info": {
   "codemirror_mode": {
    "name": "ipython",
    "version": 3
   },
   "file_extension": ".py",
   "mimetype": "text/x-python",
   "name": "python",
   "nbconvert_exporter": "python",
   "pygments_lexer": "ipython3",
   "version": "3.11.2"
  },
  "orig_nbformat": 4,
  "vscode": {
   "interpreter": {
    "hash": "1682e5d06a6d97c1b1cf6bb4ae6cf16223e994936ddb1d53664597d7d46101fa"
   }
  }
 },
 "nbformat": 4,
 "nbformat_minor": 2
}
