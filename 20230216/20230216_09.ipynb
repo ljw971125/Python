{
 "cells": [
  {
   "attachments": {},
   "cell_type": "markdown",
   "metadata": {},
   "source": [
    "# 13.파이썬의 예외처리\n",
    "## 13.1 예외의 종류\n",
    "1) 프로그래밍 언어의 오류\n",
    "- 구문 오류(syntax Error)\n",
    "  - 프로그램 실행 전에 발생하는 오류\n",
    "  - 이클립스, 파이참 등 IDE 도구에서는 자동으로 실행전에 오류를 체크함\n",
    "- 논리적 오류(Logical Error) 혹은 런타임 오류(RunTime Error)\n",
    "  - 프로그램 실행 중에 발생하는 오류\n",
    "  - 문법적으로 틀린 것이 없으므로, 즉시 인식되지 않지만 의도치 않은 결과를 초래할 수 있음\n",
    "## 13.2 예외 처리 방법\n",
    "1) 조건문을 사용한 예외처리\n",
    "2) try, except 구문\n",
    "- 예외가 발생할 수 있는 상황을 예상하여 예외를 제어할 수 있음\n",
    "- try : (예외 발생 가능한) 일반적인 수행문들\n",
    "- except : 예외가 발생하였을 때 수행문\n",
    "\n",
    "\n",
    "* 프로그램 실행에 치명적이지 않은 오류지만, 오류로 인해 프로그램 실행이 멈추는 것을 방지하려면?\n",
    "- 예외를 그냥 넘어가고 싶은 경우 <font color=red>pass</font> 키워드 사용\n",
    "\n",
    "3) try, except, else 구문\n",
    "-try, except 뒤에 else를 붙여서 사용하면, 예외가 발생하지 않았을 때 실행할 코드를 지정할 수 있다\n",
    "  - 예외가 발생할 수 있는 코드만 try에 넣어서 활용(가독성, 유지보수 향상)\n",
    "4) try, except, else, finally 구문\n",
    "try, except, else 뒤에 finally를 붙여서 사용하면, 예외 발생 유무에 관계없이 실행되는 코드를 작성할 수 있음"
   ]
  },
  {
   "cell_type": "code",
   "execution_count": 1,
   "metadata": {},
   "outputs": [
    {
     "ename": "SyntaxError",
     "evalue": "incomplete input (2702398236.py, line 1)",
     "output_type": "error",
     "traceback": [
      "\u001b[1;36m  Cell \u001b[1;32mIn[1], line 1\u001b[1;36m\u001b[0m\n\u001b[1;33m    print(1\u001b[0m\n\u001b[1;37m           ^\u001b[0m\n\u001b[1;31mSyntaxError\u001b[0m\u001b[1;31m:\u001b[0m incomplete input\n"
     ]
    }
   ],
   "source": [
    "print(1 #syntax Error)"
   ]
  },
  {
   "cell_type": "code",
   "execution_count": 2,
   "metadata": {},
   "outputs": [
    {
     "ename": "ZeroDivisionError",
     "evalue": "division by zero",
     "output_type": "error",
     "traceback": [
      "\u001b[1;31m---------------------------------------------------------------------------\u001b[0m",
      "\u001b[1;31mZeroDivisionError\u001b[0m                         Traceback (most recent call last)",
      "Cell \u001b[1;32mIn[2], line 3\u001b[0m\n\u001b[0;32m      1\u001b[0m a \u001b[39m=\u001b[39m \u001b[39m10\u001b[39m\n\u001b[0;32m      2\u001b[0m b \u001b[39m=\u001b[39m \u001b[39m0\u001b[39m\n\u001b[1;32m----> 3\u001b[0m c \u001b[39m=\u001b[39m a \u001b[39m/\u001b[39;49m b\n",
      "\u001b[1;31mZeroDivisionError\u001b[0m: division by zero"
     ]
    }
   ],
   "source": [
    "a = 10\n",
    "b = 0\n",
    "c = a / b"
   ]
  },
  {
   "cell_type": "code",
   "execution_count": 3,
   "metadata": {},
   "outputs": [
    {
     "ename": "NameError",
     "evalue": "name 'new' is not defined",
     "output_type": "error",
     "traceback": [
      "\u001b[1;31m---------------------------------------------------------------------------\u001b[0m",
      "\u001b[1;31mNameError\u001b[0m                                 Traceback (most recent call last)",
      "Cell \u001b[1;32mIn[3], line 1\u001b[0m\n\u001b[1;32m----> 1\u001b[0m \u001b[39m4\u001b[39m \u001b[39m+\u001b[39m new \u001b[39m*\u001b[39m \u001b[39m3\u001b[39m\n",
      "\u001b[1;31mNameError\u001b[0m: name 'new' is not defined"
     ]
    }
   ],
   "source": [
    "4 + new * 3"
   ]
  },
  {
   "cell_type": "code",
   "execution_count": 4,
   "metadata": {},
   "outputs": [
    {
     "ename": "TypeError",
     "evalue": "can only concatenate str (not \"int\") to str",
     "output_type": "error",
     "traceback": [
      "\u001b[1;31m---------------------------------------------------------------------------\u001b[0m",
      "\u001b[1;31mTypeError\u001b[0m                                 Traceback (most recent call last)",
      "Cell \u001b[1;32mIn[4], line 1\u001b[0m\n\u001b[1;32m----> 1\u001b[0m \u001b[39mprint\u001b[39m(\u001b[39m'\u001b[39;49m\u001b[39m2\u001b[39;49m\u001b[39m'\u001b[39;49m\u001b[39m+\u001b[39;49m\u001b[39m2\u001b[39;49m)\n",
      "\u001b[1;31mTypeError\u001b[0m: can only concatenate str (not \"int\") to str"
     ]
    }
   ],
   "source": [
    "print('2'+2)"
   ]
  },
  {
   "cell_type": "code",
   "execution_count": 7,
   "metadata": {},
   "outputs": [
    {
     "ename": "IndexError",
     "evalue": "list index out of range",
     "output_type": "error",
     "traceback": [
      "\u001b[1;31m---------------------------------------------------------------------------\u001b[0m",
      "\u001b[1;31mIndexError\u001b[0m                                Traceback (most recent call last)",
      "Cell \u001b[1;32mIn[7], line 2\u001b[0m\n\u001b[0;32m      1\u001b[0m list1 \u001b[39m=\u001b[39m [\u001b[39m1\u001b[39m,\u001b[39m2\u001b[39m]\n\u001b[1;32m----> 2\u001b[0m \u001b[39mprint\u001b[39m(list1[\u001b[39m2\u001b[39;49m])\n",
      "\u001b[1;31mIndexError\u001b[0m: list index out of range"
     ]
    }
   ],
   "source": [
    "list1 = [1,2]\n",
    "print(list1[2])"
   ]
  },
  {
   "cell_type": "code",
   "execution_count": 8,
   "metadata": {},
   "outputs": [
    {
     "ename": "KeyError",
     "evalue": "'c'",
     "output_type": "error",
     "traceback": [
      "\u001b[1;31m---------------------------------------------------------------------------\u001b[0m",
      "\u001b[1;31mKeyError\u001b[0m                                  Traceback (most recent call last)",
      "Cell \u001b[1;32mIn[8], line 2\u001b[0m\n\u001b[0;32m      1\u001b[0m dict1 \u001b[39m=\u001b[39m {\u001b[39m'\u001b[39m\u001b[39ma\u001b[39m\u001b[39m'\u001b[39m:\u001b[39m1\u001b[39m, \u001b[39m'\u001b[39m\u001b[39mb\u001b[39m\u001b[39m'\u001b[39m:\u001b[39m2\u001b[39m}\n\u001b[1;32m----> 2\u001b[0m \u001b[39mprint\u001b[39m(dict1[\u001b[39m'\u001b[39;49m\u001b[39mc\u001b[39;49m\u001b[39m'\u001b[39;49m])\n",
      "\u001b[1;31mKeyError\u001b[0m: 'c'"
     ]
    }
   ],
   "source": [
    "dict1 = {'a':1, 'b':2}\n",
    "print(dict1['c'])"
   ]
  },
  {
   "cell_type": "code",
   "execution_count": 10,
   "metadata": {},
   "outputs": [
    {
     "ename": "ValueError",
     "evalue": "could not convert string to float: '가나'",
     "output_type": "error",
     "traceback": [
      "\u001b[1;31m---------------------------------------------------------------------------\u001b[0m",
      "\u001b[1;31mValueError\u001b[0m                                Traceback (most recent call last)",
      "Cell \u001b[1;32mIn[10], line 2\u001b[0m\n\u001b[0;32m      1\u001b[0m num \u001b[39m=\u001b[39m \u001b[39minput\u001b[39m(\u001b[39m\"\u001b[39m\u001b[39m정수 입력: \u001b[39m\u001b[39m\"\u001b[39m)\n\u001b[1;32m----> 2\u001b[0m num \u001b[39m=\u001b[39m \u001b[39mfloat\u001b[39;49m(num)\n\u001b[0;32m      3\u001b[0m \u001b[39mprint\u001b[39m(\u001b[39m\"\u001b[39m\u001b[39m반지름 :\u001b[39m\u001b[39m\"\u001b[39m, num)\n\u001b[0;32m      4\u001b[0m \u001b[39mprint\u001b[39m(\u001b[39m\"\u001b[39m\u001b[39m둘레 :\u001b[39m\u001b[39m\"\u001b[39m, \u001b[39m2\u001b[39m\u001b[39m*\u001b[39m\u001b[39m3.14\u001b[39m\u001b[39m*\u001b[39mnum)\n",
      "\u001b[1;31mValueError\u001b[0m: could not convert string to float: '가나'"
     ]
    }
   ],
   "source": [
    "num = input(\"정수 입력: \")\n",
    "num = float(num)\n",
    "print(\"반지름 :\", num)\n",
    "print(\"둘레 :\", 2*3.14*num)\n",
    "print(\"넓이 :\",3.14*num*num)"
   ]
  },
  {
   "cell_type": "code",
   "execution_count": 11,
   "metadata": {},
   "outputs": [
    {
     "name": "stdout",
     "output_type": "stream",
     "text": [
      "예외 처리 되었습니다.\n"
     ]
    }
   ],
   "source": [
    "num = input(\"정수 입력: \")\n",
    "if num.isdigit():\n",
    "    num = float(num)\n",
    "    print(\"반지름 :\", num)\n",
    "    print(\"둘레 :\", 2*3.14*num)\n",
    "    print(\"넓이 :\",3.14*num*num)    \n",
    "else :\n",
    "    print(\"예외 처리 되었습니다.\")"
   ]
  },
  {
   "cell_type": "code",
   "execution_count": 12,
   "metadata": {},
   "outputs": [
    {
     "name": "stdout",
     "output_type": "stream",
     "text": [
      "예외발생!!\n"
     ]
    }
   ],
   "source": [
    "num = input(\"정수 입력: \")\n",
    "try :\n",
    "    num = float(num)\n",
    "    print(\"반지름 :\", num)\n",
    "    print(\"둘레 :\", 2*3.14*num)\n",
    "    print(\"넓이 :\",3.14*num*num)  \n",
    "except : \n",
    "    print(\"예외발생!!\")    "
   ]
  },
  {
   "cell_type": "code",
   "execution_count": 14,
   "metadata": {},
   "outputs": [
    {
     "name": "stdout",
     "output_type": "stream",
     "text": [
      "[3, 4, 7, 9]\n"
     ]
    }
   ],
   "source": [
    "num = ['3',\"안녕하세요\",'4',7 , 9, \"python\"]\n",
    "digit_num = []\n",
    "for i in num:\n",
    "    try:\n",
    "        digit_num.append(int(i))\n",
    "    except:\n",
    "        pass\n",
    "print(digit_num)"
   ]
  },
  {
   "cell_type": "code",
   "execution_count": 16,
   "metadata": {},
   "outputs": [
    {
     "name": "stdout",
     "output_type": "stream",
     "text": [
      "예외발생!!\n"
     ]
    }
   ],
   "source": [
    "num = input(\"정수 입력: \")\n",
    "try :\n",
    "    num = float(num)\n",
    "except : \n",
    "    print(\"예외발생!!\")  \n",
    "else :  \n",
    "    print(\"반지름 :\", num)\n",
    "    print(\"둘레 :\", 2*3.14*num)\n",
    "    print(\"넓이 :\",3.14*num*num)  "
   ]
  },
  {
   "cell_type": "code",
   "execution_count": 17,
   "metadata": {},
   "outputs": [
    {
     "name": "stdout",
     "output_type": "stream",
     "text": [
      "예외발생!!\n",
      "프로그램 종료\n"
     ]
    }
   ],
   "source": [
    "num = input(\"정수 입력: \")\n",
    "try :\n",
    "    num = float(num)\n",
    "except : \n",
    "    print(\"예외발생!!\")  \n",
    "else :  \n",
    "    print(\"반지름 :\", num)\n",
    "    print(\"둘레 :\", 2*3.14*num)\n",
    "    print(\"넓이 :\",3.14*num*num)  \n",
    "finally:\n",
    "    print(\"프로그램 종료\")"
   ]
  }
 ],
 "metadata": {
  "kernelspec": {
   "display_name": "Python 3",
   "language": "python",
   "name": "python3"
  },
  "language_info": {
   "codemirror_mode": {
    "name": "ipython",
    "version": 3
   },
   "file_extension": ".py",
   "mimetype": "text/x-python",
   "name": "python",
   "nbconvert_exporter": "python",
   "pygments_lexer": "ipython3",
   "version": "3.11.2"
  },
  "orig_nbformat": 4,
  "vscode": {
   "interpreter": {
    "hash": "1682e5d06a6d97c1b1cf6bb4ae6cf16223e994936ddb1d53664597d7d46101fa"
   }
  }
 },
 "nbformat": 4,
 "nbformat_minor": 2
}
