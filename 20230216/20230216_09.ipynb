{
 "cells": [
  {
   "attachments": {},
   "cell_type": "markdown",
   "metadata": {},
   "source": [
    "# 13.파이썬의 예외처리\n",
    "\n",
    "## 13.1 예외의 종류\n",
    "1) 프로그래밍 언어의 오류\n",
    "- 구문 오류(syntax Error)\n",
    "  - 프로그램 실행 전에 발생하는 오류\n",
    "  - 이클립스, 파이참 등 IDE 도구에서는 자동으로 실행전에 오류를 체크함\n",
    "- 논리적 오류(Logical Error) 혹은 런타임 오류(RunTime Error)\n",
    "  - 프로그램 실행 중에 발생하는 오류\n",
    "  - 문법적으로 틀린 것이 없으므로, 즉시 인식되지 않지만 의도치 않은 결과를 초래할 수 있음\n",
    "\n",
    "## 13.2 예외 처리 방법\n",
    "1) 조건문을 사용한 예외처리\n",
    "2) try, except 구문\n",
    "- 예외가 발생할 수 있는 상황을 예상하여 예외를 제어할 수 있음\n",
    "- try : (예외 발생 가능한) 일반적인 수행문들\n",
    "- except : 예외가 발생하였을 때 수행문\n",
    "\n",
    "\n",
    "* 프로그램 실행에 치명적이지 않은 오류지만, 오류로 인해 프로그램 실행이 멈추는 것을 방지하려면?\n",
    "- 예외를 그냥 넘어가고 싶은 경우 <font color=red>pass</font> 키워드 사용\n",
    "\n",
    "3) try, except, else 구문\n",
    "-try, except 뒤에 else를 붙여서 사용하면, 예외가 발생하지 않았을 때 실행할 코드를 지정할 수 있다\n",
    "  - 예외가 발생할 수 있는 코드만 try에 넣어서 활용(가독성, 유지보수 향상)\n",
    "4) try, except, else, finally 구문\n",
    "try, except, else 뒤에 finally를 붙여서 사용하면, 예외 발생 유무에 관계없이 실행되는 코드를 작성할 수 있음\n",
    "5) 규칙\n",
    "- try 구문은 단독으로 사용할 수 없다.\n",
    "- else 구문은 반드시 except 구문 뒤에 와야 함\n",
    "\n",
    "**아래 조합 외에는 오류 발생**\n",
    "- try +except\n",
    "- try +except + else\n",
    "- try +except + finally\n",
    "- try +except + else + finally\n",
    "- try + finally\n",
    "\n",
    "## 13.3 예외 객체\n",
    "- 예외가 발생하면, 예외와 관련된 정보가 생성(예외 객체로 활용 가능)\n",
    "- try :(예외 발생 가능한) 일반적인 수행문들\n",
    "- <font color = red>except</font> :예외의 종류 <font color = red>as</font> 예외 객체를 활용할 변수\n",
    "- 예외가 발생했을 때 수행문들\n",
    "\n",
    "**예외의 종류를 모르겠다면, exception(모든 예외 포함)**\n",
    "\n",
    "## 13.4 예외 구분\n",
    "- 예외 객체를 활용해 조건문처럼 예외 종류에 따라 다른 코딩을 할 수 있음\n",
    "- try : (예외 발생 가능한) 일반적인 수행문들\n",
    "- except 예외 종류 A : 예외가 발생했을 때 수행문\n",
    "- except 예외 종류 B : 예외가 발생했을 때 수행문\n",
    "- except 예외 종류 C : 예외가 발생했을 때 수행문\n",
    "\n",
    "## 13.5 예외 구분의 잘못된 예\n",
    "**예외 처리의 순서(예외의 포함 관계)**\n",
    "Arithmetic(발생시) > ZeroDivision(발생x) (상위개념)\n",
    "\n",
    "## 13.6 강제로 예외 발생시키기\n",
    "- raise 예외종류(메시지)\n",
    "1. 사용자 정의 클래스로 만들 때(연산자 오버로딩 등)\n",
    "2. 아직 구현이 덜 된 코드\n",
    "3. 그 외 문법적으로는 정상적인 코드지만 예외 처리가 필요한 경우"
   ]
  },
  {
   "cell_type": "code",
   "execution_count": 1,
   "metadata": {},
   "outputs": [
    {
     "ename": "SyntaxError",
     "evalue": "incomplete input (2702398236.py, line 1)",
     "output_type": "error",
     "traceback": [
      "\u001b[1;36m  Cell \u001b[1;32mIn[1], line 1\u001b[1;36m\u001b[0m\n\u001b[1;33m    print(1\u001b[0m\n\u001b[1;37m           ^\u001b[0m\n\u001b[1;31mSyntaxError\u001b[0m\u001b[1;31m:\u001b[0m incomplete input\n"
     ]
    }
   ],
   "source": [
    "print(1 #syntax Error)"
   ]
  },
  {
   "cell_type": "code",
   "execution_count": 2,
   "metadata": {},
   "outputs": [
    {
     "ename": "ZeroDivisionError",
     "evalue": "division by zero",
     "output_type": "error",
     "traceback": [
      "\u001b[1;31m---------------------------------------------------------------------------\u001b[0m",
      "\u001b[1;31mZeroDivisionError\u001b[0m                         Traceback (most recent call last)",
      "Cell \u001b[1;32mIn[2], line 3\u001b[0m\n\u001b[0;32m      1\u001b[0m a \u001b[39m=\u001b[39m \u001b[39m10\u001b[39m\n\u001b[0;32m      2\u001b[0m b \u001b[39m=\u001b[39m \u001b[39m0\u001b[39m\n\u001b[1;32m----> 3\u001b[0m c \u001b[39m=\u001b[39m a \u001b[39m/\u001b[39;49m b\n",
      "\u001b[1;31mZeroDivisionError\u001b[0m: division by zero"
     ]
    }
   ],
   "source": [
    "a = 10\n",
    "b = 0\n",
    "c = a / b"
   ]
  },
  {
   "cell_type": "code",
   "execution_count": 3,
   "metadata": {},
   "outputs": [
    {
     "ename": "NameError",
     "evalue": "name 'new' is not defined",
     "output_type": "error",
     "traceback": [
      "\u001b[1;31m---------------------------------------------------------------------------\u001b[0m",
      "\u001b[1;31mNameError\u001b[0m                                 Traceback (most recent call last)",
      "Cell \u001b[1;32mIn[3], line 1\u001b[0m\n\u001b[1;32m----> 1\u001b[0m \u001b[39m4\u001b[39m \u001b[39m+\u001b[39m new \u001b[39m*\u001b[39m \u001b[39m3\u001b[39m\n",
      "\u001b[1;31mNameError\u001b[0m: name 'new' is not defined"
     ]
    }
   ],
   "source": [
    "4 + new * 3"
   ]
  },
  {
   "cell_type": "code",
   "execution_count": 4,
   "metadata": {},
   "outputs": [
    {
     "ename": "TypeError",
     "evalue": "can only concatenate str (not \"int\") to str",
     "output_type": "error",
     "traceback": [
      "\u001b[1;31m---------------------------------------------------------------------------\u001b[0m",
      "\u001b[1;31mTypeError\u001b[0m                                 Traceback (most recent call last)",
      "Cell \u001b[1;32mIn[4], line 1\u001b[0m\n\u001b[1;32m----> 1\u001b[0m \u001b[39mprint\u001b[39m(\u001b[39m'\u001b[39;49m\u001b[39m2\u001b[39;49m\u001b[39m'\u001b[39;49m\u001b[39m+\u001b[39;49m\u001b[39m2\u001b[39;49m)\n",
      "\u001b[1;31mTypeError\u001b[0m: can only concatenate str (not \"int\") to str"
     ]
    }
   ],
   "source": [
    "print('2'+2)"
   ]
  },
  {
   "cell_type": "code",
   "execution_count": 7,
   "metadata": {},
   "outputs": [
    {
     "ename": "IndexError",
     "evalue": "list index out of range",
     "output_type": "error",
     "traceback": [
      "\u001b[1;31m---------------------------------------------------------------------------\u001b[0m",
      "\u001b[1;31mIndexError\u001b[0m                                Traceback (most recent call last)",
      "Cell \u001b[1;32mIn[7], line 2\u001b[0m\n\u001b[0;32m      1\u001b[0m list1 \u001b[39m=\u001b[39m [\u001b[39m1\u001b[39m,\u001b[39m2\u001b[39m]\n\u001b[1;32m----> 2\u001b[0m \u001b[39mprint\u001b[39m(list1[\u001b[39m2\u001b[39;49m])\n",
      "\u001b[1;31mIndexError\u001b[0m: list index out of range"
     ]
    }
   ],
   "source": [
    "list1 = [1,2]\n",
    "print(list1[2])"
   ]
  },
  {
   "cell_type": "code",
   "execution_count": 8,
   "metadata": {},
   "outputs": [
    {
     "ename": "KeyError",
     "evalue": "'c'",
     "output_type": "error",
     "traceback": [
      "\u001b[1;31m---------------------------------------------------------------------------\u001b[0m",
      "\u001b[1;31mKeyError\u001b[0m                                  Traceback (most recent call last)",
      "Cell \u001b[1;32mIn[8], line 2\u001b[0m\n\u001b[0;32m      1\u001b[0m dict1 \u001b[39m=\u001b[39m {\u001b[39m'\u001b[39m\u001b[39ma\u001b[39m\u001b[39m'\u001b[39m:\u001b[39m1\u001b[39m, \u001b[39m'\u001b[39m\u001b[39mb\u001b[39m\u001b[39m'\u001b[39m:\u001b[39m2\u001b[39m}\n\u001b[1;32m----> 2\u001b[0m \u001b[39mprint\u001b[39m(dict1[\u001b[39m'\u001b[39;49m\u001b[39mc\u001b[39;49m\u001b[39m'\u001b[39;49m])\n",
      "\u001b[1;31mKeyError\u001b[0m: 'c'"
     ]
    }
   ],
   "source": [
    "dict1 = {'a':1, 'b':2}\n",
    "print(dict1['c'])"
   ]
  },
  {
   "cell_type": "code",
   "execution_count": 10,
   "metadata": {},
   "outputs": [
    {
     "ename": "ValueError",
     "evalue": "could not convert string to float: '가나'",
     "output_type": "error",
     "traceback": [
      "\u001b[1;31m---------------------------------------------------------------------------\u001b[0m",
      "\u001b[1;31mValueError\u001b[0m                                Traceback (most recent call last)",
      "Cell \u001b[1;32mIn[10], line 2\u001b[0m\n\u001b[0;32m      1\u001b[0m num \u001b[39m=\u001b[39m \u001b[39minput\u001b[39m(\u001b[39m\"\u001b[39m\u001b[39m정수 입력: \u001b[39m\u001b[39m\"\u001b[39m)\n\u001b[1;32m----> 2\u001b[0m num \u001b[39m=\u001b[39m \u001b[39mfloat\u001b[39;49m(num)\n\u001b[0;32m      3\u001b[0m \u001b[39mprint\u001b[39m(\u001b[39m\"\u001b[39m\u001b[39m반지름 :\u001b[39m\u001b[39m\"\u001b[39m, num)\n\u001b[0;32m      4\u001b[0m \u001b[39mprint\u001b[39m(\u001b[39m\"\u001b[39m\u001b[39m둘레 :\u001b[39m\u001b[39m\"\u001b[39m, \u001b[39m2\u001b[39m\u001b[39m*\u001b[39m\u001b[39m3.14\u001b[39m\u001b[39m*\u001b[39mnum)\n",
      "\u001b[1;31mValueError\u001b[0m: could not convert string to float: '가나'"
     ]
    }
   ],
   "source": [
    "num = input(\"정수 입력: \")\n",
    "num = float(num)\n",
    "print(\"반지름 :\", num)\n",
    "print(\"둘레 :\", 2*3.14*num)\n",
    "print(\"넓이 :\",3.14*num*num)"
   ]
  },
  {
   "cell_type": "code",
   "execution_count": 11,
   "metadata": {},
   "outputs": [
    {
     "name": "stdout",
     "output_type": "stream",
     "text": [
      "예외 처리 되었습니다.\n"
     ]
    }
   ],
   "source": [
    "num = input(\"정수 입력: \")\n",
    "if num.isdigit():\n",
    "    num = float(num)\n",
    "    print(\"반지름 :\", num)\n",
    "    print(\"둘레 :\", 2*3.14*num)\n",
    "    print(\"넓이 :\",3.14*num*num)    \n",
    "else :\n",
    "    print(\"예외 처리 되었습니다.\")"
   ]
  },
  {
   "cell_type": "code",
   "execution_count": 12,
   "metadata": {},
   "outputs": [
    {
     "name": "stdout",
     "output_type": "stream",
     "text": [
      "예외발생!!\n"
     ]
    }
   ],
   "source": [
    "num = input(\"정수 입력: \")\n",
    "try :\n",
    "    num = float(num)\n",
    "    print(\"반지름 :\", num)\n",
    "    print(\"둘레 :\", 2*3.14*num)\n",
    "    print(\"넓이 :\",3.14*num*num)  \n",
    "except : \n",
    "    print(\"예외발생!!\")    "
   ]
  },
  {
   "cell_type": "code",
   "execution_count": 14,
   "metadata": {},
   "outputs": [
    {
     "name": "stdout",
     "output_type": "stream",
     "text": [
      "[3, 4, 7, 9]\n"
     ]
    }
   ],
   "source": [
    "num = ['3',\"안녕하세요\",'4',7 , 9, \"python\"]\n",
    "digit_num = []\n",
    "for i in num:\n",
    "    try:\n",
    "        digit_num.append(int(i))\n",
    "    except:\n",
    "        pass\n",
    "print(digit_num)"
   ]
  },
  {
   "cell_type": "code",
   "execution_count": 16,
   "metadata": {},
   "outputs": [
    {
     "name": "stdout",
     "output_type": "stream",
     "text": [
      "예외발생!!\n"
     ]
    }
   ],
   "source": [
    "num = input(\"정수 입력: \")\n",
    "try :\n",
    "    num = float(num)\n",
    "except : \n",
    "    print(\"예외발생!!\")  \n",
    "else :  \n",
    "    print(\"반지름 :\", num)\n",
    "    print(\"둘레 :\", 2*3.14*num)\n",
    "    print(\"넓이 :\",3.14*num*num)  "
   ]
  },
  {
   "cell_type": "code",
   "execution_count": 17,
   "metadata": {},
   "outputs": [
    {
     "name": "stdout",
     "output_type": "stream",
     "text": [
      "예외발생!!\n",
      "프로그램 종료\n"
     ]
    }
   ],
   "source": [
    "num = input(\"정수 입력: \")\n",
    "try :\n",
    "    num = float(num)\n",
    "except : \n",
    "    print(\"예외발생!!\")  \n",
    "else :  \n",
    "    print(\"반지름 :\", num)\n",
    "    print(\"둘레 :\", 2*3.14*num)\n",
    "    print(\"넓이 :\",3.14*num*num)  \n",
    "finally:\n",
    "    print(\"프로그램 종료\")"
   ]
  },
  {
   "cell_type": "code",
   "execution_count": 2,
   "metadata": {},
   "outputs": [
    {
     "ename": "SyntaxError",
     "evalue": "expected 'except' or 'finally' block (3070277236.py, line 3)",
     "output_type": "error",
     "traceback": [
      "\u001b[1;36m  Cell \u001b[1;32mIn[2], line 3\u001b[1;36m\u001b[0m\n\u001b[1;33m    else :\u001b[0m\n\u001b[1;37m    ^\u001b[0m\n\u001b[1;31mSyntaxError\u001b[0m\u001b[1;31m:\u001b[0m expected 'except' or 'finally' block\n"
     ]
    }
   ],
   "source": [
    "try :\n",
    "    print(\"test\")\n",
    "else :\n",
    "    print(\"hello\")"
   ]
  },
  {
   "cell_type": "code",
   "execution_count": 10,
   "metadata": {},
   "outputs": [
    {
     "name": "stdout",
     "output_type": "stream",
     "text": [
      "ZeroDivisionError 발생\n",
      "float division by zero\n"
     ]
    }
   ],
   "source": [
    "num = 0.0\n",
    "try:\n",
    "    print(1.0/num)\n",
    "except ZeroDivisionError as msg :\n",
    "    print(\"ZeroDivisionError 발생\")\n",
    "    print(msg)"
   ]
  },
  {
   "cell_type": "code",
   "execution_count": 17,
   "metadata": {},
   "outputs": [
    {
     "name": "stdout",
     "output_type": "stream",
     "text": [
      "['1', 'Hello', '3', 5, 9, 'Python']\n",
      "리스트의 범위를 벗어 났습니다.\n"
     ]
    }
   ],
   "source": [
    "num = [\"1\", \"Hello\", \"3\", 5, 9, \"Python\"]\n",
    "print(num)\n",
    "try:\n",
    "    input_num =input(\"정수를 입력하세요.\")\n",
    "    input_num = int(input_num)\n",
    "    print(input_num, \"번 째 요소는 \", num[input_num],\"입니다.\")\n",
    "except ValueError :\n",
    "    print(\"정수를 입력하세요.\")\n",
    "except IndexError:\n",
    "    print(\"리스트의 범위를 벗어 났습니다.\")\n",
    "#ValueError \n",
    "#IndexError 범위초과"
   ]
  },
  {
   "cell_type": "code",
   "execution_count": 20,
   "metadata": {},
   "outputs": [
    {
     "name": "stdout",
     "output_type": "stream",
     "text": [
      "ArithmeticError\n"
     ]
    }
   ],
   "source": [
    "try:\n",
    "    print(1/0)\n",
    "except ArithmeticError :\n",
    "    print(\"ArithmeticError\") #ZeroDivision 보다 상위 에러\n",
    "except ZeroDivisionError :\n",
    "    print(\"ZeroDivisionError\")"
   ]
  },
  {
   "cell_type": "code",
   "execution_count": 23,
   "metadata": {},
   "outputs": [
    {
     "ename": "Exception",
     "evalue": "빨리 구현해 주세요!",
     "output_type": "error",
     "traceback": [
      "\u001b[1;31m---------------------------------------------------------------------------\u001b[0m",
      "\u001b[1;31mException\u001b[0m                                 Traceback (most recent call last)",
      "Cell \u001b[1;32mIn[23], line 4\u001b[0m\n\u001b[0;32m      1\u001b[0m input_num \u001b[39m=\u001b[39m \u001b[39mint\u001b[39m(\u001b[39minput\u001b[39m(\u001b[39m\"\u001b[39m\u001b[39m정수 입력 : \u001b[39m\u001b[39m\"\u001b[39m))\n\u001b[0;32m      3\u001b[0m \u001b[39mif\u001b[39;00m(input_num \u001b[39m>\u001b[39m \u001b[39m0\u001b[39m) :\n\u001b[1;32m----> 4\u001b[0m     \u001b[39mraise\u001b[39;00m \u001b[39mException\u001b[39;00m(\u001b[39m\"\u001b[39m\u001b[39m빨리 구현해 주세요!\u001b[39m\u001b[39m\"\u001b[39m)\n\u001b[0;32m      5\u001b[0m \u001b[39melse\u001b[39;00m :\n\u001b[0;32m      6\u001b[0m     \u001b[39mprint\u001b[39m(\u001b[39m\"\u001b[39m\u001b[39m음수입니다.\u001b[39m\u001b[39m\"\u001b[39m)\n",
      "\u001b[1;31mException\u001b[0m: 빨리 구현해 주세요!"
     ]
    }
   ],
   "source": [
    "input_num = int(input(\"정수 입력 : \"))\n",
    "\n",
    "if(input_num > 0) :\n",
    "    raise Exception(\"빨리 구현해 주세요!\") #에러 만들기\n",
    "else :\n",
    "    print(\"음수입니다.\")"
   ]
  },
  {
   "cell_type": "code",
   "execution_count": 25,
   "metadata": {},
   "outputs": [
    {
     "name": "stdout",
     "output_type": "stream",
     "text": [
      "['1', 'Hello', '3', 5, 9, 'Python']\n",
      "5 번 째 요소는  Python 입니다.\n",
      "파이썬 너무 재미있어요.\n",
      "파이썬 기초 수업을 마칩니다.\n"
     ]
    }
   ],
   "source": [
    "num = [\"1\", \"Hello\", \"3\", 5, 9, \"Python\"]\n",
    "print(num)\n",
    "try:\n",
    "    input_num =input(\"정수를 입력하세요.\")\n",
    "    input_num = int(input_num)\n",
    "    print(input_num, \"번 째 요소는 \", num[input_num],\"입니다.\")\n",
    "except ValueError as msg :\n",
    "    print(\"정수를 입력하세요.\")\n",
    "except IndexError as msg:\n",
    "    print(\"리스트의 범위를 벗어 났습니다.\")\n",
    "except Exception as msg:\n",
    "    print(\"예상하지 못한 오류가 발생했습니다.\")\n",
    "else :\n",
    "    print(\"파이썬 너무 재미있어요.\")\n",
    "finally:\n",
    "    print(\"파이썬 기초 수업을 마칩니다.\")"
   ]
  }
 ],
 "metadata": {
  "kernelspec": {
   "display_name": "Python 3",
   "language": "python",
   "name": "python3"
  },
  "language_info": {
   "codemirror_mode": {
    "name": "ipython",
    "version": 3
   },
   "file_extension": ".py",
   "mimetype": "text/x-python",
   "name": "python",
   "nbconvert_exporter": "python",
   "pygments_lexer": "ipython3",
   "version": "3.11.2"
  },
  "orig_nbformat": 4,
  "vscode": {
   "interpreter": {
    "hash": "1682e5d06a6d97c1b1cf6bb4ae6cf16223e994936ddb1d53664597d7d46101fa"
   }
  }
 },
 "nbformat": 4,
 "nbformat_minor": 2
}
