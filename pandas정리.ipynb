{
 "cells": [
  {
   "cell_type": "code",
   "execution_count": 21,
   "metadata": {},
   "outputs": [
    {
     "data": {
      "text/plain": [
       "[6, 7, 8, 9, 10]"
      ]
     },
     "execution_count": 21,
     "metadata": {},
     "output_type": "execute_result"
    }
   ],
   "source": [
    "import pandas as pd\n",
    "data=pd.Series([1,2,3,4,5])\n",
    "data\n",
    "data[0]\n",
    "data[0:3]\n",
    "#data[0,2,4] #오류\n",
    "data[[0,2,4]]\n",
    "\n",
    "data=pd.Series([[1,2,3,4,5],[6,7,8,9,10]])\n",
    "data\n",
    "data[0]\n",
    "#data[0,0] #오류 ,를 이용하여 특정인덱스 선택은 지원하지 않음\n",
    "data[0][0]\n",
    "data[1]\n",
    "data[0:2]\n",
    "data[0:2][0]"
   ]
  }
 ],
 "metadata": {
  "kernelspec": {
   "display_name": "Python 3",
   "language": "python",
   "name": "python3"
  },
  "language_info": {
   "codemirror_mode": {
    "name": "ipython",
    "version": 3
   },
   "file_extension": ".py",
   "mimetype": "text/x-python",
   "name": "python",
   "nbconvert_exporter": "python",
   "pygments_lexer": "ipython3",
   "version": "3.11.2"
  },
  "orig_nbformat": 4,
  "vscode": {
   "interpreter": {
    "hash": "1682e5d06a6d97c1b1cf6bb4ae6cf16223e994936ddb1d53664597d7d46101fa"
   }
  }
 },
 "nbformat": 4,
 "nbformat_minor": 2
}
