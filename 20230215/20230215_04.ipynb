{
 "cells": [
  {
   "attachments": {},
   "cell_type": "markdown",
   "metadata": {},
   "source": [
    "# 7. 파일 입출력\n",
    "1)정의\n",
    "- 파일을 열어서 텍스트를 읽고, 쓰고, 수정하는 방법\n",
    "1. open(디렉토리 경로 및 파일이름, 모드)\n",
    "  - 파일을 열 수 있음(파일 객체 반환)\n",
    "2. 읽기,쓰고, 수정하기\n",
    "3. close()\n",
    "  - 열어둔 파일을 닫을 수 있음\n",
    "* 파일 처리 후 close()를 통해 닫아주어야만 자원 점유를 해제하고 불필요한 오류 발생을 막을수 있음\n",
    "\n",
    "2) 파일 처리 모드의 종류\n",
    "1. r(읽기 모드)\n",
    "- 파일 객체를 읽기 모드로 생성\n",
    "- 파일의 처음 위치로 포인터를 이동\n",
    "2. w(쓰기 모드)\n",
    "- 파일을 쓰기 모드로 엶\n",
    "- 파일에 데이터를 쓰면 기존 파일의 내용은 모두 사라짐\n",
    "- 주어진 파일이 존재하지 않으면 새로운 파일을 만듦\n",
    "3. x(쓰기 전용)\n",
    "- 새 파일 쓰기 모드로 엶\n",
    "-주어진 이름의 파일 이름이 존재하면 에러 발생\n",
    "4. a(추가 모드)\n",
    "- 파일을 추가 모드로 엶\n",
    "- 기존 파일의 내용의 끝에 새 내용을 추가하여 기록한다.\n",
    "5. +(갱신 모드)\n",
    "- 파일을 읽기와 쓰기 모두 가능한 모드로 엶\n",
    "\n",
    "## 7.1 파일 쓰기\n",
    "1) 파일명으로 파일을 생성 후 <font color= red>write()</font> 함수를 활용해 내용 작성 가능\n",
    "  - 디렉토리 경로 없이 파일명만 적은 경우 현재 해당 파이썬이 실행되는 경로에 파일 생성\n",
    "2) 특정 경로에 파일을 생성하고 있을 때는 전체 경로 및 파일명 입력\n",
    "  - \\는 이스케이프 문자로 경로 설정시 주의~!!\n",
    "3) w모드일 경우 파일을 새로 생성하며, 기존에 파일이 있다면 덮어쓰기 때문에 기존 내용이 사라진다.\n",
    "4) 기존 파일에 새로운 내용을 추가하기 위해서는 <font color= red>a모드</font>를 사용\n",
    "  - 해당 파일명으로 파일이 없더라도 a모드로 생성 가능\n",
    "5) 새로운 파일을 쓰기 위해 <font color= red>x모드</font>도 사용 가능\n",
    "  - w모드와 기능은 똑같지만, x모드는 기존 파일이 있다면 오류 발생(덮어쓰기 방지)\n",
    "6) 여러 줄의 내용을 입력하기\n",
    "- 여러 줄 문자열 사용(따옴표 세 개)\n",
    "- 개행 문자(\\n) 사용\n",
    "7) 리스트, 튜플 등의 내용을 입력하기\n",
    "- <font color= red>writelines()</font> 함수 사용\n",
    "\n",
    "## 7.2 파일 읽기\n",
    "1) r모드로 파일 열기, read() 함수로 파일의 전체 내용 불러오기\n",
    "- 읽으려는 파일이 없으면 오류 발생\n",
    "2) readline() 함수로 파일의 내용을 한 줄씩 가져올 수 있다.\n",
    "- 더 이상 읽을 줄이 없다면 None()을 반환\n",
    "- while + if 제어문을 사용하여 모든 줄 출력 가능\n",
    "3) readlines() 함수로 파일의 내용을 리스트로 가져올 수 있음\n",
    "- 주로 반복문과 함께 사용해 한 줄씩 리스트의 요소로 가져와 활용\n",
    "\n",
    "## 7.3 다른 자료형의 파일 입출력\n",
    "1) 기존 파일 입출력은 단순 텍스트로만 파일로 입출력 가능\n",
    "- 다른 자료형의 객체 형태로 그대로 유지하면서 파일에 저장하기 위해 pickle 모듈 활용\n",
    "2) pickle 모듈로 파일을 저장할 때는 <font color= red>바이너리 형식</font>으로 입출력 해야 함(<font color= red>wb, rb</font> 모드)\n",
    "- 파이썬의 모든 객체들을 그대로 저장 가능\n",
    "\n",
    "## 7.4 파일 다루기\n",
    "- 시스템의 환경 변수, 디렉토리, 파일 등을 제어할 수 있는 파이썬의 OS 모듈을 활용\n",
    "1) listdir() 함수로 해당 디렉토리의 파일 목록 반환\n",
    "* ./ : 상대 경로로 현재 디렉토리를 의미\n",
    "* ../ : 부모(상위) 디렉토리 의미\n",
    "2) <font color= red>rename()</font> 함수로 파일의 이름 변경\n",
    "3) <font color= red>path.exists()</font> 함수로 파일의 존재 유무 확인\n",
    "4) path.abspath() 함수로 파일의 존재 유무와 관계없이 해당 파일의 절대 경로를 반환\n",
    "- 파일이 없어도 생성 가능하므로, 파일을 입력할 때 자주 활용  \n",
    "예) 모든 사용자가 특정위치에 해당 파일을 생성하도록 하고 싶은 경우\n",
    "5) path.basename(), dirname(), split() 함수로 해당 파일의 파일명과 경로명을 분리 반환\n",
    "- 파일명과 파일의 경로명을 따로 분리 가능\n",
    "- 환경마다 위치가 다를 경우 자주 활용  \n",
    "예) 모두 다른 경로에 있는 파일들의 목록을 가져오거나, 새로운 파일을 만들 경우\n",
    "6) path.splitdrive(), splitext() 함수로 해당 파일 경로의 드라이브, 확장자를 분리 반환\n",
    "- 저장된 드라이브가 다르거나 doc, docx처럼 확장자가 다를 경우 자주 활용"
   ]
  },
  {
   "cell_type": "code",
   "execution_count": 1,
   "metadata": {},
   "outputs": [],
   "source": [
    "f = open(\"a.txt\",\"w\")\n",
    "f.write(\"1234\")\n",
    "f.close()"
   ]
  },
  {
   "cell_type": "code",
   "execution_count": 2,
   "metadata": {},
   "outputs": [
    {
     "name": "stdout",
     "output_type": "stream",
     "text": [
      "c:\\Users\\admin\\Python_Study\\Python\\20230215\n"
     ]
    }
   ],
   "source": [
    "import os\n",
    "print(os.getcwd()) #작업 경로를 보여주는 함수"
   ]
  },
  {
   "cell_type": "code",
   "execution_count": 3,
   "metadata": {},
   "outputs": [
    {
     "ename": "SyntaxError",
     "evalue": "(unicode error) 'unicodeescape' codec can't decode bytes in position 2-3: truncated \\UXXXXXXXX escape (4079700818.py, line 1)",
     "output_type": "error",
     "traceback": [
      "\u001b[1;36m  Cell \u001b[1;32mIn[3], line 1\u001b[1;36m\u001b[0m\n\u001b[1;33m    f = open(\"c:\\Users\\admin\\Python_Study\\Python\\20230215\\a.txt\",\"w\")\u001b[0m\n\u001b[1;37m                                                                ^\u001b[0m\n\u001b[1;31mSyntaxError\u001b[0m\u001b[1;31m:\u001b[0m (unicode error) 'unicodeescape' codec can't decode bytes in position 2-3: truncated \\UXXXXXXXX escape\n"
     ]
    }
   ],
   "source": [
    "f = open(\"c:\\Users\\admin\\Python_Study\\Python\\20230215\\a.txt\",\"w\") # \\를 두개씩 써줘야함"
   ]
  },
  {
   "cell_type": "code",
   "execution_count": 4,
   "metadata": {},
   "outputs": [],
   "source": [
    "f = open(\"c:\\\\Users\\\\admin\\\\Python_Study\\\\Python\\\\20230215\\\\a.txt\",\"w\")"
   ]
  },
  {
   "cell_type": "code",
   "execution_count": 5,
   "metadata": {},
   "outputs": [],
   "source": [
    "f.close()"
   ]
  },
  {
   "cell_type": "code",
   "execution_count": 6,
   "metadata": {},
   "outputs": [],
   "source": [
    "f = open(\"a.txt\",\"w\")\n",
    "f.write(\"1234\")\n",
    "f.close()\n",
    "f = open(\"a.txt\",\"w\")\n",
    "f.write(\"5678\")\n",
    "f.close()"
   ]
  },
  {
   "cell_type": "code",
   "execution_count": 9,
   "metadata": {},
   "outputs": [],
   "source": [
    "f = open(\"a.txt\",\"w\")\n",
    "f.write(\"1234\")\n",
    "f.close()\n",
    "f = open(\"a.txt\",\"a\")\n",
    "f.write(\"5678\")\n",
    "f.close()"
   ]
  },
  {
   "cell_type": "code",
   "execution_count": 10,
   "metadata": {},
   "outputs": [],
   "source": [
    "f = open(\"b.txt\",\"x\")\n",
    "f.write(\"1234\")\n",
    "f.close()"
   ]
  },
  {
   "cell_type": "code",
   "execution_count": 11,
   "metadata": {},
   "outputs": [
    {
     "ename": "FileExistsError",
     "evalue": "[Errno 17] File exists: 'a.txt'",
     "output_type": "error",
     "traceback": [
      "\u001b[1;31m---------------------------------------------------------------------------\u001b[0m",
      "\u001b[1;31mFileExistsError\u001b[0m                           Traceback (most recent call last)",
      "Cell \u001b[1;32mIn[11], line 1\u001b[0m\n\u001b[1;32m----> 1\u001b[0m f \u001b[39m=\u001b[39m \u001b[39mopen\u001b[39;49m(\u001b[39m\"\u001b[39;49m\u001b[39ma.txt\u001b[39;49m\u001b[39m\"\u001b[39;49m,\u001b[39m\"\u001b[39;49m\u001b[39mx\u001b[39;49m\u001b[39m\"\u001b[39;49m)\n\u001b[0;32m      2\u001b[0m f\u001b[39m.\u001b[39mwrite(\u001b[39m\"\u001b[39m\u001b[39m1234\u001b[39m\u001b[39m\"\u001b[39m)\n\u001b[0;32m      3\u001b[0m f\u001b[39m.\u001b[39mclose()\n",
      "File \u001b[1;32m~\\AppData\\Roaming\\Python\\Python311\\site-packages\\IPython\\core\\interactiveshell.py:282\u001b[0m, in \u001b[0;36m_modified_open\u001b[1;34m(file, *args, **kwargs)\u001b[0m\n\u001b[0;32m    275\u001b[0m \u001b[39mif\u001b[39;00m file \u001b[39min\u001b[39;00m {\u001b[39m0\u001b[39m, \u001b[39m1\u001b[39m, \u001b[39m2\u001b[39m}:\n\u001b[0;32m    276\u001b[0m     \u001b[39mraise\u001b[39;00m \u001b[39mValueError\u001b[39;00m(\n\u001b[0;32m    277\u001b[0m         \u001b[39mf\u001b[39m\u001b[39m\"\u001b[39m\u001b[39mIPython won\u001b[39m\u001b[39m'\u001b[39m\u001b[39mt let you open fd=\u001b[39m\u001b[39m{\u001b[39;00mfile\u001b[39m}\u001b[39;00m\u001b[39m by default \u001b[39m\u001b[39m\"\u001b[39m\n\u001b[0;32m    278\u001b[0m         \u001b[39m\"\u001b[39m\u001b[39mas it is likely to crash IPython. If you know what you are doing, \u001b[39m\u001b[39m\"\u001b[39m\n\u001b[0;32m    279\u001b[0m         \u001b[39m\"\u001b[39m\u001b[39myou can use builtins\u001b[39m\u001b[39m'\u001b[39m\u001b[39m open.\u001b[39m\u001b[39m\"\u001b[39m\n\u001b[0;32m    280\u001b[0m     )\n\u001b[1;32m--> 282\u001b[0m \u001b[39mreturn\u001b[39;00m io_open(file, \u001b[39m*\u001b[39;49margs, \u001b[39m*\u001b[39;49m\u001b[39m*\u001b[39;49mkwargs)\n",
      "\u001b[1;31mFileExistsError\u001b[0m: [Errno 17] File exists: 'a.txt'"
     ]
    }
   ],
   "source": [
    "f = open(\"a.txt\",\"x\") #a파일이 이미 존재하기 때문에 오류\n",
    "f.write(\"1234\")\n",
    "f.close()"
   ]
  },
  {
   "cell_type": "code",
   "execution_count": 12,
   "metadata": {},
   "outputs": [],
   "source": [
    "f = open(\"c.txt\",\"w\")\n",
    "f.write(\"\"\"1234\n",
    "5678\"\"\")\n",
    "f.close()"
   ]
  },
  {
   "cell_type": "code",
   "execution_count": 13,
   "metadata": {},
   "outputs": [],
   "source": [
    "f = open(\"d.txt\",\"w\")\n",
    "f.write(\"1234\\n5678\")\n",
    "f.close()"
   ]
  },
  {
   "cell_type": "code",
   "execution_count": 14,
   "metadata": {},
   "outputs": [],
   "source": [
    "t1 = (\"1\",\"2\",\"3\",\"4\",\"\\n\")\n",
    "l1 = [\"5\",\"6\",\"7\",\"8\"]\n",
    "f = open(\"e.txt\",\"w\")\n",
    "f.writelines(t1)\n",
    "f.writelines(l1)\n",
    "f.close()"
   ]
  },
  {
   "cell_type": "code",
   "execution_count": 15,
   "metadata": {},
   "outputs": [
    {
     "name": "stdout",
     "output_type": "stream",
     "text": [
      "1234\n"
     ]
    }
   ],
   "source": [
    "f = open(\"f.txt\",'w')\n",
    "f.write(\"1234\")\n",
    "f.close()\n",
    "f = open(\"f.txt\",'r')\n",
    "print(f.read()) #전체읽기\n",
    "f.close()"
   ]
  },
  {
   "cell_type": "code",
   "execution_count": 16,
   "metadata": {},
   "outputs": [
    {
     "ename": "FileNotFoundError",
     "evalue": "[Errno 2] No such file or directory: 'g.txt'",
     "output_type": "error",
     "traceback": [
      "\u001b[1;31m---------------------------------------------------------------------------\u001b[0m",
      "\u001b[1;31mFileNotFoundError\u001b[0m                         Traceback (most recent call last)",
      "Cell \u001b[1;32mIn[16], line 1\u001b[0m\n\u001b[1;32m----> 1\u001b[0m f \u001b[39m=\u001b[39m \u001b[39mopen\u001b[39;49m(\u001b[39m\"\u001b[39;49m\u001b[39mg.txt\u001b[39;49m\u001b[39m\"\u001b[39;49m,\u001b[39m'\u001b[39;49m\u001b[39mr\u001b[39;49m\u001b[39m'\u001b[39;49m)\n\u001b[0;32m      2\u001b[0m \u001b[39mprint\u001b[39m(f\u001b[39m.\u001b[39mread())\n\u001b[0;32m      3\u001b[0m f\u001b[39m.\u001b[39mclose()\n",
      "File \u001b[1;32m~\\AppData\\Roaming\\Python\\Python311\\site-packages\\IPython\\core\\interactiveshell.py:282\u001b[0m, in \u001b[0;36m_modified_open\u001b[1;34m(file, *args, **kwargs)\u001b[0m\n\u001b[0;32m    275\u001b[0m \u001b[39mif\u001b[39;00m file \u001b[39min\u001b[39;00m {\u001b[39m0\u001b[39m, \u001b[39m1\u001b[39m, \u001b[39m2\u001b[39m}:\n\u001b[0;32m    276\u001b[0m     \u001b[39mraise\u001b[39;00m \u001b[39mValueError\u001b[39;00m(\n\u001b[0;32m    277\u001b[0m         \u001b[39mf\u001b[39m\u001b[39m\"\u001b[39m\u001b[39mIPython won\u001b[39m\u001b[39m'\u001b[39m\u001b[39mt let you open fd=\u001b[39m\u001b[39m{\u001b[39;00mfile\u001b[39m}\u001b[39;00m\u001b[39m by default \u001b[39m\u001b[39m\"\u001b[39m\n\u001b[0;32m    278\u001b[0m         \u001b[39m\"\u001b[39m\u001b[39mas it is likely to crash IPython. If you know what you are doing, \u001b[39m\u001b[39m\"\u001b[39m\n\u001b[0;32m    279\u001b[0m         \u001b[39m\"\u001b[39m\u001b[39myou can use builtins\u001b[39m\u001b[39m'\u001b[39m\u001b[39m open.\u001b[39m\u001b[39m\"\u001b[39m\n\u001b[0;32m    280\u001b[0m     )\n\u001b[1;32m--> 282\u001b[0m \u001b[39mreturn\u001b[39;00m io_open(file, \u001b[39m*\u001b[39;49margs, \u001b[39m*\u001b[39;49m\u001b[39m*\u001b[39;49mkwargs)\n",
      "\u001b[1;31mFileNotFoundError\u001b[0m: [Errno 2] No such file or directory: 'g.txt'"
     ]
    }
   ],
   "source": [
    "f = open(\"g.txt\",'r')\n",
    "print(f.read())\n",
    "f.close()"
   ]
  },
  {
   "cell_type": "code",
   "execution_count": 17,
   "metadata": {},
   "outputs": [],
   "source": [
    "t2 = (\"1\",\"2\",\"3\",\"4\",\"\\n\")\n",
    "l2 = [\"5\",\"6\",\"7\",\"8\"]\n",
    "f = open(\"g.txt\",\"w\")\n",
    "f.writelines(t2)\n",
    "f.writelines(l2)\n",
    "f.close()"
   ]
  },
  {
   "cell_type": "code",
   "execution_count": 18,
   "metadata": {},
   "outputs": [
    {
     "name": "stdout",
     "output_type": "stream",
     "text": [
      "1234\n",
      "\n",
      "5678\n"
     ]
    }
   ],
   "source": [
    "f = open(\"g.txt\",'r')\n",
    "print(f.readline())\n",
    "print(f.readline())\n",
    "f.close()"
   ]
  },
  {
   "cell_type": "code",
   "execution_count": 20,
   "metadata": {},
   "outputs": [
    {
     "name": "stdout",
     "output_type": "stream",
     "text": [
      "1234\n",
      "\n",
      "5678\n"
     ]
    }
   ],
   "source": [
    "f = open(\"g.txt\",'r') #빈 줄이 나올때까지 출력\n",
    "while True:\n",
    "    line = f.readline()\n",
    "    if not line:\n",
    "        break\n",
    "    print(line)\n",
    "f.close()"
   ]
  },
  {
   "cell_type": "code",
   "execution_count": 21,
   "metadata": {},
   "outputs": [
    {
     "name": "stdout",
     "output_type": "stream",
     "text": [
      "['1234\\n', '5678']\n"
     ]
    }
   ],
   "source": [
    "f = open(\"g.txt\",'r') #리스트 형태로 출력\n",
    "print(f.readlines())\n",
    "f.close()"
   ]
  },
  {
   "cell_type": "code",
   "execution_count": 22,
   "metadata": {},
   "outputs": [
    {
     "name": "stdout",
     "output_type": "stream",
     "text": [
      "[1,2,3]\n",
      "<class 'str'>\n"
     ]
    }
   ],
   "source": [
    "import sys\n",
    "f = open(\"h.txt\",'w')\n",
    "f.write(\"[1,2,3]\")\n",
    "f.close()\n",
    "f= open(\"h.txt\",'r')\n",
    "txt_file = f.read()\n",
    "f.close()\n",
    "\n",
    "print(txt_file)\n",
    "print(type(txt_file))"
   ]
  },
  {
   "cell_type": "code",
   "execution_count": 23,
   "metadata": {},
   "outputs": [
    {
     "name": "stdout",
     "output_type": "stream",
     "text": [
      "{'a':1,'b':2}\n",
      "<class 'str'>\n"
     ]
    }
   ],
   "source": [
    "f = open(\"i.txt\",'w')\n",
    "f.write(\"{'a':1,'b':2}\")\n",
    "f.close()\n",
    "f = open(\"i.txt\",'r')\n",
    "txt_file = f.read()\n",
    "f.close()\n",
    "print(txt_file)\n",
    "print(type(txt_file))"
   ]
  },
  {
   "cell_type": "code",
   "execution_count": 24,
   "metadata": {},
   "outputs": [],
   "source": [
    "import pickle\n",
    "f = open(\"j.txt\",'wb')\n",
    "data = {1:'python',2:'java'}\n",
    "pickle.dump(data,f)\n",
    "f.close()"
   ]
  },
  {
   "cell_type": "code",
   "execution_count": 25,
   "metadata": {},
   "outputs": [
    {
     "name": "stdout",
     "output_type": "stream",
     "text": [
      "{1: 'python', 2: 'java'}\n",
      "<class 'dict'>\n"
     ]
    }
   ],
   "source": [
    "f = open(\"j.txt\",'rb')\n",
    "data_read = pickle.load(f)\n",
    "f.close()\n",
    "print(data_read)\n",
    "print(type(data_read))"
   ]
  },
  {
   "cell_type": "code",
   "execution_count": 26,
   "metadata": {},
   "outputs": [
    {
     "name": "stdout",
     "output_type": "stream",
     "text": [
      "['20230215_01.ipynb', '20230215_02.ipynb', '20230215_03.ipynb', '20230215_04.ipynb', 'a.txt', 'b.txt', 'c.txt', 'd.txt', 'e.txt', 'f.txt', 'g.txt', 'h.txt', 'i.txt', 'j.txt']\n"
     ]
    }
   ],
   "source": [
    "import os\n",
    "print(os.listdir('.'))"
   ]
  },
  {
   "cell_type": "code",
   "execution_count": 27,
   "metadata": {},
   "outputs": [
    {
     "name": "stdout",
     "output_type": "stream",
     "text": [
      "['.git', '20230213', '20230214', '20230215', 'numpyex.ipynb', 'pandas.ipynb', '그래프.ipynb']\n"
     ]
    }
   ],
   "source": [
    "print(os.listdir('../'))"
   ]
  },
  {
   "cell_type": "code",
   "execution_count": 28,
   "metadata": {},
   "outputs": [
    {
     "name": "stdout",
     "output_type": "stream",
     "text": [
      "['20230215_01.ipynb', '20230215_02.ipynb', '20230215_03.ipynb', '20230215_04.ipynb', 'a.txt', 'b.txt', 'c.txt', 'd.txt', 'e.txt', 'f.txt', 'g.txt', 'h.txt', 'i.txt', 'j.txt']\n"
     ]
    }
   ],
   "source": [
    "# g.txt -> k.txt\n",
    "print(os.listdir('./'))"
   ]
  },
  {
   "cell_type": "code",
   "execution_count": 29,
   "metadata": {},
   "outputs": [],
   "source": [
    "os.rename(\"g.txt\",\"k.txt\")"
   ]
  },
  {
   "cell_type": "code",
   "execution_count": 30,
   "metadata": {},
   "outputs": [
    {
     "name": "stdout",
     "output_type": "stream",
     "text": [
      "['20230215_01.ipynb', '20230215_02.ipynb', '20230215_03.ipynb', '20230215_04.ipynb', 'a.txt', 'b.txt', 'c.txt', 'd.txt', 'e.txt', 'f.txt', 'h.txt', 'i.txt', 'j.txt', 'k.txt']\n"
     ]
    }
   ],
   "source": [
    "print(os.listdir('./'))"
   ]
  },
  {
   "cell_type": "code",
   "execution_count": 31,
   "metadata": {},
   "outputs": [
    {
     "name": "stdout",
     "output_type": "stream",
     "text": [
      "True\n"
     ]
    }
   ],
   "source": [
    "print(os.path.exists('k.txt'))"
   ]
  },
  {
   "cell_type": "code",
   "execution_count": 32,
   "metadata": {},
   "outputs": [
    {
     "name": "stdout",
     "output_type": "stream",
     "text": [
      "False\n"
     ]
    }
   ],
   "source": [
    "print(os.path.exists('l.txt'))"
   ]
  },
  {
   "cell_type": "code",
   "execution_count": 33,
   "metadata": {},
   "outputs": [
    {
     "name": "stdout",
     "output_type": "stream",
     "text": [
      "True\n",
      "c:\\Users\\admin\\Python_Study\\Python\\20230215\\a.txt\n"
     ]
    }
   ],
   "source": [
    "print(os.path.exists(\"a.txt\"))\n",
    "print(os.path.abspath(\"a.txt\"))"
   ]
  },
  {
   "cell_type": "code",
   "execution_count": 37,
   "metadata": {},
   "outputs": [],
   "source": [
    "f = open(os.path.abspath(\"l.txt\"),'w')\n",
    "f.write(\"1234\")\n",
    "f.close()"
   ]
  },
  {
   "cell_type": "code",
   "execution_count": 40,
   "metadata": {},
   "outputs": [
    {
     "name": "stdout",
     "output_type": "stream",
     "text": [
      "a.txt\n"
     ]
    }
   ],
   "source": [
    "print(os.path.basename(\"c:\\\\Users\\\\admin\\\\Python_Study\\\\Python\\\\20230215\\\\a.txt\"))"
   ]
  },
  {
   "cell_type": "code",
   "execution_count": 41,
   "metadata": {},
   "outputs": [
    {
     "name": "stdout",
     "output_type": "stream",
     "text": [
      "c:\\Users\\admin\\Python_Study\\Python\\20230215\n"
     ]
    }
   ],
   "source": [
    "print(os.path.dirname(\"c:\\\\Users\\\\admin\\\\Python_Study\\\\Python\\\\20230215\\\\a.txt\"))"
   ]
  },
  {
   "cell_type": "code",
   "execution_count": 42,
   "metadata": {},
   "outputs": [
    {
     "name": "stdout",
     "output_type": "stream",
     "text": [
      "('c:\\\\Users\\\\admin\\\\Python_Study\\\\Python\\\\20230215', 'a.txt')\n"
     ]
    }
   ],
   "source": [
    "print(os.path.split(\"c:\\\\Users\\\\admin\\\\Python_Study\\\\Python\\\\20230215\\\\a.txt\")) #파일 추출"
   ]
  },
  {
   "cell_type": "code",
   "execution_count": 43,
   "metadata": {},
   "outputs": [
    {
     "name": "stdout",
     "output_type": "stream",
     "text": [
      "('c:', '\\\\Users\\\\admin\\\\Python_Study\\\\Python\\\\20230215\\\\a.txt')\n"
     ]
    }
   ],
   "source": [
    "print(os.path.splitdrive(\"c:\\\\Users\\\\admin\\\\Python_Study\\\\Python\\\\20230215\\\\a.txt\")) #드라이브 추출"
   ]
  },
  {
   "cell_type": "code",
   "execution_count": 44,
   "metadata": {},
   "outputs": [
    {
     "name": "stdout",
     "output_type": "stream",
     "text": [
      "('c:\\\\Users\\\\admin\\\\Python_Study\\\\Python\\\\20230215\\\\a', '.txt')\n"
     ]
    }
   ],
   "source": [
    "print(os.path.splitext(\"c:\\\\Users\\\\admin\\\\Python_Study\\\\Python\\\\20230215\\\\a.txt\")) #확장자 추출"
   ]
  }
 ],
 "metadata": {
  "kernelspec": {
   "display_name": "Python 3",
   "language": "python",
   "name": "python3"
  },
  "language_info": {
   "codemirror_mode": {
    "name": "ipython",
    "version": 3
   },
   "file_extension": ".py",
   "mimetype": "text/x-python",
   "name": "python",
   "nbconvert_exporter": "python",
   "pygments_lexer": "ipython3",
   "version": "3.11.2"
  },
  "orig_nbformat": 4,
  "vscode": {
   "interpreter": {
    "hash": "1682e5d06a6d97c1b1cf6bb4ae6cf16223e994936ddb1d53664597d7d46101fa"
   }
  }
 },
 "nbformat": 4,
 "nbformat_minor": 2
}
