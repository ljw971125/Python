{
 "cells": [
  {
   "attachments": {},
   "cell_type": "markdown",
   "metadata": {},
   "source": [
    "# 6.반복문\n",
    "## 6.1 for 문\n",
    "1) 정의 \n",
    "- 파이썬의 제어문 중 하나로 프로그램의 실행을 반복할 수 있음\n",
    "- 조건문과 마찬가지로 들여쓰기와 콜론이 매우 중요!\n",
    "- 반복 가능한 객체를 순회하며 반복문 안의 코드를 한번씩 실행"
   ]
  },
  {
   "cell_type": "code",
   "execution_count": null,
   "metadata": {},
   "outputs": [],
   "source": [
    "# for 아이템 in 반복 가능한 객체:\n",
    "#     실행코드 "
   ]
  },
  {
   "attachments": {},
   "cell_type": "markdown",
   "metadata": {},
   "source": [
    "- 반복 객체에서 순서대로 하나씩 값을 가져옴\n",
    "- 아이템에 가져온 값을 담음\n",
    "- 실행코드 수행\n",
    "- 반복 객체가 끝날 때까지 순차적으로 반복\n",
    "\n",
    "- 리스트, 튜플 등 집합 자료형을 사용하여 요소를 하나씩 가져와 반복 가능\n",
    "- 반복 가능 객체인 문자열, 사전, 집합 자료형으로도 반복문 사용 가능\n",
    "- 반복 가능한 객체는 모두 올 수 있으며, 반복 불가능한 객체는 올 수 없음"
   ]
  },
  {
   "attachments": {},
   "cell_type": "markdown",
   "metadata": {},
   "source": [
    "## 6.2 반복 객체 및 range 함수\n",
    "1) 반복 객체 함수\n",
    "- Iterable 객체란 뜻으로 객체의 멤버를 하나씩 반환할 수 있음\n",
    "- 대표적으로 시퀀스 데이터 타입인 리스트, 튜플, 문자열 등이 있음\n",
    "- collections.Iterable에 속한 인스턴스인지 아닌지로 반복 가능한 객체를 판별할 수 있음\n",
    "2) range() 함수\n",
    "- 반복 가능한 객체를 반환해 주는 함수\n",
    "- range(시작(이상), 끝(미만), 스텝) 로 정의\n",
    "- 반복문에 많이 사용\n",
    "- 순차적으로 값을 반환하기 때문에 리스트 등의 다른 자료형과 함께 사용할 수 있음\n",
    "3) 반복문 활용\n",
    "- 반복 객체의 값을 바로 가져와서 사용하거나, range(), len() 함수를 활용해 인덱스로 접근 또한 가능\n",
    "- 제어문을 여러 개 사용할 경우, 들여쓰기 주의!\n",
    "- 요소 값을 아이템 변수로 할당하여 응용 가능\n",
    "- 조건문과 함께 복잡한 프로그램 작성 가능\n",
    "- continue를 활용해 한 차례 반복을 건너뛸 수 있음 "
   ]
  },
  {
   "attachments": {},
   "cell_type": "markdown",
   "metadata": {},
   "source": [
    "## 6.3 while문\n",
    "1) 정의\n",
    "- 파이썬의 제어문 중 하나로 프로그램의 실행을 반복할 수 있음"
   ]
  },
  {
   "cell_type": "code",
   "execution_count": null,
   "metadata": {},
   "outputs": [],
   "source": [
    "# while(조건):\n",
    "#     실행코드\n",
    "\n",
    "# 콜론,들여쓰기 주의!!\n",
    "# 무한루프에 빠지지 않도록 조건 설정에 주의!!"
   ]
  },
  {
   "attachments": {},
   "cell_type": "markdown",
   "metadata": {},
   "source": [
    "2) 활용\n",
    "- 조건문과 break 보조 제어문을 활용해 특별한 조건에서 반복문을 완전히 빠져나올 수 있음\n",
    "- break를 만나는 순간 제어문을 빠져나가기 때문에 코드 작성에 유의\n",
    "- 조건문과 continue 보조 제어문을 활용해 특별한 조건에 해당 반복을 건너 뛸 수 있음\n",
    "- continue를 만나는 순간 해당 반복을 건너뛰기 때문에 코드 작성에 유의"
   ]
  },
  {
   "cell_type": "code",
   "execution_count": 1,
   "metadata": {},
   "outputs": [
    {
     "ename": "TypeError",
     "evalue": "'int' object is not iterable",
     "output_type": "error",
     "traceback": [
      "\u001b[1;31m---------------------------------------------------------------------------\u001b[0m",
      "\u001b[1;31mTypeError\u001b[0m                                 Traceback (most recent call last)",
      "Cell \u001b[1;32mIn[1], line 1\u001b[0m\n\u001b[1;32m----> 1\u001b[0m \u001b[39mfor\u001b[39;00m i \u001b[39min\u001b[39;00m \u001b[39m10\u001b[39m:\n\u001b[0;32m      2\u001b[0m     \u001b[39mprint\u001b[39m(i)\n",
      "\u001b[1;31mTypeError\u001b[0m: 'int' object is not iterable"
     ]
    }
   ],
   "source": [
    "for i in 10:\n",
    "    print(i)"
   ]
  },
  {
   "cell_type": "code",
   "execution_count": 2,
   "metadata": {},
   "outputs": [
    {
     "name": "stdout",
     "output_type": "stream",
     "text": [
      "1\n",
      "2\n",
      "3\n"
     ]
    }
   ],
   "source": [
    "for i in [1,2,3]:\n",
    "    print(i)"
   ]
  },
  {
   "cell_type": "code",
   "execution_count": 3,
   "metadata": {},
   "outputs": [
    {
     "name": "stdout",
     "output_type": "stream",
     "text": [
      "1\n",
      "2\n",
      "3\n"
     ]
    }
   ],
   "source": [
    "for i in (1,2,3):\n",
    "    print(i)"
   ]
  },
  {
   "cell_type": "code",
   "execution_count": 4,
   "metadata": {},
   "outputs": [
    {
     "name": "stdout",
     "output_type": "stream",
     "text": [
      "H\n",
      "E\n",
      "L\n",
      "L\n",
      "O\n"
     ]
    }
   ],
   "source": [
    "for i in \"HELLO\":\n",
    "    print(i)"
   ]
  },
  {
   "cell_type": "code",
   "execution_count": 10,
   "metadata": {},
   "outputs": [
    {
     "name": "stdout",
     "output_type": "stream",
     "text": [
      "True\n"
     ]
    }
   ],
   "source": [
    "import collections\n",
    "collections.Iterable = collections.abc.Iterable\n",
    "obj = [1,2,3,4,5]\n",
    "print(isinstance(obj, collections.abc.Iterable))"
   ]
  },
  {
   "cell_type": "code",
   "execution_count": 11,
   "metadata": {},
   "outputs": [
    {
     "name": "stdout",
     "output_type": "stream",
     "text": [
      "True\n"
     ]
    }
   ],
   "source": [
    "obj2 = \"Hello, World!\"\n",
    "print(isinstance(obj2, collections.Iterable))"
   ]
  },
  {
   "cell_type": "code",
   "execution_count": 10,
   "metadata": {},
   "outputs": [
    {
     "name": "stdout",
     "output_type": "stream",
     "text": [
      "range(0, 10)\n"
     ]
    }
   ],
   "source": [
    "print(range(10))"
   ]
  },
  {
   "cell_type": "code",
   "execution_count": 11,
   "metadata": {},
   "outputs": [
    {
     "name": "stdout",
     "output_type": "stream",
     "text": [
      "[0, 1, 2, 3, 4, 5, 6, 7, 8, 9]\n"
     ]
    }
   ],
   "source": [
    "num1 = list(range(10))\n",
    "print(num1)"
   ]
  },
  {
   "cell_type": "code",
   "execution_count": null,
   "metadata": {},
   "outputs": [],
   "source": [
    "obj3 = range(10)\n",
    "isinstance(obj, collections.Iterable)"
   ]
  },
  {
   "cell_type": "code",
   "execution_count": null,
   "metadata": {},
   "outputs": [],
   "source": [
    "num2 = list(range(0,10,2))\n",
    "print(num2)"
   ]
  },
  {
   "cell_type": "code",
   "execution_count": 12,
   "metadata": {},
   "outputs": [
    {
     "name": "stdout",
     "output_type": "stream",
     "text": [
      "a\n",
      "9\n",
      "[1, 2, 3]\n",
      "('a', 'b')\n"
     ]
    }
   ],
   "source": [
    "list1 = ['a',9,[1,2,3],('a','b')]\n",
    "for i in list1:\n",
    "    print(i)"
   ]
  },
  {
   "cell_type": "code",
   "execution_count": null,
   "metadata": {},
   "outputs": [],
   "source": [
    "for i in range(4):\n",
    "    print(i)"
   ]
  },
  {
   "cell_type": "code",
   "execution_count": 13,
   "metadata": {},
   "outputs": [
    {
     "name": "stdout",
     "output_type": "stream",
     "text": [
      "4\n"
     ]
    }
   ],
   "source": [
    "print(len(list1))"
   ]
  },
  {
   "cell_type": "code",
   "execution_count": null,
   "metadata": {},
   "outputs": [],
   "source": [
    "for i in len(list1):\n",
    "    print(list1[i])"
   ]
  },
  {
   "cell_type": "code",
   "execution_count": 14,
   "metadata": {},
   "outputs": [
    {
     "name": "stdout",
     "output_type": "stream",
     "text": [
      "a\n",
      "9\n",
      "[1, 2, 3]\n",
      "('a', 'b')\n"
     ]
    }
   ],
   "source": [
    "for i in range(len(list1)):\n",
    "    print(list1[i])"
   ]
  },
  {
   "cell_type": "code",
   "execution_count": 18,
   "metadata": {},
   "outputs": [
    {
     "name": "stdout",
     "output_type": "stream",
     "text": [
      "10\n",
      "20\n",
      "1\n",
      "10\n",
      "20\n",
      "2\n",
      "10\n",
      "20\n",
      "3\n"
     ]
    }
   ],
   "source": [
    "for i in [1,2,3]:\n",
    "    for j in (10,20):\n",
    "        print(j)\n",
    "    print(i)"
   ]
  },
  {
   "cell_type": "code",
   "execution_count": 17,
   "metadata": {},
   "outputs": [
    {
     "name": "stdout",
     "output_type": "stream",
     "text": [
      "10\n",
      "1\n",
      "20\n",
      "1\n",
      "10\n",
      "2\n",
      "20\n",
      "2\n",
      "10\n",
      "3\n",
      "20\n",
      "3\n"
     ]
    }
   ],
   "source": [
    "for i in [1,2,3]:\n",
    "    for j in (10,20):\n",
    "        print(j)\n",
    "        print(i)"
   ]
  },
  {
   "cell_type": "code",
   "execution_count": 19,
   "metadata": {},
   "outputs": [
    {
     "name": "stdout",
     "output_type": "stream",
     "text": [
      "[1, 2]\n",
      "[3, 4]\n",
      "[5, 6]\n"
     ]
    }
   ],
   "source": [
    "list2 = [[1,2],[3,4],[5,6]]\n",
    "for i in list2:\n",
    "    print(i)"
   ]
  },
  {
   "cell_type": "code",
   "execution_count": 20,
   "metadata": {},
   "outputs": [
    {
     "name": "stdout",
     "output_type": "stream",
     "text": [
      "3\n",
      "7\n",
      "11\n"
     ]
    }
   ],
   "source": [
    "list3 = [[1,2],[3,4],[5,6]]\n",
    "for i,j in list3:\n",
    "    print(i+j)"
   ]
  },
  {
   "cell_type": "code",
   "execution_count": 22,
   "metadata": {},
   "outputs": [
    {
     "name": "stdout",
     "output_type": "stream",
     "text": [
      "i is e\n",
      "5\n"
     ]
    }
   ],
   "source": [
    "str1 = \"Hello\"\n",
    "cnt = 0\n",
    "for i in str1:\n",
    "    if(i=='e'):\n",
    "        print(\"i is e\")\n",
    "    cnt +=1\n",
    "print(cnt)"
   ]
  },
  {
   "cell_type": "code",
   "execution_count": 23,
   "metadata": {},
   "outputs": [
    {
     "name": "stdout",
     "output_type": "stream",
     "text": [
      "i is e\n",
      "4\n"
     ]
    }
   ],
   "source": [
    "str1 = \"Hello\"\n",
    "cnt = 0\n",
    "for i in str1:\n",
    "    if(i=='e'):\n",
    "        print(\"i is e\")\n",
    "        continue\n",
    "    cnt +=1\n",
    "print(cnt)"
   ]
  },
  {
   "cell_type": "code",
   "execution_count": null,
   "metadata": {},
   "outputs": [],
   "source": [
    "while(True):\n",
    "    print(1)"
   ]
  },
  {
   "cell_type": "code",
   "execution_count": 2,
   "metadata": {},
   "outputs": [
    {
     "name": "stdout",
     "output_type": "stream",
     "text": [
      "5\n",
      "4\n",
      "3\n",
      "2\n",
      "1\n"
     ]
    }
   ],
   "source": [
    "num = 5\n",
    "while(num>0):\n",
    "    print(num)\n",
    "    num -= 1"
   ]
  },
  {
   "cell_type": "code",
   "execution_count": 5,
   "metadata": {},
   "outputs": [
    {
     "name": "stdout",
     "output_type": "stream",
     "text": [
      "10\n",
      "9\n",
      "8\n",
      "7\n",
      "end\n"
     ]
    }
   ],
   "source": [
    "num2 = 10\n",
    "while(num2 > 0) :\n",
    "    if(num2 == 6):\n",
    "        print(\"end\")\n",
    "        break\n",
    "    print(num2)\n",
    "    num2 -= 1"
   ]
  },
  {
   "cell_type": "code",
   "execution_count": 9,
   "metadata": {},
   "outputs": [
    {
     "name": "stdout",
     "output_type": "stream",
     "text": [
      "10,9,8,7,6,5,4,3,2,1,"
     ]
    }
   ],
   "source": [
    "num3 = 10\n",
    "while(num3 > 0):\n",
    "    print(num3, end=',')\n",
    "    num3 -= 1\n",
    "    if(num == 6) :\n",
    "        continue"
   ]
  }
 ],
 "metadata": {
  "kernelspec": {
   "display_name": "Python 3",
   "language": "python",
   "name": "python3"
  },
  "language_info": {
   "codemirror_mode": {
    "name": "ipython",
    "version": 3
   },
   "file_extension": ".py",
   "mimetype": "text/x-python",
   "name": "python",
   "nbconvert_exporter": "python",
   "pygments_lexer": "ipython3",
   "version": "3.11.2"
  },
  "orig_nbformat": 4,
  "vscode": {
   "interpreter": {
    "hash": "1682e5d06a6d97c1b1cf6bb4ae6cf16223e994936ddb1d53664597d7d46101fa"
   }
  }
 },
 "nbformat": 4,
 "nbformat_minor": 2
}
