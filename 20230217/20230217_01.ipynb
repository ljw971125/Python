{
 "cells": [
  {
   "attachments": {},
   "cell_type": "markdown",
   "metadata": {},
   "source": [
    "# requests 모듈\n",
    "\n",
    "https://search.naver.com/search.naver?\n",
    "key1 = value & &\n",
    "where=nexearch&sm=top_hty&fbm=0&ie=utf8&query=html\n",
    "쿼리 스트링(Query String) - 파라메터"
   ]
  },
  {
   "cell_type": "code",
   "execution_count": null,
   "metadata": {},
   "outputs": [],
   "source": [
    "import requests\n",
    "\n",
    "URL = \"https://www.naver.com\"\n",
    "response = requests.get(URL) # 서버가 응답 = 서버에 요청\n",
    "print(response.status_code)\n",
    "print(response.text)"
   ]
  },
  {
   "cell_type": "code",
   "execution_count": null,
   "metadata": {},
   "outputs": [],
   "source": [
    "#정적 크롤링\n",
    "import requests\n",
    "\n",
    "URL = \"https://search.naver.com/search.naver?\"\n",
    "params = { 'query' : 'html'}\n",
    "response = requests.get(URL, params=params)\n",
    "print(response.status_code)\n",
    "print(response.text)"
   ]
  },
  {
   "cell_type": "code",
   "execution_count": null,
   "metadata": {},
   "outputs": [],
   "source": [
    "import requests\n",
    "\n",
    "URL = \"https://comic.naver.com/webtoon/detail\"\n",
    "params = { 'titleld' : 790713, 'no' : 101 }\n",
    "response = requests.get(URL, params=params)\n",
    "print(response.status_code)\n",
    "print(response.text)"
   ]
  },
  {
   "cell_type": "code",
   "execution_count": null,
   "metadata": {},
   "outputs": [],
   "source": [
    "import requests\n",
    "\n",
    "URL = \"https://www.naver.com\"\n",
    "response = requests.get(URL)\n",
    "html_data = response.text\n",
    "print(html_data)"
   ]
  },
  {
   "cell_type": "code",
   "execution_count": null,
   "metadata": {},
   "outputs": [],
   "source": [
    "import urllib #urllib는 URL 작업을 위한 여러 모듈을 모은 패키지\n",
    "\n",
    "URL = \"https://www.naver.com\"\n",
    "response_urllib = urllib.request.urlopen(URL)\n",
    "byte_data = response_urllib.read()\n",
    "text_data = byte_data.decode(\"utf-8\")\n",
    "print(text_data)"
   ]
  },
  {
   "cell_type": "code",
   "execution_count": null,
   "metadata": {},
   "outputs": [],
   "source": [
    "import urllib\n",
    "URL = \"https://www.naver.com\"\n",
    "request = urllib.request.Request(URL)\n",
    "print(request)\n",
    "print(request.full_url)\n",
    "print(request.type)\n",
    "print(request.host)\n"
   ]
  },
  {
   "cell_type": "code",
   "execution_count": null,
   "metadata": {},
   "outputs": [],
   "source": [
    "import urllib\n",
    "URL = \"https://www.naver.com\"\n",
    "request = urllib.request.Request(URL)\n",
    "print(request)\n",
    "response1 = urllib.request.urlopen(request)\n",
    "print(response1)\n",
    "print(response1.geturl())\n",
    "print(response1.getheaders())\n",
    "response2 = urllib.request.urlopen(URL)\n",
    "print(response2)\n",
    "print(response2.getheaders())"
   ]
  },
  {
   "cell_type": "code",
   "execution_count": null,
   "metadata": {},
   "outputs": [],
   "source": [
    "import urllib\n",
    "\n",
    "URL = \"http://www.naver.com\"\n",
    "response_urllib = urllib.request.urlopen(URL)\n",
    "byte_data = response_urllib.read(500) #500 바이트만 가져오기\n",
    "print(byte_data)"
   ]
  },
  {
   "cell_type": "code",
   "execution_count": null,
   "metadata": {},
   "outputs": [],
   "source": [
    "import urllib\n",
    "\n",
    "URL = \"http://www.naver.com\"\n",
    "response_urllib = urllib.request.urlopen(URL)\n",
    "byte_data = response_urllib.read(500) #500 바이트만 가져오기\n",
    "text_data = byte_data.decode() #utf-8은 기본값이기 때문에 생략이 가능하다.\n",
    "print(text_data)"
   ]
  },
  {
   "cell_type": "code",
   "execution_count": null,
   "metadata": {},
   "outputs": [],
   "source": [
    "# https://t1.kakaocdn.net/friends/prod/product/20221115172759130_8809814928898_AW_00.jpg\n",
    "\n",
    "import urllib.request\n",
    "\n",
    "img_src =\"https://t1.kakaocdn.net/friends/prod/product/20221115172759130_8809814928898_AW_00.jpg\"\n",
    "new_name = 'ryan.jpg'\n",
    "urllib.request.urlretrieve(img_src, new_name)"
   ]
  },
  {
   "cell_type": "code",
   "execution_count": null,
   "metadata": {},
   "outputs": [],
   "source": [
    "import urllib.parse\n",
    "\n",
    "URL = \"https://www.naver.com/a/b\"\n",
    "\n",
    "print(urllib.parse.urljoin(URL, 'c'))\n",
    "print(urllib.parse.urljoin(URL, '/c'))"
   ]
  },
  {
   "cell_type": "code",
   "execution_count": null,
   "metadata": {},
   "outputs": [],
   "source": [
    "import urllib.parse\n",
    "\n",
    "URL = \"https://www.naver.com/a/b/\"\n",
    "\n",
    "print(urllib.parse.urljoin(URL, 'c'))\n",
    "print(urllib.parse.urljoin(URL, '/c'))"
   ]
  },
  {
   "cell_type": "code",
   "execution_count": null,
   "metadata": {},
   "outputs": [],
   "source": [
    "print(urllib.parse.quote(\"파이썬\")) #url 인코딩"
   ]
  },
  {
   "cell_type": "code",
   "execution_count": null,
   "metadata": {},
   "outputs": [],
   "source": [
    "print(urllib.parse.unquote(\"%ED%8C%8C%EC%9D%B4%EC%8D%AC\")) #url 디코딩"
   ]
  },
  {
   "cell_type": "code",
   "execution_count": null,
   "metadata": {},
   "outputs": [],
   "source": [
    "import urllib\n",
    "\n",
    "request = urllib.request.Request(\"https://www.naver.com\")\n",
    "data = urllib.request.urlopen(request).read()\n",
    "f = open(\"pc.html\",\"wb\") #바이너리로 저장\n",
    "f.write(data)\n",
    "f.close()"
   ]
  },
  {
   "cell_type": "code",
   "execution_count": null,
   "metadata": {},
   "outputs": [],
   "source": [
    "import urllib\n",
    "\n",
    "header = { 'User-Agent' : ' Mozila/5.0 (iphone)'}\n",
    "request = urllib.request.Request(\"https://www.naver.com\", headers=header)\n",
    "data = urllib.request.urlopen(request).read()\n",
    "f = open(\"mobile.html\",\"wb\") #바이너리로 저장\n",
    "f.write(data)\n",
    "f.close()"
   ]
  },
  {
   "cell_type": "code",
   "execution_count": null,
   "metadata": {},
   "outputs": [],
   "source": [
    "#네이버 신문사 텍스트(추출) 결과:리스트\n",
    "import requests\n",
    "from bs4 import BeautifulSoup\n",
    "\n",
    "request = requests.get(\"https://naver.com\")\n",
    "html_data = request.text\n",
    "soup = BeautifulSoup(html_data, \"html.parser\")"
   ]
  },
  {
   "cell_type": "code",
   "execution_count": null,
   "metadata": {},
   "outputs": [],
   "source": [
    "print(soup.img['alt'])"
   ]
  },
  {
   "cell_type": "code",
   "execution_count": 2,
   "metadata": {},
   "outputs": [
    {
     "name": "stdout",
     "output_type": "stream",
     "text": [
      "['문화일보', 'OSEN', '중앙일보', '마이데일리', '프레시안', '매일경제', '서울경제', 'KBS', '한겨레', 'MBN', 'YTN', '뉴스타파', '데일리안', '이데일리', '서울신문', '채널예스', 'KBC광주방송', '데이터뉴스', '데일리한국', '시사저널', '인사이트코리아', '일요신문', '더팩트', '게임동아']\n"
     ]
    }
   ],
   "source": [
    "#[미션1]\n",
    "# text = soup.find_all('img', class_ = 'news_logo')\n",
    "# print(text)\n",
    "\n",
    "import requests #url을 열기 위한 모듈\n",
    "from bs4 import BeautifulSoup\n",
    "\n",
    "request = requests.get(\"https://www.naver.com\") # 링크 가져오기\n",
    "html_data = request.text # html 읽어오기\n",
    "soup = BeautifulSoup(html_data, \"html.parser\") #뷰티풀스프를 이용해\n",
    "\n",
    "result = soup.find_all('a', \"thumb\") # a태그에 있는 class=\"thumb\"\n",
    "news_list=[]\n",
    "\n",
    "for i in result:\n",
    "    news_list.append(i.find('img')['alt'])\n",
    "\n",
    "print(news_list)"
   ]
  },
  {
   "cell_type": "code",
   "execution_count": 3,
   "metadata": {},
   "outputs": [
    {
     "name": "stdout",
     "output_type": "stream",
     "text": [
      " 1위 : 앤트맨과 와스프: 퀀텀매니아\n",
      " 2위 : 더 퍼스트 슬램덩크\n",
      " 3위 : 바빌론\n",
      " 4위 : 다음 소희\n",
      " 5위 : 타이타닉\n",
      " 6위 : 유령\n",
      " 7위 : 아바타: 물의 길\n",
      " 8위 : 교섭\n",
      " 9위 : 카운트\n",
      "10위 : 영웅\n"
     ]
    }
   ],
   "source": [
    "#[미션2]\n",
    "import requests\n",
    "from bs4 import BeautifulSoup\n",
    "\n",
    "request = requests.get(\"https://movie.naver.com/movie/sdb/rank/rmovie.naver\")\n",
    "html_data = request.text\n",
    "soup = BeautifulSoup(html_data, \"html.parser\")\n",
    "\n",
    "movie_ranking_list = soup.find_all('div', class_ = 'tit3')\n",
    "for i in range(10):\n",
    "    print(\"{:2}위 : {}\".format(i+1,movie_ranking_list[i].get_text().strip())) #strip은 줄 붙이기."
   ]
  }
 ],
 "metadata": {
  "kernelspec": {
   "display_name": "Python 3",
   "language": "python",
   "name": "python3"
  },
  "language_info": {
   "codemirror_mode": {
    "name": "ipython",
    "version": 3
   },
   "file_extension": ".py",
   "mimetype": "text/x-python",
   "name": "python",
   "nbconvert_exporter": "python",
   "pygments_lexer": "ipython3",
   "version": "3.11.2"
  },
  "orig_nbformat": 4,
  "vscode": {
   "interpreter": {
    "hash": "1682e5d06a6d97c1b1cf6bb4ae6cf16223e994936ddb1d53664597d7d46101fa"
   }
  }
 },
 "nbformat": 4,
 "nbformat_minor": 2
}
