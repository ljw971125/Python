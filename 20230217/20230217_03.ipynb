{
 "cells": [
  {
   "cell_type": "code",
   "execution_count": 2,
   "metadata": {},
   "outputs": [
    {
     "name": "stderr",
     "output_type": "stream",
     "text": [
      "C:\\Users\\admin\\AppData\\Local\\Temp\\ipykernel_9388\\192107025.py:6: DeprecationWarning: executable_path has been deprecated, please pass in a Service object\n",
      "  driver = webdriver.Chrome(path)\n"
     ]
    },
    {
     "name": "stdout",
     "output_type": "stream",
     "text": [
      "엔터\n",
      "스포츠\n",
      "자동차\n",
      "웹툰\n",
      "경제\n",
      "추천구독\n",
      "레시피\n",
      "리빙\n"
     ]
    }
   ],
   "source": [
    "import selenium\n",
    "from selenium import webdriver\n",
    "from selenium.webdriver.common.by import By\n",
    "\n",
    "path = \"C:\\chromedriver\\chromedriver.exe\"\n",
    "driver = webdriver.Chrome(path)\n",
    "driver.get(\"https://www.naver.com\")\n",
    "\n",
    "element = driver.find_element(By.CLASS_NAME, \"list_category\")\n",
    "print(element.text)"
   ]
  },
  {
   "cell_type": "code",
   "execution_count": 4,
   "metadata": {},
   "outputs": [
    {
     "name": "stderr",
     "output_type": "stream",
     "text": [
      "C:\\Users\\admin\\AppData\\Local\\Temp\\ipykernel_9388\\1731423201.py:7: DeprecationWarning: executable_path has been deprecated, please pass in a Service object\n",
      "  driver = webdriver.Chrome(path)\n"
     ]
    }
   ],
   "source": [
    "import selenium\n",
    "from selenium import webdriver\n",
    "from selenium.webdriver.common.by import By\n",
    "import time\n",
    "\n",
    "path = \"C:\\chromedriver\\chromedriver.exe\"\n",
    "driver = webdriver.Chrome(path)\n",
    "driver.get(\"https://www.naver.com\")\n",
    "\n",
    "time.sleep(3)\n",
    "\n",
    "element = driver.find_element(By.CLASS_NAME, \"btn_more\")\n",
    "element.click()"
   ]
  },
  {
   "cell_type": "code",
   "execution_count": 5,
   "metadata": {},
   "outputs": [
    {
     "name": "stderr",
     "output_type": "stream",
     "text": [
      "C:\\Users\\admin\\AppData\\Local\\Temp\\ipykernel_9388\\3651351098.py:7: DeprecationWarning: executable_path has been deprecated, please pass in a Service object\n",
      "  driver = webdriver.Chrome(path)\n"
     ]
    }
   ],
   "source": [
    "import selenium\n",
    "from selenium.webdriver.common.keys import Keys\n",
    "from selenium import webdriver\n",
    "from selenium.webdriver.common.by import By\n",
    "import time\n",
    "\n",
    "path = \"C:\\chromedriver\\chromedriver.exe\"\n",
    "driver = webdriver.Chrome(path)\n",
    "driver.get(\"https://www.naver.com\")\n",
    "time.sleep(1)\n",
    "\n",
    "element = driver.find_element(By.ID, \"query\")\n",
    "element.send_keys(\"봄 여행\")\n",
    "time.sleep(1)\n",
    "element.send_keys(Keys.ENTER)"
   ]
  },
  {
   "cell_type": "code",
   "execution_count": null,
   "metadata": {},
   "outputs": [],
   "source": [
    "#[미션3] 네이버 로그인 기능을 구현하시오.\n",
    "#처리조건\n",
    "# 아이디 : system\n",
    "# 비밀번호 : 1234"
   ]
  },
  {
   "cell_type": "code",
   "execution_count": 17,
   "metadata": {},
   "outputs": [
    {
     "name": "stderr",
     "output_type": "stream",
     "text": [
      "C:\\Users\\admin\\AppData\\Local\\Temp\\ipykernel_9388\\1024881451.py:8: DeprecationWarning: executable_path has been deprecated, please pass in a Service object\n",
      "  driver = webdriver.Chrome(path)\n"
     ]
    }
   ],
   "source": [
    "import selenium\n",
    "from selenium.webdriver.common.keys import Keys\n",
    "from selenium import webdriver\n",
    "from selenium.webdriver.common.by import By\n",
    "import time\n",
    "\n",
    "#크롬 드라이버 연결\n",
    "path = \"C:\\chromedriver\\chromedriver.exe\"\n",
    "driver = webdriver.Chrome(path)\n",
    "#네이버 사이트 접속\n",
    "driver.get(\"https://www.naver.com\")\n",
    "time.sleep(1)\n",
    "\n",
    "#로그인 버튼 클릭\n",
    "element = driver.find_element(By.CLASS_NAME, \"link_login\")\n",
    "element.click()\n",
    "\n",
    "#아이디를 입력\n",
    "element = driver.find_element(By.ID, \"id\")\n",
    "element.send_keys(\"system\")\n",
    "\n",
    "#비밀번호를 입력\n",
    "element = driver.find_element(By.ID, \"pw\")\n",
    "element.send_keys(\"1234\")\n",
    "\n",
    "#(입력후)로그인 버튼 클릭\n",
    "element = driver.find_element(By.CLASS_NAME, \"btn_login\")\n",
    "element.click()"
   ]
  },
  {
   "cell_type": "code",
   "execution_count": 21,
   "metadata": {},
   "outputs": [
    {
     "name": "stderr",
     "output_type": "stream",
     "text": [
      "C:\\Users\\admin\\AppData\\Local\\Temp\\ipykernel_9388\\4269633849.py:9: DeprecationWarning: executable_path has been deprecated, please pass in a Service object\n",
      "  driver = webdriver.Chrome(path)\n"
     ]
    }
   ],
   "source": [
    "import selenium\n",
    "from selenium.webdriver.common.keys import Keys\n",
    "from selenium import webdriver\n",
    "from selenium.webdriver.common.by import By\n",
    "import time\n",
    "\n",
    "#크롬 드라이버 연결\n",
    "path = \"C:\\chromedriver\\chromedriver.exe\"\n",
    "driver = webdriver.Chrome(path)\n",
    "#네이버 사이트 접속\n",
    "driver.get(\"https://www.naver.com\")\n",
    "time.sleep(1)\n",
    "\n",
    "#로그인 버튼 클릭\n",
    "element = driver.find_element(By.CLASS_NAME, \"link_login\")\n",
    "element.click()\n",
    "\n",
    "#아이디, 비밀번호\n",
    "user_id =\"system\"\n",
    "user_pwd =\"1234\"\n",
    "\n",
    "#아이디 입력\n",
    "element = driver.find_element(By.ID, 'id')\n",
    "element.send_keys(user_id)\n",
    "time.sleep(1)\n",
    " \n",
    "#비밀번호 입력\n",
    "element = driver.find_element(By.ID, 'pw')\n",
    "element.send_keys(user_pwd)\n",
    "time.sleep(1)\n",
    "\n",
    "#(입력후)로그인 버튼 클릭\n",
    "element = driver.find_element(By.CLASS_NAME, \"btn_login\")\n",
    "element.click()"
   ]
  }
 ],
 "metadata": {
  "kernelspec": {
   "display_name": "Python 3",
   "language": "python",
   "name": "python3"
  },
  "language_info": {
   "codemirror_mode": {
    "name": "ipython",
    "version": 3
   },
   "file_extension": ".py",
   "mimetype": "text/x-python",
   "name": "python",
   "nbconvert_exporter": "python",
   "pygments_lexer": "ipython3",
   "version": "3.11.2"
  },
  "orig_nbformat": 4,
  "vscode": {
   "interpreter": {
    "hash": "1682e5d06a6d97c1b1cf6bb4ae6cf16223e994936ddb1d53664597d7d46101fa"
   }
  }
 },
 "nbformat": 4,
 "nbformat_minor": 2
}
