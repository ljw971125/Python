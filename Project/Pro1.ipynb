{
 "cells": [
  {
   "cell_type": "code",
   "execution_count": 26,
   "metadata": {},
   "outputs": [
    {
     "name": "stdout",
     "output_type": "stream",
     "text": [
      "['후드티', '나이키', '맨투맨', '백팩', '아디다스', '니트', '후드집업', '바람막이', '슬리퍼', '바시티 자켓', '가디건', '가방', '사계절 스트링 트레이닝팬츠', '양말', '자켓', '메신저백', '모자', '반스', '바지', '반팔']\n"
     ]
    }
   ],
   "source": [
    "#실시간 키워드 분석\n",
    "import requests\n",
    "from bs4 import BeautifulSoup\n",
    "\n",
    "#사이트를 불러옴\n",
    "request = requests.get(\"https://www.musinsa.com/ranking/keyword\") \n",
    "html_data = request.text\n",
    "soup = BeautifulSoup(html_data, \"html.parser\")\n",
    "\n",
    "keyword_list = []\n",
    "result = soup.find_all('li')\n",
    "\n",
    "for i in result:\n",
    "    keyword_list.append(i.find('a')['title'])\n",
    "\n",
    "print(keyword_list[:20])"
   ]
  },
  {
   "cell_type": "code",
   "execution_count": 70,
   "metadata": {},
   "outputs": [
    {
     "name": "stdout",
     "output_type": "stream",
     "text": [
      "001. 후드티\n",
      "002. 나이키\n",
      "003. 백팩\n",
      "004. 맨투맨\n",
      "005. 후드집업\n",
      "006. 아디다스\n",
      "007. 니트\n",
      "008. 바람막이\n",
      "009. 슬리퍼\n",
      "010. 바시티 자켓\n",
      "011. 가디건\n",
      "012. 가방\n",
      "013. 예일\n",
      "014. 메신저백\n",
      "015. 모자\n",
      "016. 반팔\n",
      "017. 바지\n",
      "018. 조거팬츠\n",
      "019. 카고팬츠\n",
      "020. 사계절 스트링 트레이닝팬츠\n"
     ]
    }
   ],
   "source": [
    "import requests\n",
    "from bs4 import BeautifulSoup\n",
    "\n",
    "#사이트를 불러옴\n",
    "request = requests.get(\"https://www.musinsa.com/ranking/keyword\") \n",
    "html_data = request.text\n",
    "soup = BeautifulSoup(html_data, \"html.parser\")\n",
    "\n",
    "keyword_list = soup.find_all('p',class_='p_srank')\n",
    "for i in range(20):\n",
    "    print(keyword_list[i].get_text().strip())"
   ]
  },
  {
   "cell_type": "code",
   "execution_count": 27,
   "metadata": {},
   "outputs": [],
   "source": [
    "import csv #csv파일을 읽거나 쓰게 해주는 모듈\n",
    "import requests\n",
    "from bs4 import BeautifulSoup\n",
    "\n",
    "#사이트를 불러옴\n",
    "request = requests.get(\"https://www.musinsa.com/ranking/keyword\") \n",
    "html_data = request.text\n",
    "soup = BeautifulSoup(html_data, \"html.parser\")\n",
    "\n",
    "keyword_list = []\n",
    "result = soup.find_all('li')\n",
    "\n",
    "for i in result:\n",
    "    keyword_list.append(i.find('a')['title'])\n",
    "\n",
    "data = keyword_list[:20]\n",
    "\n",
    "with open('Data.csv','a',newline='')as f:\n",
    "    writer = csv.writer(f)\n",
    "    writer.writerow(data)\n",
    "    f.close()"
   ]
  },
  {
   "cell_type": "code",
   "execution_count": 25,
   "metadata": {},
   "outputs": [],
   "source": [
    "import csv #csv파일을 읽거나 쓰게 해주는 모듈\n",
    "import requests\n",
    "from bs4 import BeautifulSoup\n",
    "\n",
    "#사이트를 불러옴\n",
    "request = requests.get(\"https://www.musinsa.com/ranking/keyword\") \n",
    "html_data = request.text\n",
    "soup = BeautifulSoup(html_data, \"html.parser\")\n",
    "def economy():\n",
    "    keyword_list = []\n",
    "    result = soup.find_all('li')\n",
    "\n",
    "    for i in result:\n",
    "        keyword_list.append(i.find('a')['title'])\n",
    "\n",
    "    data = keyword_list[:20]\n",
    "\n",
    "    with open('Data.csv','a',newline='')as f:\n",
    "        writer = csv.writer(f)\n",
    "        writer.writerow(data)\n",
    "        f.close()"
   ]
  },
  {
   "cell_type": "code",
   "execution_count": null,
   "metadata": {},
   "outputs": [],
   "source": [
    "import schedule\n",
    "import time\n",
    "schedule.every(10).seconds.do(economy)\n",
    "\n",
    "while True:\n",
    "    schedule.run_pending()\n",
    "    time.sleep(1)\n"
   ]
  },
  {
   "cell_type": "code",
   "execution_count": 62,
   "metadata": {},
   "outputs": [
    {
     "name": "stdout",
     "output_type": "stream",
     "text": [
      "(23SS) 2 TONE ARCH HOODIE GRAY\n",
      "에센셜 후드 스웻 셔츠 (MELANGE GREY)\n",
      "로그 오버핏 기모 후드 그레이 YHHD2302\n",
      "미시간 울버린 피그먼트 후드티 블랙 차콜\n",
      "UNISEX LAUREL OVERSIZED HOODIE - 5 COL\n"
     ]
    }
   ],
   "source": [
    "import csv #csv파일을 읽거나 쓰게 해주는 모듈\n",
    "import requests #url 불러오는 모듈\n",
    "from bs4 import BeautifulSoup #html로 변환\n",
    "\n",
    "name = input()\n",
    "request = requests.get(\"https://www.musinsa.com/search/musinsa/goods?q=\"+name+\"&list_kind=small&sortCode=sale_high&sub_sort=1y&page=1&display_cnt=0&saleGoods=false&includeSoldOut=false&setupGoods=false&popular=false&category1DepthCode=&category2DepthCodes=&category3DepthCodes=&selectedFilters=&category1DepthName=&category2DepthName=&brandIds=&price=&colorCodes=&contentType=&styleTypes=&includeKeywords=&excludeKeywords=&originalYn=N&tags=&campaignId=&serviceType=&eventType=&type=&season=&measure=&openFilterLayout=N&selectedOrderMeasure=&shoeSizeOption=&groupSale=false&d_cat_cd=&attribute=\") \n",
    "html_data = request.text\n",
    "soup = BeautifulSoup(html_data, \"html.parser\")\n",
    "\n",
    "#데이터를 불러오고 저장할 리스트\n",
    "keyword_list = []\n",
    "result = soup.find_all('div',class_='list_img')\n",
    "\n",
    "for i in result:\n",
    "    keyword_list.append(i.find('a')['data-bh-content-nm'])\n",
    "\n",
    "for j in keyword_list[:5]:\n",
    "    print(j)"
   ]
  }
 ],
 "metadata": {
  "kernelspec": {
   "display_name": "Python 3",
   "language": "python",
   "name": "python3"
  },
  "language_info": {
   "codemirror_mode": {
    "name": "ipython",
    "version": 3
   },
   "file_extension": ".py",
   "mimetype": "text/x-python",
   "name": "python",
   "nbconvert_exporter": "python",
   "pygments_lexer": "ipython3",
   "version": "3.10.10"
  },
  "orig_nbformat": 4,
  "vscode": {
   "interpreter": {
    "hash": "8bf0d51478355d2251941b3b98616086516a0eddd7c72ee47a3371765770709a"
   }
  }
 },
 "nbformat": 4,
 "nbformat_minor": 2
}
