{
 "cells": [
  {
   "cell_type": "code",
   "execution_count": 26,
   "metadata": {},
   "outputs": [
    {
     "name": "stdout",
     "output_type": "stream",
     "text": [
      "['후드티', '나이키', '맨투맨', '백팩', '아디다스', '니트', '후드집업', '바람막이', '슬리퍼', '바시티 자켓', '가디건', '가방', '사계절 스트링 트레이닝팬츠', '양말', '자켓', '메신저백', '모자', '반스', '바지', '반팔']\n"
     ]
    }
   ],
   "source": [
    "#실시간 키워드 분석\n",
    "import requests\n",
    "from bs4 import BeautifulSoup\n",
    "\n",
    "#사이트를 불러옴\n",
    "request = requests.get(\"https://www.musinsa.com/ranking/keyword\") \n",
    "html_data = request.text\n",
    "soup = BeautifulSoup(html_data, \"html.parser\")\n",
    "\n",
    "keyword_list = []\n",
    "result = soup.find_all('li')\n",
    "\n",
    "for i in result:\n",
    "    keyword_list.append(i.find('a')['title'])\n",
    "\n",
    "print(keyword_list[:20])"
   ]
  },
  {
   "cell_type": "code",
   "execution_count": 70,
   "metadata": {},
   "outputs": [
    {
     "name": "stdout",
     "output_type": "stream",
     "text": [
      "001. 후드티\n",
      "002. 나이키\n",
      "003. 백팩\n",
      "004. 맨투맨\n",
      "005. 후드집업\n",
      "006. 아디다스\n",
      "007. 니트\n",
      "008. 바람막이\n",
      "009. 슬리퍼\n",
      "010. 바시티 자켓\n",
      "011. 가디건\n",
      "012. 가방\n",
      "013. 예일\n",
      "014. 메신저백\n",
      "015. 모자\n",
      "016. 반팔\n",
      "017. 바지\n",
      "018. 조거팬츠\n",
      "019. 카고팬츠\n",
      "020. 사계절 스트링 트레이닝팬츠\n"
     ]
    }
   ],
   "source": [
    "import requests\n",
    "from bs4 import BeautifulSoup\n",
    "\n",
    "#사이트를 불러옴\n",
    "request = requests.get(\"https://www.musinsa.com/ranking/keyword\") \n",
    "html_data = request.text\n",
    "soup = BeautifulSoup(html_data, \"html.parser\")\n",
    "\n",
    "keyword_list = soup.find_all('p',class_='p_srank')\n",
    "for i in range(20):\n",
    "    print(keyword_list[i].get_text().strip())"
   ]
  },
  {
   "cell_type": "code",
   "execution_count": 27,
   "metadata": {},
   "outputs": [],
   "source": [
    "import csv #csv파일을 읽거나 쓰게 해주는 모듈\n",
    "import requests\n",
    "from bs4 import BeautifulSoup\n",
    "\n",
    "#사이트를 불러옴\n",
    "request = requests.get(\"https://www.musinsa.com/ranking/keyword\") \n",
    "html_data = request.text\n",
    "soup = BeautifulSoup(html_data, \"html.parser\")\n",
    "\n",
    "keyword_list = []\n",
    "result = soup.find_all('li')\n",
    "\n",
    "for i in result:\n",
    "    keyword_list.append(i.find('a')['title'])\n",
    "\n",
    "data = keyword_list[:20]\n",
    "\n",
    "with open('Data.csv','a',newline='')as f:\n",
    "    writer = csv.writer(f)\n",
    "    writer.writerow(data)\n",
    "    f.close()"
   ]
  },
  {
   "cell_type": "code",
   "execution_count": 5,
   "metadata": {},
   "outputs": [],
   "source": [
    "import csv #csv파일을 읽거나 쓰게 해주는 모듈\n",
    "import requests\n",
    "from bs4 import BeautifulSoup\n",
    "\n",
    "#사이트를 불러옴\n",
    "request = requests.get(\"https://www.musinsa.com/ranking/keyword\") \n",
    "html_data = request.text\n",
    "soup = BeautifulSoup(html_data, \"html.parser\")\n",
    "def economy():\n",
    "    keyword_list = []\n",
    "    result = soup.find_all('li')\n",
    "\n",
    "    for i in result:\n",
    "        keyword_list.append(i.find('a')['title'])\n",
    "\n",
    "    data = keyword_list[:20]\n",
    "\n",
    "    with open('Data.csv','a',newline='')as f:\n",
    "        writer = csv.writer(f)\n",
    "        writer.writerow(data)\n",
    "        f.close()"
   ]
  },
  {
   "cell_type": "code",
   "execution_count": null,
   "metadata": {},
   "outputs": [],
   "source": [
    "import schedule\n",
    "import time\n",
    "schedule.every(10).seconds.do(economy)\n",
    "\n",
    "while True:\n",
    "    schedule.run_pending()\n",
    "    time.sleep(1)\n"
   ]
  },
  {
   "cell_type": "code",
   "execution_count": null,
   "metadata": {},
   "outputs": [],
   "source": [
    "import csv\n",
    "import selenium\n",
    "from selenium import webdriver\n",
    "from selenium.webdriver.common.by import By\n",
    "\n",
    "path = \"C:\\chromedriver\\chromedriver.exe\"\n",
    "driver = webdriver.Chrome(path)\n",
    "driver.get(\"https://www.naver.com\")\n",
    "\n",
    "f = open('','r',encoding='utf-8')\n",
    "\n",
    "element = driver.find_element(By.ID, \"query\")\n",
    "element.send_keys(\"봄 여행\")\n"
   ]
  }
 ],
 "metadata": {
  "kernelspec": {
   "display_name": "Python 3",
   "language": "python",
   "name": "python3"
  },
  "language_info": {
   "codemirror_mode": {
    "name": "ipython",
    "version": 3
   },
   "file_extension": ".py",
   "mimetype": "text/x-python",
   "name": "python",
   "nbconvert_exporter": "python",
   "pygments_lexer": "ipython3",
   "version": "3.10.10"
  },
  "orig_nbformat": 4,
  "vscode": {
   "interpreter": {
    "hash": "8bf0d51478355d2251941b3b98616086516a0eddd7c72ee47a3371765770709a"
   }
  }
 },
 "nbformat": 4,
 "nbformat_minor": 2
}
