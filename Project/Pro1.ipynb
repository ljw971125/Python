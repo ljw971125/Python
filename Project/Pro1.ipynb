{
 "cells": [
  {
   "cell_type": "code",
   "execution_count": 26,
   "metadata": {},
   "outputs": [
    {
     "name": "stdout",
     "output_type": "stream",
     "text": [
      "['후드티', '나이키', '맨투맨', '백팩', '아디다스', '니트', '후드집업', '바람막이', '슬리퍼', '바시티 자켓', '가디건', '가방', '사계절 스트링 트레이닝팬츠', '양말', '자켓', '메신저백', '모자', '반스', '바지', '반팔']\n"
     ]
    }
   ],
   "source": [
    "#실시간 키워드 분석\n",
    "import requests\n",
    "from bs4 import BeautifulSoup\n",
    "\n",
    "#사이트를 불러옴\n",
    "request = requests.get(\"https://www.musinsa.com/ranking/keyword\") \n",
    "html_data = request.text\n",
    "soup = BeautifulSoup(html_data, \"html.parser\")\n",
    "\n",
    "keyword_list = []\n",
    "result = soup.find_all('li')\n",
    "\n",
    "for i in result:\n",
    "    keyword_list.append(i.find('a')['title'])\n",
    "\n",
    "print(keyword_list[:20])"
   ]
  },
  {
   "cell_type": "code",
   "execution_count": 70,
   "metadata": {},
   "outputs": [
    {
     "name": "stdout",
     "output_type": "stream",
     "text": [
      "001. 후드티\n",
      "002. 나이키\n",
      "003. 백팩\n",
      "004. 맨투맨\n",
      "005. 후드집업\n",
      "006. 아디다스\n",
      "007. 니트\n",
      "008. 바람막이\n",
      "009. 슬리퍼\n",
      "010. 바시티 자켓\n",
      "011. 가디건\n",
      "012. 가방\n",
      "013. 예일\n",
      "014. 메신저백\n",
      "015. 모자\n",
      "016. 반팔\n",
      "017. 바지\n",
      "018. 조거팬츠\n",
      "019. 카고팬츠\n",
      "020. 사계절 스트링 트레이닝팬츠\n"
     ]
    }
   ],
   "source": [
    "import requests\n",
    "from bs4 import BeautifulSoup\n",
    "\n",
    "#사이트를 불러옴\n",
    "request = requests.get(\"https://www.musinsa.com/ranking/keyword\") \n",
    "html_data = request.text\n",
    "soup = BeautifulSoup(html_data, \"html.parser\")\n",
    "\n",
    "keyword_list = soup.find_all('p',class_='p_srank')\n",
    "for i in range(20):\n",
    "    print(keyword_list[i].get_text().strip())"
   ]
  },
  {
   "cell_type": "code",
   "execution_count": 27,
   "metadata": {},
   "outputs": [],
   "source": [
    "import csv #csv파일을 읽거나 쓰게 해주는 모듈\n",
    "import requests\n",
    "from bs4 import BeautifulSoup\n",
    "\n",
    "#사이트를 불러옴\n",
    "request = requests.get(\"https://www.musinsa.com/ranking/keyword\") \n",
    "html_data = request.text\n",
    "soup = BeautifulSoup(html_data, \"html.parser\")\n",
    "\n",
    "keyword_list = []\n",
    "result = soup.find_all('li')\n",
    "\n",
    "for i in result:\n",
    "    keyword_list.append(i.find('a')['title'])\n",
    "\n",
    "data = keyword_list[:20]\n",
    "\n",
    "with open('Data.csv','a',newline='')as f:\n",
    "    writer = csv.writer(f)\n",
    "    writer.writerow(data)\n",
    "    f.close()"
   ]
  },
  {
   "cell_type": "code",
   "execution_count": 65,
   "metadata": {},
   "outputs": [],
   "source": [
    "import csv #csv파일을 읽거나 쓰게 해주는 모듈\n",
    "import requests\n",
    "from bs4 import BeautifulSoup\n",
    "\n",
    "#사이트를 불러옴\n",
    "request = requests.get(\"https://www.musinsa.com/ranking/keyword\") \n",
    "html_data = request.text\n",
    "soup = BeautifulSoup(html_data, \"html.parser\")\n",
    "def economy():\n",
    "    keyword_list = []\n",
    "    result = soup.find_all('li')\n",
    "\n",
    "    for i in result:\n",
    "        keyword_list.append(i.find('a')['title'])\n",
    "\n",
    "    data = keyword_list[:20]\n",
    "\n",
    "    with open('Data.csv','a',newline='')as f:\n",
    "        writer = csv.writer(f)\n",
    "        writer.writerow(data)\n",
    "        f.close()"
   ]
  },
  {
   "cell_type": "code",
   "execution_count": null,
   "metadata": {},
   "outputs": [],
   "source": [
    "import schedule\n",
    "import time\n",
    "schedule.every(10).seconds.do(economy)\n",
    "\n",
    "while True:\n",
    "    schedule.run_pending()\n",
    "    time.sleep(1)\n"
   ]
  },
  {
   "cell_type": "code",
   "execution_count": 102,
   "metadata": {},
   "outputs": [
    {
     "name": "stdout",
     "output_type": "stream",
     "text": [
      "NM2DP51A 빅샷\n",
      "앱솔루트 백팩 블랙\n",
      "어센틱 로고 백팩 27L 블랙\n",
      "TWO POCKET BACKPACK\n",
      "THINK PACK\n"
     ]
    }
   ],
   "source": [
    "import csv #csv파일을 읽거나 쓰게 해주는 모듈\n",
    "import requests #url 불러오는 모듈\n",
    "from bs4 import BeautifulSoup #html로 변환\n",
    "\n",
    "name = input() \n",
    "request = requests.get(\"https://www.musinsa.com/search/musinsa/goods?q=\"+name+\"&list_kind=small&sortCode=emt_high&sub_sort=&page=1&display_cnt=0&saleGoods=false&includeSoldOut=false&setupGoods=false&popular=false&category1DepthCode=&category2DepthCodes=&category3DepthCodes=&selectedFilters=&category1DepthName=&category2DepthName=&brandIds=&price=&colorCodes=&contentType=&styleTypes=&includeKeywords=&excludeKeywords=&originalYn=N&tags=&campaignId=&serviceType=&eventType=&type=popular&season=&measure=&openFilterLayout=N&selectedOrderMeasure=&shoeSizeOption=&groupSale=false&d_cat_cd=&attribute=\") \n",
    "html_data = request.text\n",
    "soup = BeautifulSoup(html_data, \"html.parser\")\n",
    "\n",
    "#데이터를 불러오고 저장할 리스트\n",
    "keyword_list = []\n",
    "result = soup.find_all('div',class_='list_img')\n",
    "\n",
    "for i in result:\n",
    "    keyword_list.append(i.find('a')['data-bh-content-nm'])\n",
    "\n",
    "for j in keyword_list[:5]:\n",
    "    print(j)"
   ]
  },
  {
   "cell_type": "code",
   "execution_count": 103,
   "metadata": {},
   "outputs": [
    {
     "ename": "JVMNotFoundException",
     "evalue": "No JVM shared library file (jvm.dll) found. Try setting up the JAVA_HOME environment variable properly.",
     "output_type": "error",
     "traceback": [
      "\u001b[1;31m---------------------------------------------------------------------------\u001b[0m",
      "\u001b[1;31mJVMNotFoundException\u001b[0m                      Traceback (most recent call last)",
      "Cell \u001b[1;32mIn[103], line 13\u001b[0m\n\u001b[0;32m      9\u001b[0m text\u001b[39m=\u001b[39mf\u001b[39m.\u001b[39mread()\n\u001b[0;32m     10\u001b[0m \u001b[39m#text\u001b[39;00m\n\u001b[0;32m     11\u001b[0m \n\u001b[0;32m     12\u001b[0m \u001b[39m#명사만 추출\u001b[39;00m\n\u001b[1;32m---> 13\u001b[0m okt\u001b[39m=\u001b[39mOkt() \u001b[39m# 객체 생성\u001b[39;00m\n\u001b[0;32m     14\u001b[0m nouns\u001b[39m=\u001b[39mokt\u001b[39m.\u001b[39mnouns(text) \u001b[39m# 목록화된 명사만 데이터로 남음\u001b[39;00m\n\u001b[0;32m     15\u001b[0m \u001b[39m#nouns\u001b[39;00m\n",
      "File \u001b[1;32m~\\AppData\\Local\\Packages\\PythonSoftwareFoundation.Python.3.10_qbz5n2kfra8p0\\LocalCache\\local-packages\\Python310\\site-packages\\konlpy\\tag\\_okt.py:51\u001b[0m, in \u001b[0;36mOkt.__init__\u001b[1;34m(self, jvmpath, max_heap_size)\u001b[0m\n\u001b[0;32m     49\u001b[0m \u001b[39mdef\u001b[39;00m \u001b[39m__init__\u001b[39m(\u001b[39mself\u001b[39m, jvmpath\u001b[39m=\u001b[39m\u001b[39mNone\u001b[39;00m, max_heap_size\u001b[39m=\u001b[39m\u001b[39m1024\u001b[39m):\n\u001b[0;32m     50\u001b[0m     \u001b[39mif\u001b[39;00m \u001b[39mnot\u001b[39;00m jpype\u001b[39m.\u001b[39misJVMStarted():\n\u001b[1;32m---> 51\u001b[0m         jvm\u001b[39m.\u001b[39;49minit_jvm(jvmpath, max_heap_size)\n\u001b[0;32m     53\u001b[0m     oktJavaPackage \u001b[39m=\u001b[39m jpype\u001b[39m.\u001b[39mJPackage(\u001b[39m'\u001b[39m\u001b[39mkr.lucypark.okt\u001b[39m\u001b[39m'\u001b[39m)\n\u001b[0;32m     54\u001b[0m     OktInterfaceJavaClass \u001b[39m=\u001b[39m oktJavaPackage\u001b[39m.\u001b[39mOktInterface\n",
      "File \u001b[1;32m~\\AppData\\Local\\Packages\\PythonSoftwareFoundation.Python.3.10_qbz5n2kfra8p0\\LocalCache\\local-packages\\Python310\\site-packages\\konlpy\\jvm.py:55\u001b[0m, in \u001b[0;36minit_jvm\u001b[1;34m(jvmpath, max_heap_size)\u001b[0m\n\u001b[0;32m     52\u001b[0m args \u001b[39m=\u001b[39m [javadir, os\u001b[39m.\u001b[39msep]\n\u001b[0;32m     53\u001b[0m classpath \u001b[39m=\u001b[39m [f\u001b[39m.\u001b[39mformat(\u001b[39m*\u001b[39margs) \u001b[39mfor\u001b[39;00m f \u001b[39min\u001b[39;00m folder_suffix]\n\u001b[1;32m---> 55\u001b[0m jvmpath \u001b[39m=\u001b[39m jvmpath \u001b[39mor\u001b[39;00m jpype\u001b[39m.\u001b[39;49mgetDefaultJVMPath()\n\u001b[0;32m     57\u001b[0m \u001b[39m# NOTE: Temporary patch for Issue #76. Erase when possible.\u001b[39;00m\n\u001b[0;32m     58\u001b[0m \u001b[39mif\u001b[39;00m sys\u001b[39m.\u001b[39mplatform \u001b[39m==\u001b[39m \u001b[39m'\u001b[39m\u001b[39mdarwin\u001b[39m\u001b[39m'\u001b[39m\\\n\u001b[0;32m     59\u001b[0m         \u001b[39mand\u001b[39;00m jvmpath\u001b[39m.\u001b[39mfind(\u001b[39m'\u001b[39m\u001b[39m1.8.0\u001b[39m\u001b[39m'\u001b[39m) \u001b[39m>\u001b[39m \u001b[39m0\u001b[39m\\\n\u001b[0;32m     60\u001b[0m         \u001b[39mand\u001b[39;00m jvmpath\u001b[39m.\u001b[39mendswith(\u001b[39m'\u001b[39m\u001b[39mlibjvm.dylib\u001b[39m\u001b[39m'\u001b[39m):\n",
      "File \u001b[1;32m~\\AppData\\Local\\Packages\\PythonSoftwareFoundation.Python.3.10_qbz5n2kfra8p0\\LocalCache\\local-packages\\Python310\\site-packages\\jpype\\_jvmfinder.py:74\u001b[0m, in \u001b[0;36mgetDefaultJVMPath\u001b[1;34m()\u001b[0m\n\u001b[0;32m     72\u001b[0m \u001b[39melse\u001b[39;00m:\n\u001b[0;32m     73\u001b[0m     finder \u001b[39m=\u001b[39m LinuxJVMFinder()\n\u001b[1;32m---> 74\u001b[0m \u001b[39mreturn\u001b[39;00m finder\u001b[39m.\u001b[39;49mget_jvm_path()\n",
      "File \u001b[1;32m~\\AppData\\Local\\Packages\\PythonSoftwareFoundation.Python.3.10_qbz5n2kfra8p0\\LocalCache\\local-packages\\Python310\\site-packages\\jpype\\_jvmfinder.py:212\u001b[0m, in \u001b[0;36mJVMFinder.get_jvm_path\u001b[1;34m(self)\u001b[0m\n\u001b[0;32m    210\u001b[0m \u001b[39mif\u001b[39;00m jvm_notsupport_ext \u001b[39mis\u001b[39;00m \u001b[39mnot\u001b[39;00m \u001b[39mNone\u001b[39;00m:\n\u001b[0;32m    211\u001b[0m     \u001b[39mraise\u001b[39;00m jvm_notsupport_ext\n\u001b[1;32m--> 212\u001b[0m \u001b[39mraise\u001b[39;00m JVMNotFoundException(\u001b[39m\"\u001b[39m\u001b[39mNo JVM shared library file (\u001b[39m\u001b[39m{0}\u001b[39;00m\u001b[39m) \u001b[39m\u001b[39m\"\u001b[39m\n\u001b[0;32m    213\u001b[0m                            \u001b[39m\"\u001b[39m\u001b[39mfound. Try setting up the JAVA_HOME \u001b[39m\u001b[39m\"\u001b[39m\n\u001b[0;32m    214\u001b[0m                            \u001b[39m\"\u001b[39m\u001b[39menvironment variable properly.\u001b[39m\u001b[39m\"\u001b[39m\n\u001b[0;32m    215\u001b[0m                            \u001b[39m.\u001b[39mformat(\u001b[39mself\u001b[39m\u001b[39m.\u001b[39m_libfile))\n",
      "\u001b[1;31mJVMNotFoundException\u001b[0m: No JVM shared library file (jvm.dll) found. Try setting up the JAVA_HOME environment variable properly."
     ]
    }
   ],
   "source": [
    "import csv\n",
    "import matplotlib.pyplot as plt\n",
    "from wordcloud import WordCloud # 라이브러리 설치\n",
    "from collections import Counter\n",
    "from konlpy.tag import Okt\n",
    "import numpy as np\n",
    "# 분석하려는 데이터 로딩\n",
    "f=open('Data.csv','r',encoding='cp949')\n",
    "text=f.read()\n",
    "#text\n",
    "\n",
    "#명사만 추출\n",
    "okt=Okt() # 객체 생성\n",
    "nouns=okt.nouns(text) # 목록화된 명사만 데이터로 남음\n",
    "#nouns\n",
    "\n",
    "words=[n for n in nouns if len(n) >1 ] # 단어의 길이가 1개인 것은 제외\n",
    "c=Counter(words) #단어에 대해 워드의 갯수 파악\n",
    "\n",
    "#데이터를 시각화 작업\n",
    "wc=WordCloud(font_path='C:\\\\Windows\\\\Fonts\\\\NGULIM.TTF',background_color=\"white\",width=800, height=400,relative_scaling=1).generate_from_frequencies(c)\n",
    "plt.figure()"
   ]
  },
  {
   "cell_type": "code",
   "execution_count": 72,
   "metadata": {},
   "outputs": [
    {
     "name": "stdout",
     "output_type": "stream",
     "text": [
      "[]\n"
     ]
    }
   ],
   "source": [
    "import requests\n",
    "from bs4 import BeautifulSoup\n",
    "\n",
    "#사이트를 불러옴\n",
    "request = requests.get(\"https://www.musinsa.com/app/goods/2106705\") \n",
    "html_data = request.text\n",
    "soup = BeautifulSoup(html_data, \"html.parser\")\n",
    "\n",
    "keyword_list = []\n",
    "result = soup.find_all('div',class_='review-list')\n",
    "\n",
    "for i in result:\n",
    "    keyword_list.append(i.find('div')['review-contents__text'])\n",
    "\n",
    "print(keyword_list[:20])"
   ]
  }
 ],
 "metadata": {
  "kernelspec": {
   "display_name": "Python 3",
   "language": "python",
   "name": "python3"
  },
  "language_info": {
   "codemirror_mode": {
    "name": "ipython",
    "version": 3
   },
   "file_extension": ".py",
   "mimetype": "text/x-python",
   "name": "python",
   "nbconvert_exporter": "python",
   "pygments_lexer": "ipython3",
   "version": "3.10.10"
  },
  "orig_nbformat": 4,
  "vscode": {
   "interpreter": {
    "hash": "8bf0d51478355d2251941b3b98616086516a0eddd7c72ee47a3371765770709a"
   }
  }
 },
 "nbformat": 4,
 "nbformat_minor": 2
}
