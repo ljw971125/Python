{
 "cells": [
  {
   "cell_type": "code",
   "execution_count": 26,
   "metadata": {},
   "outputs": [
    {
     "name": "stdout",
     "output_type": "stream",
     "text": [
      "['후드티', '나이키', '맨투맨', '백팩', '아디다스', '니트', '후드집업', '바람막이', '슬리퍼', '바시티 자켓', '가디건', '가방', '사계절 스트링 트레이닝팬츠', '양말', '자켓', '메신저백', '모자', '반스', '바지', '반팔']\n"
     ]
    }
   ],
   "source": [
    "#실시간 키워드 분석\n",
    "import requests\n",
    "from bs4 import BeautifulSoup\n",
    "\n",
    "#사이트를 불러옴\n",
    "request = requests.get(\"https://www.musinsa.com/ranking/keyword\") \n",
    "html_data = request.text\n",
    "soup = BeautifulSoup(html_data, \"html.parser\")\n",
    "\n",
    "keyword_list = []\n",
    "result = soup.find_all('li')\n",
    "\n",
    "for i in result:\n",
    "    keyword_list.append(i.find('a')['title'])\n",
    "\n",
    "print(keyword_list[:20])"
   ]
  },
  {
   "cell_type": "code",
   "execution_count": 70,
   "metadata": {},
   "outputs": [
    {
     "name": "stdout",
     "output_type": "stream",
     "text": [
      "001. 후드티\n",
      "002. 나이키\n",
      "003. 백팩\n",
      "004. 맨투맨\n",
      "005. 후드집업\n",
      "006. 아디다스\n",
      "007. 니트\n",
      "008. 바람막이\n",
      "009. 슬리퍼\n",
      "010. 바시티 자켓\n",
      "011. 가디건\n",
      "012. 가방\n",
      "013. 예일\n",
      "014. 메신저백\n",
      "015. 모자\n",
      "016. 반팔\n",
      "017. 바지\n",
      "018. 조거팬츠\n",
      "019. 카고팬츠\n",
      "020. 사계절 스트링 트레이닝팬츠\n"
     ]
    }
   ],
   "source": [
    "import requests\n",
    "from bs4 import BeautifulSoup\n",
    "\n",
    "#사이트를 불러옴\n",
    "request = requests.get(\"https://www.musinsa.com/ranking/keyword\") \n",
    "html_data = request.text\n",
    "soup = BeautifulSoup(html_data, \"html.parser\")\n",
    "\n",
    "keyword_list = soup.find_all('p',class_='p_srank')\n",
    "for i in range(20):\n",
    "    print(keyword_list[i].get_text().strip())"
   ]
  },
  {
   "cell_type": "code",
   "execution_count": 27,
   "metadata": {},
   "outputs": [],
   "source": [
    "import csv #csv파일을 읽거나 쓰게 해주는 모듈\n",
    "import requests\n",
    "from bs4 import BeautifulSoup\n",
    "\n",
    "#사이트를 불러옴\n",
    "request = requests.get(\"https://www.musinsa.com/ranking/keyword\") \n",
    "html_data = request.text\n",
    "soup = BeautifulSoup(html_data, \"html.parser\")\n",
    "\n",
    "keyword_list = []\n",
    "result = soup.find_all('li')\n",
    "\n",
    "for i in result:\n",
    "    keyword_list.append(i.find('a')['title'])\n",
    "\n",
    "data = keyword_list[:20]\n",
    "\n",
    "with open('Data.csv','a',newline='')as f:\n",
    "    writer = csv.writer(f)\n",
    "    writer.writerow(data)\n",
    "    f.close()"
   ]
  },
  {
   "cell_type": "code",
   "execution_count": 25,
   "metadata": {},
   "outputs": [],
   "source": [
    "import csv #csv파일을 읽거나 쓰게 해주는 모듈\n",
    "import requests\n",
    "from bs4 import BeautifulSoup\n",
    "\n",
    "#사이트를 불러옴\n",
    "request = requests.get(\"https://www.musinsa.com/ranking/keyword\") \n",
    "html_data = request.text\n",
    "soup = BeautifulSoup(html_data, \"html.parser\")\n",
    "def economy():\n",
    "    keyword_list = []\n",
    "    result = soup.find_all('li')\n",
    "\n",
    "    for i in result:\n",
    "        keyword_list.append(i.find('a')['title'])\n",
    "\n",
    "    data = keyword_list[:20]\n",
    "\n",
    "    with open('Data.csv','a',newline='')as f:\n",
    "        writer = csv.writer(f)\n",
    "        writer.writerow(data)\n",
    "        f.close()"
   ]
  },
  {
   "cell_type": "code",
   "execution_count": null,
   "metadata": {},
   "outputs": [],
   "source": [
    "import schedule\n",
    "import time\n",
    "schedule.every(10).seconds.do(economy)\n",
    "\n",
    "while True:\n",
    "    schedule.run_pending()\n",
    "    time.sleep(1)\n"
   ]
  },
  {
   "cell_type": "code",
   "execution_count": 58,
   "metadata": {},
   "outputs": [
    {
     "name": "stdout",
     "output_type": "stream",
     "text": [
      "(23SS) 2 TONE ARCH HOODIE GRAY\n",
      "에센셜 후드 스웻 셔츠 (MELANGE GREY)\n",
      "로그 오버핏 기모 후드 그레이 YHHD2302\n",
      "미시간 울버린 피그먼트 후드티 블랙 차콜\n",
      "UNISEX LAUREL OVERSIZED HOODIE - 5 COL\n",
      "[SET] (맨투맨 OR 후드 선택) CGP 아치 로고 트레이닝 셋업_멜란지그레이\n",
      "슬레이크 후드 네이비 HHHD3397\n",
      "(23SS) 2 TONE ARCH HOODIE BLACK\n",
      "빅 트위치 루즈핏 후드 네이비\n",
      "슬레이크 후드 올리브 HHHD3397\n",
      "(23SS) (YALE HEAVYWEIGHT) MIXED HOODIE NAVY\n",
      "뉴필드 후드 남색 SMHD4457\n",
      "T-Logo Hoodie Heather Grey\n",
      "[SET] (맨투맨 OR 후드 선택) CGP 오리진 호랑이 로고 트레이닝 셋업_멜란지그레이\n",
      "[SET] (맨투맨 OR 후드 선택) CGP 아치 로고 트레이닝 셋업_네이비\n",
      "TAG HOODIE - BLACK\n",
      "[패키지] (기모) NYC LOCATION HOOD T-SHIRTS (16COLOR) [LRPWCTH333M]\n",
      "(23SS) 2 TONE ARCH HOODIE NAVY\n",
      "TAG HOODIE - ASH\n",
      "해비 코튼 썸홀 후디 : 15color\n",
      "['(23SS) 2 TONE ARCH HOODIE GRAY', '에센셜 후드 스웻 셔츠 (MELANGE GREY)', '로그 오버핏 기모 후드 그레이 YHHD2302', '미시간 울버린 피그먼트 후드티 블랙 차콜', 'UNISEX LAUREL OVERSIZED HOODIE - 5 COL', '[SET] (맨투맨 OR 후드 선택) CGP 아치 로고 트레이닝 셋업_멜란지그레이', '슬레이크 후드 네이비 HHHD3397', '(23SS) 2 TONE ARCH HOODIE BLACK', '빅 트위치 루즈핏 후드 네이비', '슬레이크 후드 올리브 HHHD3397', '(23SS) (YALE HEAVYWEIGHT) MIXED HOODIE NAVY', '뉴필드 후드 남색 SMHD4457', 'T-Logo Hoodie Heather Grey', '[SET] (맨투맨 OR 후드 선택) CGP 오리진 호랑이 로고 트레이닝 셋업_멜란지그레이', '[SET] (맨투맨 OR 후드 선택) CGP 아치 로고 트레이닝 셋업_네이비', 'TAG HOODIE - BLACK', '[패키지] (기모) NYC LOCATION HOOD T-SHIRTS (16COLOR) [LRPWCTH333M]', '(23SS) 2 TONE ARCH HOODIE NAVY', 'TAG HOODIE - ASH', '해비 코튼 썸홀 후디 : 15color', '에센셜 후드 스웻 셔츠 (BLACK)', '슬레이크 후드 블랙 HHHD3397', 'DOODLE LOGO HOODIE - BLACK', '[기모] Geppetto 자수 후드 크림', '(23SS) EMBROIDERY UNIVERSITY DAN HOODIE GRAY', '헤비웨이트 오버사이즈 후디드 스웨트셔츠 [미디엄 그레이]', '하비스트 오버핏 기모 후드 차콜 OYHD2393', '베츠 어센틱 후드 그레이', '빅 트위치 루즈핏 후드 그레이', '슬레이크 후드 화이트오트밀 HHHD3397', '엔젤 와펜 후드 그레이', 'ODSD 로고 아플리케 후드 - 8COLOR', 'COLLEGE LOGO HOODIE BLACK(MG2BSMM401A)', '엔젤 와펜 후드 블랙', 'COLLEGE LOGO HOODIE GREY(MG2BSMM401A)', '우먼즈 크롭 베어프렌즈 엠보자수 후드 오트밀(FCB3TS359W)', 'T-Logo Hoodie Black', '빅 트위치 루즈핏 후드 블랙', '[SET] 로럴골든 후드티 조거팬츠 셋업_(5color)', 'T-Logo Hoodie Navy', '[패키지] 로그 오버핏 기모 후드 2Pack YHHD2302', '로그 오버핏 기모 후드 블랙 YHHD2302', 'RESEARCH HOODIE [KHAKI]', 'Arch Logo Hoodie Navy', '헤비웨이트 오버사이즈 후디드 스웨트셔츠 [블랙]', '어센틱 로고 후디 멜란지 그레이', '[SET] (맨투맨 OR 후드 선택) CGP 아치 로고 트레이닝 셋업_오트밀', '(23SS) 2 TONE ARCH HOODIE IVORY', '시그니쳐 로고 후드 그레이', '[SET] (맨투맨 OR 후드 선택) CGP 아치 로고 트레이닝 셋업_블랙', '(23SS) 2 TONE ARCH HOODIE OATMEAL', '[Mmlg] 19MG HOOD (EVERY GREY)', '스몰 트위치 로고 에어로웜 오버핏 후드 티셔츠 멜란지 그레이', '에센셜 후드 스웻 셔츠 (CHARCOAL)', '넌슬립 자수 후드 그레이', '로럴골든 후드티_화이트멜란지', '[Mmlg] 19MG HOOD (AUTHENTIC NAVY)', '하비스트 오버핏 기모 후드 네이비 OYHD2393', '크래킹 스냅 레글런 후드티 블랙', '베츠 어센틱 후드 블랙', '오버핏 1988 아치 로고 후디-그레이', '리뉴 오리지널 기모후드 JDHD1369', 'UNISEX LAUREL OVERSIZED HOODIE CREAM', '[SET] (맨투맨 OR 후드 선택) CGP 아치 로고 트레이닝 셋업_그레이', 'PHYPS® STRAWBERRY HOODIE OATMEAL', '[Mmlg] 19MG HOOD (EVERY BLACK)', '피치스킨 벌룬오버 후드 - 블랙', 'TAG HOODIE - NAVY', 'T-Logo Hoodie Light Heather Grey', '뉴필드 후드 검정 SMHD4457', 'GEOMETRY HOODIE [6 COLOR]', '후디드 스웨트셔츠 [멜란지 그레이]', 'REVERSE HEAVY HOOD  SWEAT_3% MELANGE GRAY', '뉴잭시티 후드 회색 SMHD4455', '[패키지] NYC LOCATION HOOD T-SHIRTS (13COLOR) [LRQSCTH331M]', '어센틱 로고 후디 네이비', '980g pigment CUT hood-chacoal-', '어센틱 로고 후디 블랙', '오버핏 블룸 스웨트 셔츠-네이비', '뉴필드 후드 백오트밀 SMHD4457', 'SELLER LOGO HOODIE LIGHT GREY(BLUE)(CV2BFUM400A)', '엔비엘 로고 후드티 (그레이)', '빅 트위치 루즈핏 후드 티셔츠 아이보리', '[기모] mmM 일러스트 타투 후드 헤비오버핏 그레이', '미시간 울버린 피그먼트 후드티 다크 블루', '뉴필드 후드 회색 SMHD4457', 'PHYPS® MONDAY ROUTINE STITCH HOODIE OATMEAL', '슬레이크 후드 브라운 HHHD3397', '스몰 트위치 로고 에어로웜 오버핏 후드 티셔츠 블랙', 'EarthHeart 후드티']\n"
     ]
    }
   ],
   "source": [
    "import csv #csv파일을 읽거나 쓰게 해주는 모듈\n",
    "import requests #url 불러오는 모듈\n",
    "from bs4 import BeautifulSoup #html로 변환\n",
    "\n",
    "name = input()\n",
    "request = requests.get(\"https://www.musinsa.com/search/musinsa/goods?q=\"+name+\"&list_kind=small&sortCode=sale_high&sub_sort=1y&page=1&display_cnt=0&saleGoods=false&includeSoldOut=false&setupGoods=false&popular=false&category1DepthCode=&category2DepthCodes=&category3DepthCodes=&selectedFilters=&category1DepthName=&category2DepthName=&brandIds=&price=&colorCodes=&contentType=&styleTypes=&includeKeywords=&excludeKeywords=&originalYn=N&tags=&campaignId=&serviceType=&eventType=&type=&season=&measure=&openFilterLayout=N&selectedOrderMeasure=&shoeSizeOption=&groupSale=false&d_cat_cd=&attribute=\") \n",
    "html_data = request.text\n",
    "soup = BeautifulSoup(html_data, \"html.parser\")\n",
    "\n",
    "#데이터를 불러오고 저장할 리스트\n",
    "keyword_list = []\n",
    "result = soup.find_all('div',class_='list_img')\n",
    "\n",
    "for i in result:\n",
    "    keyword_list.append(i.find('a')['data-bh-content-nm'])\n",
    "\n",
    "for j in keyword_list[:20]:\n",
    "    print(j)"
   ]
  }
 ],
 "metadata": {
  "kernelspec": {
   "display_name": "Python 3",
   "language": "python",
   "name": "python3"
  },
  "language_info": {
   "codemirror_mode": {
    "name": "ipython",
    "version": 3
   },
   "file_extension": ".py",
   "mimetype": "text/x-python",
   "name": "python",
   "nbconvert_exporter": "python",
   "pygments_lexer": "ipython3",
   "version": "3.10.10"
  },
  "orig_nbformat": 4,
  "vscode": {
   "interpreter": {
    "hash": "8bf0d51478355d2251941b3b98616086516a0eddd7c72ee47a3371765770709a"
   }
  }
 },
 "nbformat": 4,
 "nbformat_minor": 2
}
