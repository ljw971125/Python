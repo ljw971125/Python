{
 "cells": [
  {
   "cell_type": "code",
   "execution_count": 1,
   "metadata": {},
   "outputs": [],
   "source": [
    "import pandas as pd"
   ]
  },
  {
   "cell_type": "code",
   "execution_count": 2,
   "metadata": {},
   "outputs": [],
   "source": [
    "df = pd.read_csv('20230307_01.csv')"
   ]
  },
  {
   "cell_type": "code",
   "execution_count": 3,
   "metadata": {},
   "outputs": [
    {
     "data": {
      "text/html": [
       "<div>\n",
       "<style scoped>\n",
       "    .dataframe tbody tr th:only-of-type {\n",
       "        vertical-align: middle;\n",
       "    }\n",
       "\n",
       "    .dataframe tbody tr th {\n",
       "        vertical-align: top;\n",
       "    }\n",
       "\n",
       "    .dataframe thead th {\n",
       "        text-align: right;\n",
       "    }\n",
       "</style>\n",
       "<table border=\"1\" class=\"dataframe\">\n",
       "  <thead>\n",
       "    <tr style=\"text-align: right;\">\n",
       "      <th></th>\n",
       "      <th>이름</th>\n",
       "      <th>그룹</th>\n",
       "      <th>소속사</th>\n",
       "      <th>성별</th>\n",
       "      <th>생년월일</th>\n",
       "      <th>키</th>\n",
       "      <th>혈액형</th>\n",
       "      <th>브랜드평판지수</th>\n",
       "    </tr>\n",
       "  </thead>\n",
       "  <tbody>\n",
       "    <tr>\n",
       "      <th>0</th>\n",
       "      <td>지민</td>\n",
       "      <td>방탄소년단</td>\n",
       "      <td>빅히트</td>\n",
       "      <td>남자</td>\n",
       "      <td>1995-10-13</td>\n",
       "      <td>173.6</td>\n",
       "      <td>A</td>\n",
       "      <td>10523260</td>\n",
       "    </tr>\n",
       "    <tr>\n",
       "      <th>1</th>\n",
       "      <td>지드래곤</td>\n",
       "      <td>빅뱅</td>\n",
       "      <td>YG</td>\n",
       "      <td>남자</td>\n",
       "      <td>1988-08-18</td>\n",
       "      <td>177.0</td>\n",
       "      <td>A</td>\n",
       "      <td>9916947</td>\n",
       "    </tr>\n",
       "    <tr>\n",
       "      <th>2</th>\n",
       "      <td>강다니엘</td>\n",
       "      <td>NaN</td>\n",
       "      <td>커넥트</td>\n",
       "      <td>남자</td>\n",
       "      <td>1996-12-10</td>\n",
       "      <td>180.0</td>\n",
       "      <td>A</td>\n",
       "      <td>8273745</td>\n",
       "    </tr>\n",
       "    <tr>\n",
       "      <th>3</th>\n",
       "      <td>뷔</td>\n",
       "      <td>방탄소년단</td>\n",
       "      <td>빅히트</td>\n",
       "      <td>남자</td>\n",
       "      <td>1995-12-30</td>\n",
       "      <td>178.0</td>\n",
       "      <td>AB</td>\n",
       "      <td>8073501</td>\n",
       "    </tr>\n",
       "    <tr>\n",
       "      <th>4</th>\n",
       "      <td>화사</td>\n",
       "      <td>마마무</td>\n",
       "      <td>RBW</td>\n",
       "      <td>여자</td>\n",
       "      <td>1995-07-23</td>\n",
       "      <td>162.1</td>\n",
       "      <td>A</td>\n",
       "      <td>7650928</td>\n",
       "    </tr>\n",
       "    <tr>\n",
       "      <th>5</th>\n",
       "      <td>정국</td>\n",
       "      <td>방탄소년단</td>\n",
       "      <td>빅히트</td>\n",
       "      <td>남자</td>\n",
       "      <td>1997-09-01</td>\n",
       "      <td>178.0</td>\n",
       "      <td>A</td>\n",
       "      <td>5208335</td>\n",
       "    </tr>\n",
       "    <tr>\n",
       "      <th>6</th>\n",
       "      <td>민현</td>\n",
       "      <td>뉴이스트</td>\n",
       "      <td>플레디스</td>\n",
       "      <td>남자</td>\n",
       "      <td>1995-08-09</td>\n",
       "      <td>182.3</td>\n",
       "      <td>O</td>\n",
       "      <td>4989792</td>\n",
       "    </tr>\n",
       "    <tr>\n",
       "      <th>7</th>\n",
       "      <td>소연</td>\n",
       "      <td>아이들</td>\n",
       "      <td>큐브</td>\n",
       "      <td>여자</td>\n",
       "      <td>1998-08-26</td>\n",
       "      <td>NaN</td>\n",
       "      <td>B</td>\n",
       "      <td>4668615</td>\n",
       "    </tr>\n",
       "    <tr>\n",
       "      <th>8</th>\n",
       "      <td>진</td>\n",
       "      <td>방탄소년단</td>\n",
       "      <td>빅히트</td>\n",
       "      <td>남자</td>\n",
       "      <td>1992-12-04</td>\n",
       "      <td>179.2</td>\n",
       "      <td>O</td>\n",
       "      <td>4570308</td>\n",
       "    </tr>\n",
       "    <tr>\n",
       "      <th>9</th>\n",
       "      <td>하성운</td>\n",
       "      <td>핫샷</td>\n",
       "      <td>스타크루이엔티</td>\n",
       "      <td>남자</td>\n",
       "      <td>1994-03-22</td>\n",
       "      <td>167.1</td>\n",
       "      <td>A</td>\n",
       "      <td>4036489</td>\n",
       "    </tr>\n",
       "    <tr>\n",
       "      <th>10</th>\n",
       "      <td>태연</td>\n",
       "      <td>소녀시대</td>\n",
       "      <td>SM</td>\n",
       "      <td>여자</td>\n",
       "      <td>1989-03-09</td>\n",
       "      <td>NaN</td>\n",
       "      <td>A</td>\n",
       "      <td>3918661</td>\n",
       "    </tr>\n",
       "    <tr>\n",
       "      <th>11</th>\n",
       "      <td>차은우</td>\n",
       "      <td>아스트로</td>\n",
       "      <td>판타지오</td>\n",
       "      <td>남자</td>\n",
       "      <td>1997-03-30</td>\n",
       "      <td>183.0</td>\n",
       "      <td>B</td>\n",
       "      <td>3506027</td>\n",
       "    </tr>\n",
       "    <tr>\n",
       "      <th>12</th>\n",
       "      <td>백호</td>\n",
       "      <td>뉴이스트</td>\n",
       "      <td>플레디스</td>\n",
       "      <td>남자</td>\n",
       "      <td>1995-07-21</td>\n",
       "      <td>175.0</td>\n",
       "      <td>AB</td>\n",
       "      <td>3301654</td>\n",
       "    </tr>\n",
       "    <tr>\n",
       "      <th>13</th>\n",
       "      <td>JR</td>\n",
       "      <td>뉴이스트</td>\n",
       "      <td>플레디스</td>\n",
       "      <td>남자</td>\n",
       "      <td>1995-06-08</td>\n",
       "      <td>176.0</td>\n",
       "      <td>O</td>\n",
       "      <td>3274137</td>\n",
       "    </tr>\n",
       "    <tr>\n",
       "      <th>14</th>\n",
       "      <td>슈가</td>\n",
       "      <td>방탄소년단</td>\n",
       "      <td>빅히트</td>\n",
       "      <td>남자</td>\n",
       "      <td>1993-03-09</td>\n",
       "      <td>174.0</td>\n",
       "      <td>O</td>\n",
       "      <td>2925442</td>\n",
       "    </tr>\n",
       "  </tbody>\n",
       "</table>\n",
       "</div>"
      ],
      "text/plain": [
       "      이름     그룹      소속사  성별        생년월일      키 혈액형   브랜드평판지수\n",
       "0     지민  방탄소년단      빅히트  남자  1995-10-13  173.6   A  10523260\n",
       "1   지드래곤     빅뱅       YG  남자  1988-08-18  177.0   A   9916947\n",
       "2   강다니엘    NaN      커넥트  남자  1996-12-10  180.0   A   8273745\n",
       "3      뷔  방탄소년단      빅히트  남자  1995-12-30  178.0  AB   8073501\n",
       "4     화사    마마무      RBW  여자  1995-07-23  162.1   A   7650928\n",
       "5     정국  방탄소년단      빅히트  남자  1997-09-01  178.0   A   5208335\n",
       "6     민현   뉴이스트     플레디스  남자  1995-08-09  182.3   O   4989792\n",
       "7     소연    아이들       큐브  여자  1998-08-26    NaN   B   4668615\n",
       "8      진  방탄소년단      빅히트  남자  1992-12-04  179.2   O   4570308\n",
       "9    하성운     핫샷  스타크루이엔티  남자  1994-03-22  167.1   A   4036489\n",
       "10    태연   소녀시대       SM  여자  1989-03-09    NaN   A   3918661\n",
       "11   차은우   아스트로     판타지오  남자  1997-03-30  183.0   B   3506027\n",
       "12    백호   뉴이스트     플레디스  남자  1995-07-21  175.0  AB   3301654\n",
       "13    JR   뉴이스트     플레디스  남자  1995-06-08  176.0   O   3274137\n",
       "14    슈가  방탄소년단      빅히트  남자  1993-03-09  174.0   O   2925442"
      ]
     },
     "execution_count": 3,
     "metadata": {},
     "output_type": "execute_result"
    }
   ],
   "source": [
    "df"
   ]
  },
  {
   "cell_type": "code",
   "execution_count": 5,
   "metadata": {},
   "outputs": [
    {
     "name": "stdout",
     "output_type": "stream",
     "text": [
      "<class 'pandas.core.frame.DataFrame'>\n",
      "RangeIndex: 15 entries, 0 to 14\n",
      "Data columns (total 8 columns):\n",
      " #   Column   Non-Null Count  Dtype  \n",
      "---  ------   --------------  -----  \n",
      " 0   이름       15 non-null     object \n",
      " 1   그룹       14 non-null     object \n",
      " 2   소속사      15 non-null     object \n",
      " 3   성별       15 non-null     object \n",
      " 4   생년월일     15 non-null     object \n",
      " 5   키        13 non-null     float64\n",
      " 6   혈액형      15 non-null     object \n",
      " 7   브랜드평판지수  15 non-null     int64  \n",
      "dtypes: float64(1), int64(1), object(6)\n",
      "memory usage: 1.1+ KB\n"
     ]
    }
   ],
   "source": [
    "df.info()\n",
    "#object : 일반 문자열\n",
    "#float : 실수\n",
    "#int : 정수\n",
    "#category : 카테고리\n",
    "#datatime : 시간"
   ]
  },
  {
   "cell_type": "code",
   "execution_count": 6,
   "metadata": {},
   "outputs": [
    {
     "data": {
      "text/plain": [
       "dtype('float64')"
      ]
     },
     "execution_count": 6,
     "metadata": {},
     "output_type": "execute_result"
    }
   ],
   "source": [
    "df['키'].dtype"
   ]
  },
  {
   "cell_type": "code",
   "execution_count": 7,
   "metadata": {},
   "outputs": [
    {
     "ename": "IntCastingNaNError",
     "evalue": "Cannot convert non-finite values (NA or inf) to integer",
     "output_type": "error",
     "traceback": [
      "\u001b[1;31m---------------------------------------------------------------------------\u001b[0m",
      "\u001b[1;31mIntCastingNaNError\u001b[0m                        Traceback (most recent call last)",
      "Cell \u001b[1;32mIn[7], line 1\u001b[0m\n\u001b[1;32m----> 1\u001b[0m df[\u001b[39m'\u001b[39;49m\u001b[39m키\u001b[39;49m\u001b[39m'\u001b[39;49m]\u001b[39m.\u001b[39;49mastype(\u001b[39mint\u001b[39;49m)\n",
      "File \u001b[1;32mc:\\Users\\admin\\AppData\\Local\\Programs\\Python\\Python310\\lib\\site-packages\\pandas\\core\\generic.py:6240\u001b[0m, in \u001b[0;36mNDFrame.astype\u001b[1;34m(self, dtype, copy, errors)\u001b[0m\n\u001b[0;32m   6233\u001b[0m     results \u001b[39m=\u001b[39m [\n\u001b[0;32m   6234\u001b[0m         \u001b[39mself\u001b[39m\u001b[39m.\u001b[39miloc[:, i]\u001b[39m.\u001b[39mastype(dtype, copy\u001b[39m=\u001b[39mcopy)\n\u001b[0;32m   6235\u001b[0m         \u001b[39mfor\u001b[39;00m i \u001b[39min\u001b[39;00m \u001b[39mrange\u001b[39m(\u001b[39mlen\u001b[39m(\u001b[39mself\u001b[39m\u001b[39m.\u001b[39mcolumns))\n\u001b[0;32m   6236\u001b[0m     ]\n\u001b[0;32m   6238\u001b[0m \u001b[39melse\u001b[39;00m:\n\u001b[0;32m   6239\u001b[0m     \u001b[39m# else, only a single dtype is given\u001b[39;00m\n\u001b[1;32m-> 6240\u001b[0m     new_data \u001b[39m=\u001b[39m \u001b[39mself\u001b[39;49m\u001b[39m.\u001b[39;49m_mgr\u001b[39m.\u001b[39;49mastype(dtype\u001b[39m=\u001b[39;49mdtype, copy\u001b[39m=\u001b[39;49mcopy, errors\u001b[39m=\u001b[39;49merrors)\n\u001b[0;32m   6241\u001b[0m     \u001b[39mreturn\u001b[39;00m \u001b[39mself\u001b[39m\u001b[39m.\u001b[39m_constructor(new_data)\u001b[39m.\u001b[39m__finalize__(\u001b[39mself\u001b[39m, method\u001b[39m=\u001b[39m\u001b[39m\"\u001b[39m\u001b[39mastype\u001b[39m\u001b[39m\"\u001b[39m)\n\u001b[0;32m   6243\u001b[0m \u001b[39m# GH 33113: handle empty frame or series\u001b[39;00m\n",
      "File \u001b[1;32mc:\\Users\\admin\\AppData\\Local\\Programs\\Python\\Python310\\lib\\site-packages\\pandas\\core\\internals\\managers.py:448\u001b[0m, in \u001b[0;36mBaseBlockManager.astype\u001b[1;34m(self, dtype, copy, errors)\u001b[0m\n\u001b[0;32m    447\u001b[0m \u001b[39mdef\u001b[39;00m \u001b[39mastype\u001b[39m(\u001b[39mself\u001b[39m: T, dtype, copy: \u001b[39mbool\u001b[39m \u001b[39m=\u001b[39m \u001b[39mFalse\u001b[39;00m, errors: \u001b[39mstr\u001b[39m \u001b[39m=\u001b[39m \u001b[39m\"\u001b[39m\u001b[39mraise\u001b[39m\u001b[39m\"\u001b[39m) \u001b[39m-\u001b[39m\u001b[39m>\u001b[39m T:\n\u001b[1;32m--> 448\u001b[0m     \u001b[39mreturn\u001b[39;00m \u001b[39mself\u001b[39;49m\u001b[39m.\u001b[39;49mapply(\u001b[39m\"\u001b[39;49m\u001b[39mastype\u001b[39;49m\u001b[39m\"\u001b[39;49m, dtype\u001b[39m=\u001b[39;49mdtype, copy\u001b[39m=\u001b[39;49mcopy, errors\u001b[39m=\u001b[39;49merrors)\n",
      "File \u001b[1;32mc:\\Users\\admin\\AppData\\Local\\Programs\\Python\\Python310\\lib\\site-packages\\pandas\\core\\internals\\managers.py:352\u001b[0m, in \u001b[0;36mBaseBlockManager.apply\u001b[1;34m(self, f, align_keys, ignore_failures, **kwargs)\u001b[0m\n\u001b[0;32m    350\u001b[0m         applied \u001b[39m=\u001b[39m b\u001b[39m.\u001b[39mapply(f, \u001b[39m*\u001b[39m\u001b[39m*\u001b[39mkwargs)\n\u001b[0;32m    351\u001b[0m     \u001b[39melse\u001b[39;00m:\n\u001b[1;32m--> 352\u001b[0m         applied \u001b[39m=\u001b[39m \u001b[39mgetattr\u001b[39m(b, f)(\u001b[39m*\u001b[39m\u001b[39m*\u001b[39mkwargs)\n\u001b[0;32m    353\u001b[0m \u001b[39mexcept\u001b[39;00m (\u001b[39mTypeError\u001b[39;00m, \u001b[39mNotImplementedError\u001b[39;00m):\n\u001b[0;32m    354\u001b[0m     \u001b[39mif\u001b[39;00m \u001b[39mnot\u001b[39;00m ignore_failures:\n",
      "File \u001b[1;32mc:\\Users\\admin\\AppData\\Local\\Programs\\Python\\Python310\\lib\\site-packages\\pandas\\core\\internals\\blocks.py:526\u001b[0m, in \u001b[0;36mBlock.astype\u001b[1;34m(self, dtype, copy, errors)\u001b[0m\n\u001b[0;32m    508\u001b[0m \u001b[39m\u001b[39m\u001b[39m\"\"\"\u001b[39;00m\n\u001b[0;32m    509\u001b[0m \u001b[39mCoerce to the new dtype.\u001b[39;00m\n\u001b[0;32m    510\u001b[0m \n\u001b[1;32m   (...)\u001b[0m\n\u001b[0;32m    522\u001b[0m \u001b[39mBlock\u001b[39;00m\n\u001b[0;32m    523\u001b[0m \u001b[39m\"\"\"\u001b[39;00m\n\u001b[0;32m    524\u001b[0m values \u001b[39m=\u001b[39m \u001b[39mself\u001b[39m\u001b[39m.\u001b[39mvalues\n\u001b[1;32m--> 526\u001b[0m new_values \u001b[39m=\u001b[39m astype_array_safe(values, dtype, copy\u001b[39m=\u001b[39;49mcopy, errors\u001b[39m=\u001b[39;49merrors)\n\u001b[0;32m    528\u001b[0m new_values \u001b[39m=\u001b[39m maybe_coerce_values(new_values)\n\u001b[0;32m    529\u001b[0m newb \u001b[39m=\u001b[39m \u001b[39mself\u001b[39m\u001b[39m.\u001b[39mmake_block(new_values)\n",
      "File \u001b[1;32mc:\\Users\\admin\\AppData\\Local\\Programs\\Python\\Python310\\lib\\site-packages\\pandas\\core\\dtypes\\astype.py:299\u001b[0m, in \u001b[0;36mastype_array_safe\u001b[1;34m(values, dtype, copy, errors)\u001b[0m\n\u001b[0;32m    296\u001b[0m     \u001b[39mreturn\u001b[39;00m values\u001b[39m.\u001b[39mcopy()\n\u001b[0;32m    298\u001b[0m \u001b[39mtry\u001b[39;00m:\n\u001b[1;32m--> 299\u001b[0m     new_values \u001b[39m=\u001b[39m astype_array(values, dtype, copy\u001b[39m=\u001b[39;49mcopy)\n\u001b[0;32m    300\u001b[0m \u001b[39mexcept\u001b[39;00m (\u001b[39mValueError\u001b[39;00m, \u001b[39mTypeError\u001b[39;00m):\n\u001b[0;32m    301\u001b[0m     \u001b[39m# e.g. astype_nansafe can fail on object-dtype of strings\u001b[39;00m\n\u001b[0;32m    302\u001b[0m     \u001b[39m#  trying to convert to float\u001b[39;00m\n\u001b[0;32m    303\u001b[0m     \u001b[39mif\u001b[39;00m errors \u001b[39m==\u001b[39m \u001b[39m\"\u001b[39m\u001b[39mignore\u001b[39m\u001b[39m\"\u001b[39m:\n",
      "File \u001b[1;32mc:\\Users\\admin\\AppData\\Local\\Programs\\Python\\Python310\\lib\\site-packages\\pandas\\core\\dtypes\\astype.py:230\u001b[0m, in \u001b[0;36mastype_array\u001b[1;34m(values, dtype, copy)\u001b[0m\n\u001b[0;32m    227\u001b[0m     values \u001b[39m=\u001b[39m values\u001b[39m.\u001b[39mastype(dtype, copy\u001b[39m=\u001b[39mcopy)\n\u001b[0;32m    229\u001b[0m \u001b[39melse\u001b[39;00m:\n\u001b[1;32m--> 230\u001b[0m     values \u001b[39m=\u001b[39m astype_nansafe(values, dtype, copy\u001b[39m=\u001b[39;49mcopy)\n\u001b[0;32m    232\u001b[0m \u001b[39m# in pandas we don't store numpy str dtypes, so convert to object\u001b[39;00m\n\u001b[0;32m    233\u001b[0m \u001b[39mif\u001b[39;00m \u001b[39misinstance\u001b[39m(dtype, np\u001b[39m.\u001b[39mdtype) \u001b[39mand\u001b[39;00m \u001b[39missubclass\u001b[39m(values\u001b[39m.\u001b[39mdtype\u001b[39m.\u001b[39mtype, \u001b[39mstr\u001b[39m):\n",
      "File \u001b[1;32mc:\\Users\\admin\\AppData\\Local\\Programs\\Python\\Python310\\lib\\site-packages\\pandas\\core\\dtypes\\astype.py:140\u001b[0m, in \u001b[0;36mastype_nansafe\u001b[1;34m(arr, dtype, copy, skipna)\u001b[0m\n\u001b[0;32m    137\u001b[0m     \u001b[39mraise\u001b[39;00m \u001b[39mTypeError\u001b[39;00m(\u001b[39mf\u001b[39m\u001b[39m\"\u001b[39m\u001b[39mcannot astype a timedelta from [\u001b[39m\u001b[39m{\u001b[39;00marr\u001b[39m.\u001b[39mdtype\u001b[39m}\u001b[39;00m\u001b[39m] to [\u001b[39m\u001b[39m{\u001b[39;00mdtype\u001b[39m}\u001b[39;00m\u001b[39m]\u001b[39m\u001b[39m\"\u001b[39m)\n\u001b[0;32m    139\u001b[0m \u001b[39melif\u001b[39;00m np\u001b[39m.\u001b[39missubdtype(arr\u001b[39m.\u001b[39mdtype, np\u001b[39m.\u001b[39mfloating) \u001b[39mand\u001b[39;00m is_integer_dtype(dtype):\n\u001b[1;32m--> 140\u001b[0m     \u001b[39mreturn\u001b[39;00m _astype_float_to_int_nansafe(arr, dtype, copy)\n\u001b[0;32m    142\u001b[0m \u001b[39melif\u001b[39;00m is_object_dtype(arr\u001b[39m.\u001b[39mdtype):\n\u001b[0;32m    143\u001b[0m \n\u001b[0;32m    144\u001b[0m     \u001b[39m# if we have a datetime/timedelta array of objects\u001b[39;00m\n\u001b[0;32m    145\u001b[0m     \u001b[39m# then coerce to a proper dtype and recall astype_nansafe\u001b[39;00m\n\u001b[0;32m    147\u001b[0m     \u001b[39mif\u001b[39;00m is_datetime64_dtype(dtype):\n",
      "File \u001b[1;32mc:\\Users\\admin\\AppData\\Local\\Programs\\Python\\Python310\\lib\\site-packages\\pandas\\core\\dtypes\\astype.py:182\u001b[0m, in \u001b[0;36m_astype_float_to_int_nansafe\u001b[1;34m(values, dtype, copy)\u001b[0m\n\u001b[0;32m    178\u001b[0m \u001b[39m\u001b[39m\u001b[39m\"\"\"\u001b[39;00m\n\u001b[0;32m    179\u001b[0m \u001b[39mastype with a check preventing converting NaN to an meaningless integer value.\u001b[39;00m\n\u001b[0;32m    180\u001b[0m \u001b[39m\"\"\"\u001b[39;00m\n\u001b[0;32m    181\u001b[0m \u001b[39mif\u001b[39;00m \u001b[39mnot\u001b[39;00m np\u001b[39m.\u001b[39misfinite(values)\u001b[39m.\u001b[39mall():\n\u001b[1;32m--> 182\u001b[0m     \u001b[39mraise\u001b[39;00m IntCastingNaNError(\n\u001b[0;32m    183\u001b[0m         \u001b[39m\"\u001b[39m\u001b[39mCannot convert non-finite values (NA or inf) to integer\u001b[39m\u001b[39m\"\u001b[39m\n\u001b[0;32m    184\u001b[0m     )\n\u001b[0;32m    185\u001b[0m \u001b[39mif\u001b[39;00m dtype\u001b[39m.\u001b[39mkind \u001b[39m==\u001b[39m \u001b[39m\"\u001b[39m\u001b[39mu\u001b[39m\u001b[39m\"\u001b[39m:\n\u001b[0;32m    186\u001b[0m     \u001b[39m# GH#45151\u001b[39;00m\n\u001b[0;32m    187\u001b[0m     \u001b[39mif\u001b[39;00m \u001b[39mnot\u001b[39;00m (values \u001b[39m>\u001b[39m\u001b[39m=\u001b[39m \u001b[39m0\u001b[39m)\u001b[39m.\u001b[39mall():\n",
      "\u001b[1;31mIntCastingNaNError\u001b[0m: Cannot convert non-finite values (NA or inf) to integer"
     ]
    }
   ],
   "source": [
    "df['키'].astype(int) #NaN 값이 포함되잇어서 오류"
   ]
  },
  {
   "cell_type": "code",
   "execution_count": 8,
   "metadata": {},
   "outputs": [],
   "source": [
    "df['키']=df['키'].fillna(-1)"
   ]
  },
  {
   "cell_type": "code",
   "execution_count": 9,
   "metadata": {},
   "outputs": [
    {
     "data": {
      "text/plain": [
       "0     173.6\n",
       "1     177.0\n",
       "2     180.0\n",
       "3     178.0\n",
       "4     162.1\n",
       "5     178.0\n",
       "6     182.3\n",
       "7      -1.0\n",
       "8     179.2\n",
       "9     167.1\n",
       "10     -1.0\n",
       "11    183.0\n",
       "12    175.0\n",
       "13    176.0\n",
       "14    174.0\n",
       "Name: 키, dtype: float64"
      ]
     },
     "execution_count": 9,
     "metadata": {},
     "output_type": "execute_result"
    }
   ],
   "source": [
    "df['키']"
   ]
  },
  {
   "cell_type": "code",
   "execution_count": 10,
   "metadata": {},
   "outputs": [
    {
     "data": {
      "text/plain": [
       "0     173\n",
       "1     177\n",
       "2     180\n",
       "3     178\n",
       "4     162\n",
       "5     178\n",
       "6     182\n",
       "7      -1\n",
       "8     179\n",
       "9     167\n",
       "10     -1\n",
       "11    183\n",
       "12    175\n",
       "13    176\n",
       "14    174\n",
       "Name: 키, dtype: int32"
      ]
     },
     "execution_count": 10,
     "metadata": {},
     "output_type": "execute_result"
    }
   ],
   "source": [
    "df['키'].astype(int)"
   ]
  },
  {
   "cell_type": "code",
   "execution_count": 11,
   "metadata": {},
   "outputs": [
    {
     "data": {
      "text/plain": [
       "0     1995-10-13\n",
       "1     1988-08-18\n",
       "2     1996-12-10\n",
       "3     1995-12-30\n",
       "4     1995-07-23\n",
       "5     1997-09-01\n",
       "6     1995-08-09\n",
       "7     1998-08-26\n",
       "8     1992-12-04\n",
       "9     1994-03-22\n",
       "10    1989-03-09\n",
       "11    1997-03-30\n",
       "12    1995-07-21\n",
       "13    1995-06-08\n",
       "14    1993-03-09\n",
       "Name: 생년월일, dtype: object"
      ]
     },
     "execution_count": 11,
     "metadata": {},
     "output_type": "execute_result"
    }
   ],
   "source": [
    "df['생년월일']"
   ]
  },
  {
   "cell_type": "code",
   "execution_count": 12,
   "metadata": {},
   "outputs": [
    {
     "data": {
      "text/plain": [
       "0    1995-10-13\n",
       "1    1988-08-18\n",
       "2    1996-12-10\n",
       "3    1995-12-30\n",
       "4    1995-07-23\n",
       "5    1997-09-01\n",
       "6    1995-08-09\n",
       "7    1998-08-26\n",
       "8    1992-12-04\n",
       "9    1994-03-22\n",
       "10   1989-03-09\n",
       "11   1997-03-30\n",
       "12   1995-07-21\n",
       "13   1995-06-08\n",
       "14   1993-03-09\n",
       "Name: 생년월일, dtype: datetime64[ns]"
      ]
     },
     "execution_count": 12,
     "metadata": {},
     "output_type": "execute_result"
    }
   ],
   "source": [
    "pd.to_datetime(df['생년월일'])"
   ]
  },
  {
   "cell_type": "code",
   "execution_count": 13,
   "metadata": {},
   "outputs": [
    {
     "data": {
      "text/plain": [
       "0     1995-10-13\n",
       "1     1988-08-18\n",
       "2     1996-12-10\n",
       "3     1995-12-30\n",
       "4     1995-07-23\n",
       "5     1997-09-01\n",
       "6     1995-08-09\n",
       "7     1998-08-26\n",
       "8     1992-12-04\n",
       "9     1994-03-22\n",
       "10    1989-03-09\n",
       "11    1997-03-30\n",
       "12    1995-07-21\n",
       "13    1995-06-08\n",
       "14    1993-03-09\n",
       "Name: 생년월일, dtype: object"
      ]
     },
     "execution_count": 13,
     "metadata": {},
     "output_type": "execute_result"
    }
   ],
   "source": [
    "df['생년월일']"
   ]
  },
  {
   "cell_type": "code",
   "execution_count": 14,
   "metadata": {},
   "outputs": [],
   "source": [
    "df['생년월일'] =pd.to_datetime(df['생년월일'])"
   ]
  },
  {
   "cell_type": "code",
   "execution_count": 15,
   "metadata": {},
   "outputs": [
    {
     "data": {
      "text/plain": [
       "0    1995-10-13\n",
       "1    1988-08-18\n",
       "2    1996-12-10\n",
       "3    1995-12-30\n",
       "4    1995-07-23\n",
       "5    1997-09-01\n",
       "6    1995-08-09\n",
       "7    1998-08-26\n",
       "8    1992-12-04\n",
       "9    1994-03-22\n",
       "10   1989-03-09\n",
       "11   1997-03-30\n",
       "12   1995-07-21\n",
       "13   1995-06-08\n",
       "14   1993-03-09\n",
       "Name: 생년월일, dtype: datetime64[ns]"
      ]
     },
     "execution_count": 15,
     "metadata": {},
     "output_type": "execute_result"
    }
   ],
   "source": [
    "df['생년월일']"
   ]
  },
  {
   "cell_type": "code",
   "execution_count": 16,
   "metadata": {},
   "outputs": [
    {
     "data": {
      "text/html": [
       "<div>\n",
       "<style scoped>\n",
       "    .dataframe tbody tr th:only-of-type {\n",
       "        vertical-align: middle;\n",
       "    }\n",
       "\n",
       "    .dataframe tbody tr th {\n",
       "        vertical-align: top;\n",
       "    }\n",
       "\n",
       "    .dataframe thead th {\n",
       "        text-align: right;\n",
       "    }\n",
       "</style>\n",
       "<table border=\"1\" class=\"dataframe\">\n",
       "  <thead>\n",
       "    <tr style=\"text-align: right;\">\n",
       "      <th></th>\n",
       "      <th>이름</th>\n",
       "      <th>그룹</th>\n",
       "      <th>소속사</th>\n",
       "      <th>성별</th>\n",
       "      <th>생년월일</th>\n",
       "      <th>키</th>\n",
       "      <th>혈액형</th>\n",
       "      <th>브랜드평판지수</th>\n",
       "    </tr>\n",
       "  </thead>\n",
       "  <tbody>\n",
       "    <tr>\n",
       "      <th>0</th>\n",
       "      <td>지민</td>\n",
       "      <td>방탄소년단</td>\n",
       "      <td>빅히트</td>\n",
       "      <td>남자</td>\n",
       "      <td>1995-10-13</td>\n",
       "      <td>173.6</td>\n",
       "      <td>A</td>\n",
       "      <td>10523260</td>\n",
       "    </tr>\n",
       "    <tr>\n",
       "      <th>1</th>\n",
       "      <td>지드래곤</td>\n",
       "      <td>빅뱅</td>\n",
       "      <td>YG</td>\n",
       "      <td>남자</td>\n",
       "      <td>1988-08-18</td>\n",
       "      <td>177.0</td>\n",
       "      <td>A</td>\n",
       "      <td>9916947</td>\n",
       "    </tr>\n",
       "    <tr>\n",
       "      <th>2</th>\n",
       "      <td>강다니엘</td>\n",
       "      <td>NaN</td>\n",
       "      <td>커넥트</td>\n",
       "      <td>남자</td>\n",
       "      <td>1996-12-10</td>\n",
       "      <td>180.0</td>\n",
       "      <td>A</td>\n",
       "      <td>8273745</td>\n",
       "    </tr>\n",
       "    <tr>\n",
       "      <th>3</th>\n",
       "      <td>뷔</td>\n",
       "      <td>방탄소년단</td>\n",
       "      <td>빅히트</td>\n",
       "      <td>남자</td>\n",
       "      <td>1995-12-30</td>\n",
       "      <td>178.0</td>\n",
       "      <td>AB</td>\n",
       "      <td>8073501</td>\n",
       "    </tr>\n",
       "    <tr>\n",
       "      <th>4</th>\n",
       "      <td>화사</td>\n",
       "      <td>마마무</td>\n",
       "      <td>RBW</td>\n",
       "      <td>여자</td>\n",
       "      <td>1995-07-23</td>\n",
       "      <td>162.1</td>\n",
       "      <td>A</td>\n",
       "      <td>7650928</td>\n",
       "    </tr>\n",
       "  </tbody>\n",
       "</table>\n",
       "</div>"
      ],
      "text/plain": [
       "     이름     그룹  소속사  성별       생년월일      키 혈액형   브랜드평판지수\n",
       "0    지민  방탄소년단  빅히트  남자 1995-10-13  173.6   A  10523260\n",
       "1  지드래곤     빅뱅   YG  남자 1988-08-18  177.0   A   9916947\n",
       "2  강다니엘    NaN  커넥트  남자 1996-12-10  180.0   A   8273745\n",
       "3     뷔  방탄소년단  빅히트  남자 1995-12-30  178.0  AB   8073501\n",
       "4    화사    마마무  RBW  여자 1995-07-23  162.1   A   7650928"
      ]
     },
     "execution_count": 16,
     "metadata": {},
     "output_type": "execute_result"
    }
   ],
   "source": [
    "df.head()"
   ]
  },
  {
   "cell_type": "code",
   "execution_count": 17,
   "metadata": {},
   "outputs": [
    {
     "data": {
      "text/plain": [
       "0     4\n",
       "1     3\n",
       "2     1\n",
       "3     5\n",
       "4     6\n",
       "5     0\n",
       "6     2\n",
       "7     2\n",
       "8     4\n",
       "9     1\n",
       "10    3\n",
       "11    6\n",
       "12    4\n",
       "13    3\n",
       "14    1\n",
       "Name: 생년월일, dtype: int64"
      ]
     },
     "execution_count": 17,
     "metadata": {},
     "output_type": "execute_result"
    }
   ],
   "source": [
    "df['생년월일'].dt.dayofweek "
   ]
  },
  {
   "cell_type": "code",
   "execution_count": 18,
   "metadata": {},
   "outputs": [
    {
     "data": {
      "text/plain": [
       "0     1995\n",
       "1     1988\n",
       "2     1996\n",
       "3     1995\n",
       "4     1995\n",
       "5     1997\n",
       "6     1995\n",
       "7     1998\n",
       "8     1992\n",
       "9     1994\n",
       "10    1989\n",
       "11    1997\n",
       "12    1995\n",
       "13    1995\n",
       "14    1993\n",
       "Name: 생년월일, dtype: int64"
      ]
     },
     "execution_count": 18,
     "metadata": {},
     "output_type": "execute_result"
    }
   ],
   "source": [
    "df['생년월일'].dt.year  "
   ]
  },
  {
   "cell_type": "code",
   "execution_count": 20,
   "metadata": {},
   "outputs": [
    {
     "data": {
      "text/plain": [
       "0     10\n",
       "1      8\n",
       "2     12\n",
       "3     12\n",
       "4      7\n",
       "5      9\n",
       "6      8\n",
       "7      8\n",
       "8     12\n",
       "9      3\n",
       "10     3\n",
       "11     3\n",
       "12     7\n",
       "13     6\n",
       "14     3\n",
       "Name: 생년월일, dtype: int64"
      ]
     },
     "execution_count": 20,
     "metadata": {},
     "output_type": "execute_result"
    }
   ],
   "source": [
    "df['생년월일'].dt.month"
   ]
  },
  {
   "cell_type": "code",
   "execution_count": 21,
   "metadata": {},
   "outputs": [
    {
     "data": {
      "text/plain": [
       "0     13\n",
       "1     18\n",
       "2     10\n",
       "3     30\n",
       "4     23\n",
       "5      1\n",
       "6      9\n",
       "7     26\n",
       "8      4\n",
       "9     22\n",
       "10     9\n",
       "11    30\n",
       "12    21\n",
       "13     8\n",
       "14     9\n",
       "Name: 생년월일, dtype: int64"
      ]
     },
     "execution_count": 21,
     "metadata": {},
     "output_type": "execute_result"
    }
   ],
   "source": [
    "df['생년월일'].dt.day"
   ]
  },
  {
   "cell_type": "code",
   "execution_count": 23,
   "metadata": {},
   "outputs": [
    {
     "data": {
      "text/plain": [
       "0     0\n",
       "1     0\n",
       "2     0\n",
       "3     0\n",
       "4     0\n",
       "5     0\n",
       "6     0\n",
       "7     0\n",
       "8     0\n",
       "9     0\n",
       "10    0\n",
       "11    0\n",
       "12    0\n",
       "13    0\n",
       "14    0\n",
       "Name: 생년월일, dtype: int64"
      ]
     },
     "execution_count": 23,
     "metadata": {},
     "output_type": "execute_result"
    }
   ],
   "source": [
    "df['생년월일'].dt.hour"
   ]
  },
  {
   "cell_type": "code",
   "execution_count": 24,
   "metadata": {},
   "outputs": [
    {
     "data": {
      "text/plain": [
       "0     0\n",
       "1     0\n",
       "2     0\n",
       "3     0\n",
       "4     0\n",
       "5     0\n",
       "6     0\n",
       "7     0\n",
       "8     0\n",
       "9     0\n",
       "10    0\n",
       "11    0\n",
       "12    0\n",
       "13    0\n",
       "14    0\n",
       "Name: 생년월일, dtype: int64"
      ]
     },
     "execution_count": 24,
     "metadata": {},
     "output_type": "execute_result"
    }
   ],
   "source": [
    "df['생년월일'].dt.minute"
   ]
  },
  {
   "cell_type": "markdown",
   "metadata": {},
   "source": [
    "dt.quarter : 분기(숫자)\n",
    "\n",
    "dt.day_name() : 요일이름(문자)(=day_name())\n",
    "\n",
    "dt.weekday : 요일숫자(0-월,1-화)(=dayofweek)\n",
    "\n",
    "dt.weekofyear : 연 기준 몇주째(숫자)(=week)\n",
    "\n",
    "dt.dayofyear : 연 기준 몇일째(숫자)\n",
    "\n",
    "dt.days_in_month : 해당 월의 일수"
   ]
  },
  {
   "cell_type": "code",
   "execution_count": 25,
   "metadata": {},
   "outputs": [],
   "source": [
    "df['생일_년'] = df['생년월일'].dt.year"
   ]
  },
  {
   "cell_type": "code",
   "execution_count": 26,
   "metadata": {},
   "outputs": [],
   "source": [
    "df['생일_월'] = df['생년월일'].dt.month"
   ]
  },
  {
   "cell_type": "code",
   "execution_count": 27,
   "metadata": {},
   "outputs": [],
   "source": [
    "df['생일_일'] = df['생년월일'].dt.day"
   ]
  },
  {
   "cell_type": "code",
   "execution_count": 28,
   "metadata": {},
   "outputs": [
    {
     "data": {
      "text/html": [
       "<div>\n",
       "<style scoped>\n",
       "    .dataframe tbody tr th:only-of-type {\n",
       "        vertical-align: middle;\n",
       "    }\n",
       "\n",
       "    .dataframe tbody tr th {\n",
       "        vertical-align: top;\n",
       "    }\n",
       "\n",
       "    .dataframe thead th {\n",
       "        text-align: right;\n",
       "    }\n",
       "</style>\n",
       "<table border=\"1\" class=\"dataframe\">\n",
       "  <thead>\n",
       "    <tr style=\"text-align: right;\">\n",
       "      <th></th>\n",
       "      <th>이름</th>\n",
       "      <th>그룹</th>\n",
       "      <th>소속사</th>\n",
       "      <th>성별</th>\n",
       "      <th>생년월일</th>\n",
       "      <th>키</th>\n",
       "      <th>혈액형</th>\n",
       "      <th>브랜드평판지수</th>\n",
       "      <th>생일_년</th>\n",
       "      <th>생일_월</th>\n",
       "      <th>생일_일</th>\n",
       "    </tr>\n",
       "  </thead>\n",
       "  <tbody>\n",
       "    <tr>\n",
       "      <th>0</th>\n",
       "      <td>지민</td>\n",
       "      <td>방탄소년단</td>\n",
       "      <td>빅히트</td>\n",
       "      <td>남자</td>\n",
       "      <td>1995-10-13</td>\n",
       "      <td>173.6</td>\n",
       "      <td>A</td>\n",
       "      <td>10523260</td>\n",
       "      <td>1995</td>\n",
       "      <td>10</td>\n",
       "      <td>13</td>\n",
       "    </tr>\n",
       "    <tr>\n",
       "      <th>1</th>\n",
       "      <td>지드래곤</td>\n",
       "      <td>빅뱅</td>\n",
       "      <td>YG</td>\n",
       "      <td>남자</td>\n",
       "      <td>1988-08-18</td>\n",
       "      <td>177.0</td>\n",
       "      <td>A</td>\n",
       "      <td>9916947</td>\n",
       "      <td>1988</td>\n",
       "      <td>8</td>\n",
       "      <td>18</td>\n",
       "    </tr>\n",
       "    <tr>\n",
       "      <th>2</th>\n",
       "      <td>강다니엘</td>\n",
       "      <td>NaN</td>\n",
       "      <td>커넥트</td>\n",
       "      <td>남자</td>\n",
       "      <td>1996-12-10</td>\n",
       "      <td>180.0</td>\n",
       "      <td>A</td>\n",
       "      <td>8273745</td>\n",
       "      <td>1996</td>\n",
       "      <td>12</td>\n",
       "      <td>10</td>\n",
       "    </tr>\n",
       "    <tr>\n",
       "      <th>3</th>\n",
       "      <td>뷔</td>\n",
       "      <td>방탄소년단</td>\n",
       "      <td>빅히트</td>\n",
       "      <td>남자</td>\n",
       "      <td>1995-12-30</td>\n",
       "      <td>178.0</td>\n",
       "      <td>AB</td>\n",
       "      <td>8073501</td>\n",
       "      <td>1995</td>\n",
       "      <td>12</td>\n",
       "      <td>30</td>\n",
       "    </tr>\n",
       "    <tr>\n",
       "      <th>4</th>\n",
       "      <td>화사</td>\n",
       "      <td>마마무</td>\n",
       "      <td>RBW</td>\n",
       "      <td>여자</td>\n",
       "      <td>1995-07-23</td>\n",
       "      <td>162.1</td>\n",
       "      <td>A</td>\n",
       "      <td>7650928</td>\n",
       "      <td>1995</td>\n",
       "      <td>7</td>\n",
       "      <td>23</td>\n",
       "    </tr>\n",
       "    <tr>\n",
       "      <th>5</th>\n",
       "      <td>정국</td>\n",
       "      <td>방탄소년단</td>\n",
       "      <td>빅히트</td>\n",
       "      <td>남자</td>\n",
       "      <td>1997-09-01</td>\n",
       "      <td>178.0</td>\n",
       "      <td>A</td>\n",
       "      <td>5208335</td>\n",
       "      <td>1997</td>\n",
       "      <td>9</td>\n",
       "      <td>1</td>\n",
       "    </tr>\n",
       "    <tr>\n",
       "      <th>6</th>\n",
       "      <td>민현</td>\n",
       "      <td>뉴이스트</td>\n",
       "      <td>플레디스</td>\n",
       "      <td>남자</td>\n",
       "      <td>1995-08-09</td>\n",
       "      <td>182.3</td>\n",
       "      <td>O</td>\n",
       "      <td>4989792</td>\n",
       "      <td>1995</td>\n",
       "      <td>8</td>\n",
       "      <td>9</td>\n",
       "    </tr>\n",
       "    <tr>\n",
       "      <th>7</th>\n",
       "      <td>소연</td>\n",
       "      <td>아이들</td>\n",
       "      <td>큐브</td>\n",
       "      <td>여자</td>\n",
       "      <td>1998-08-26</td>\n",
       "      <td>-1.0</td>\n",
       "      <td>B</td>\n",
       "      <td>4668615</td>\n",
       "      <td>1998</td>\n",
       "      <td>8</td>\n",
       "      <td>26</td>\n",
       "    </tr>\n",
       "    <tr>\n",
       "      <th>8</th>\n",
       "      <td>진</td>\n",
       "      <td>방탄소년단</td>\n",
       "      <td>빅히트</td>\n",
       "      <td>남자</td>\n",
       "      <td>1992-12-04</td>\n",
       "      <td>179.2</td>\n",
       "      <td>O</td>\n",
       "      <td>4570308</td>\n",
       "      <td>1992</td>\n",
       "      <td>12</td>\n",
       "      <td>4</td>\n",
       "    </tr>\n",
       "    <tr>\n",
       "      <th>9</th>\n",
       "      <td>하성운</td>\n",
       "      <td>핫샷</td>\n",
       "      <td>스타크루이엔티</td>\n",
       "      <td>남자</td>\n",
       "      <td>1994-03-22</td>\n",
       "      <td>167.1</td>\n",
       "      <td>A</td>\n",
       "      <td>4036489</td>\n",
       "      <td>1994</td>\n",
       "      <td>3</td>\n",
       "      <td>22</td>\n",
       "    </tr>\n",
       "    <tr>\n",
       "      <th>10</th>\n",
       "      <td>태연</td>\n",
       "      <td>소녀시대</td>\n",
       "      <td>SM</td>\n",
       "      <td>여자</td>\n",
       "      <td>1989-03-09</td>\n",
       "      <td>-1.0</td>\n",
       "      <td>A</td>\n",
       "      <td>3918661</td>\n",
       "      <td>1989</td>\n",
       "      <td>3</td>\n",
       "      <td>9</td>\n",
       "    </tr>\n",
       "    <tr>\n",
       "      <th>11</th>\n",
       "      <td>차은우</td>\n",
       "      <td>아스트로</td>\n",
       "      <td>판타지오</td>\n",
       "      <td>남자</td>\n",
       "      <td>1997-03-30</td>\n",
       "      <td>183.0</td>\n",
       "      <td>B</td>\n",
       "      <td>3506027</td>\n",
       "      <td>1997</td>\n",
       "      <td>3</td>\n",
       "      <td>30</td>\n",
       "    </tr>\n",
       "    <tr>\n",
       "      <th>12</th>\n",
       "      <td>백호</td>\n",
       "      <td>뉴이스트</td>\n",
       "      <td>플레디스</td>\n",
       "      <td>남자</td>\n",
       "      <td>1995-07-21</td>\n",
       "      <td>175.0</td>\n",
       "      <td>AB</td>\n",
       "      <td>3301654</td>\n",
       "      <td>1995</td>\n",
       "      <td>7</td>\n",
       "      <td>21</td>\n",
       "    </tr>\n",
       "    <tr>\n",
       "      <th>13</th>\n",
       "      <td>JR</td>\n",
       "      <td>뉴이스트</td>\n",
       "      <td>플레디스</td>\n",
       "      <td>남자</td>\n",
       "      <td>1995-06-08</td>\n",
       "      <td>176.0</td>\n",
       "      <td>O</td>\n",
       "      <td>3274137</td>\n",
       "      <td>1995</td>\n",
       "      <td>6</td>\n",
       "      <td>8</td>\n",
       "    </tr>\n",
       "    <tr>\n",
       "      <th>14</th>\n",
       "      <td>슈가</td>\n",
       "      <td>방탄소년단</td>\n",
       "      <td>빅히트</td>\n",
       "      <td>남자</td>\n",
       "      <td>1993-03-09</td>\n",
       "      <td>174.0</td>\n",
       "      <td>O</td>\n",
       "      <td>2925442</td>\n",
       "      <td>1993</td>\n",
       "      <td>3</td>\n",
       "      <td>9</td>\n",
       "    </tr>\n",
       "  </tbody>\n",
       "</table>\n",
       "</div>"
      ],
      "text/plain": [
       "      이름     그룹      소속사  성별       생년월일      키 혈액형   브랜드평판지수  생일_년  생일_월  생일_일\n",
       "0     지민  방탄소년단      빅히트  남자 1995-10-13  173.6   A  10523260  1995    10    13\n",
       "1   지드래곤     빅뱅       YG  남자 1988-08-18  177.0   A   9916947  1988     8    18\n",
       "2   강다니엘    NaN      커넥트  남자 1996-12-10  180.0   A   8273745  1996    12    10\n",
       "3      뷔  방탄소년단      빅히트  남자 1995-12-30  178.0  AB   8073501  1995    12    30\n",
       "4     화사    마마무      RBW  여자 1995-07-23  162.1   A   7650928  1995     7    23\n",
       "5     정국  방탄소년단      빅히트  남자 1997-09-01  178.0   A   5208335  1997     9     1\n",
       "6     민현   뉴이스트     플레디스  남자 1995-08-09  182.3   O   4989792  1995     8     9\n",
       "7     소연    아이들       큐브  여자 1998-08-26   -1.0   B   4668615  1998     8    26\n",
       "8      진  방탄소년단      빅히트  남자 1992-12-04  179.2   O   4570308  1992    12     4\n",
       "9    하성운     핫샷  스타크루이엔티  남자 1994-03-22  167.1   A   4036489  1994     3    22\n",
       "10    태연   소녀시대       SM  여자 1989-03-09   -1.0   A   3918661  1989     3     9\n",
       "11   차은우   아스트로     판타지오  남자 1997-03-30  183.0   B   3506027  1997     3    30\n",
       "12    백호   뉴이스트     플레디스  남자 1995-07-21  175.0  AB   3301654  1995     7    21\n",
       "13    JR   뉴이스트     플레디스  남자 1995-06-08  176.0   O   3274137  1995     6     8\n",
       "14    슈가  방탄소년단      빅히트  남자 1993-03-09  174.0   O   2925442  1993     3     9"
      ]
     },
     "execution_count": 28,
     "metadata": {},
     "output_type": "execute_result"
    }
   ],
   "source": [
    "df"
   ]
  },
  {
   "cell_type": "code",
   "execution_count": null,
   "metadata": {},
   "outputs": [],
   "source": []
  }
 ],
 "metadata": {
  "kernelspec": {
   "display_name": "Python 3",
   "language": "python",
   "name": "python3"
  },
  "language_info": {
   "codemirror_mode": {
    "name": "ipython",
    "version": 3
   },
   "file_extension": ".py",
   "mimetype": "text/x-python",
   "name": "python",
   "nbconvert_exporter": "python",
   "pygments_lexer": "ipython3",
   "version": "3.10.10"
  },
  "orig_nbformat": 4
 },
 "nbformat": 4,
 "nbformat_minor": 2
}
