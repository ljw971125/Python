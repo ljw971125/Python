{
 "cells": [
  {
   "cell_type": "code",
   "execution_count": 1,
   "metadata": {},
   "outputs": [],
   "source": [
    "import csv\n",
    "import matplotlib.pyplot as plt"
   ]
  },
  {
   "cell_type": "code",
   "execution_count": null,
   "metadata": {},
   "outputs": [],
   "source": [
    "f = open('20230314_03.csv')\n",
    "data = csv.reader(f)\n",
    "\n",
    "for row in data:\n",
    "    print(row)\n",
    "\n",
    "f.close()"
   ]
  },
  {
   "cell_type": "code",
   "execution_count": null,
   "metadata": {},
   "outputs": [],
   "source": [
    "f = open('20230314_03.csv')\n",
    "data = csv.reader(f)\n",
    "next(data)\n",
    "\n",
    "for row in data:\n",
    "    for i in range(4,8):\n",
    "        print(row)\n",
    "\n",
    "f.close()"
   ]
  },
  {
   "cell_type": "code",
   "execution_count": 47,
   "metadata": {},
   "outputs": [
    {
     "name": "stdout",
     "output_type": "stream",
     "text": [
      "유임승차 3153418\n"
     ]
    }
   ],
   "source": [
    "# 이지운\n",
    "# Q1. 유임승차, 유임하차, 무임승차, 무임하차가 가장 많은 역은 어디인가?\n",
    "# 출력 예시\n",
    "# 유임승차: 2호선 강남 3153418\n",
    "# 유임하차: 2호선 강남 3210437\n",
    "# 무임승차: 1호선 종로3가 387062\n",
    "# 무임하차: 1호선 제기동 400607\n",
    "f = open('20230314_03.csv')\n",
    "data = csv.reader(f)\n",
    "next(data)\n",
    "label = ['유임승차','유임하차', '무임승차', '무임하차']\n",
    "\n",
    "a= []\n",
    "b= []\n",
    "c= []\n",
    "d= []\n",
    "\n",
    "\n",
    "\n",
    "for row in data:\n",
    "    a.append(int(row[4]))\n",
    "    b.append(int(row[5]))\n",
    "    c.append(int(row[6]))\n",
    "    d.append(int(row[7]))\n",
    "    \n",
    "\n",
    "print(label[0],max(a))\n",
    "\n",
    "\n"
   ]
  },
  {
   "cell_type": "code",
   "execution_count": 49,
   "metadata": {},
   "outputs": [
    {
     "name": "stdout",
     "output_type": "stream",
     "text": [
      "유임승차: 2호선 강남 3153418\n",
      "유임하차: 2호선 강남 3210437\n",
      "무임승차: 1호선 종로3가 387062\n",
      "무임하차: 1호선 제기동 400607\n"
     ]
    }
   ],
   "source": [
    "f = open('20230314_03.csv')\n",
    "data = csv.reader(f)\n",
    "next(data)\n",
    "\n",
    "station = [''] * 4\n",
    "max = [0] * 4\n",
    "label = ['유임승차','유임하차', '무임승차', '무임하차']\n",
    "\n",
    "for row in data:\n",
    "    for i in range(4,8):\n",
    "        row[i] = int(row[i])\n",
    "        if row[i] > max[i-4]:\n",
    "            max[i-4] = row[i]\n",
    "            station[i-4] = row[1] + ' ' + row[3]\n",
    "for i in range(4):\n",
    "    print(label[i]+': '+station[i], max[i])\n",
    "\n",
    "f.close()"
   ]
  },
  {
   "cell_type": "code",
   "execution_count": null,
   "metadata": {},
   "outputs": [],
   "source": [
    "# 이지운\n",
    "# Q2. 유임 승차율이 가장 높은 역은 어디이며, 비율은 어떠한가(호선 포함)?\n",
    "# 출력 예시\n",
    "# 2호선 홍대입구 0.95\n",
    "\n",
    "f = open('20230314_03.csv')\n",
    "data = csv.reader(f)\n",
    "next(data)\n",
    "\n",
    "a = []\n",
    "b = []\n",
    "\n",
    "for row in data:\n",
    "    a.append(int(row[4])+int(row[6]))\n",
    "    b.append(int(row[4]))\n",
    " \n",
    "\n",
    "\n",
    "\n"
   ]
  },
  {
   "cell_type": "code",
   "execution_count": 73,
   "metadata": {},
   "outputs": [
    {
     "name": "stdout",
     "output_type": "stream",
     "text": [
      "2호선 홍대입구 0.95\n"
     ]
    }
   ],
   "source": [
    "f = open('20230314_03.csv')\n",
    "data = csv.reader(f)\n",
    "next(data)\n",
    "\n",
    "station = ''\n",
    "max = 0\n",
    "rate = 0\n",
    "\n",
    "for row in data:\n",
    "    for i in range(4,8):\n",
    "        row[i] = int(row[i])\n",
    "    if row[6] != 0 and (row[4] + row[6]) > 100000:\n",
    "        rate =row[4] / (row[4] + row[6])\n",
    "        if rate > max:\n",
    "            max = rate\n",
    "            station = row[1] + ' ' + row[3]\n",
    "\n",
    "print(station, round(max, 2))\n",
    "f.close()\n"
   ]
  },
  {
   "cell_type": "code",
   "execution_count": null,
   "metadata": {},
   "outputs": [],
   "source": [
    "f = open('20230314_03.csv')\n",
    "data = csv.reader(f)\n",
    "next(data)\n",
    "\n",
    "label = ['유임승차','유임하차', '무임승차', '무임하차']\n",
    "\n",
    "plt.rc('font', family='Malgun Gothic')\n",
    "\n",
    "for row in data:\n",
    "    for i in range(4,8):\n",
    "        row[i] = int(row[i])\n",
    "    plt.title(row[1] + ' '+ row[3])\n",
    "    plt.pie(row[4:8], labels=label, autopct='%.1f%%')\n",
    "    plt.axis('equal')\n",
    "    plt.savefig(row[1]+ '-' + row[3]+ '.png')\n",
    "    plt.show()\n",
    "\n",
    "\n",
    "f.close()"
   ]
  }
 ],
 "metadata": {
  "kernelspec": {
   "display_name": "Python 3",
   "language": "python",
   "name": "python3"
  },
  "language_info": {
   "codemirror_mode": {
    "name": "ipython",
    "version": 3
   },
   "file_extension": ".py",
   "mimetype": "text/x-python",
   "name": "python",
   "nbconvert_exporter": "python",
   "pygments_lexer": "ipython3",
   "version": "3.10.10"
  },
  "orig_nbformat": 4
 },
 "nbformat": 4,
 "nbformat_minor": 2
}
