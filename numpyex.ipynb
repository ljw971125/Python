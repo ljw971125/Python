{
 "cells": [
  {
   "cell_type": "code",
   "execution_count": null,
   "id": "40db7e94",
   "metadata": {},
   "outputs": [],
   "source": [
    "import numpy as np\n",
    "data = np.array([1, 2, 3, 4, 5])\n",
    "data\n",
    "data[0]\n",
    "type(data)\n",
    "data.dtype"
   ]
  },
  {
   "cell_type": "code",
   "execution_count": null,
   "id": "759626dc",
   "metadata": {},
   "outputs": [],
   "source": [
    "data=np.array([1.1,1.2,1.3,1.4,1.5])\n",
    "data.dtype"
   ]
  },
  {
   "cell_type": "code",
   "execution_count": null,
   "id": "3286e90f",
   "metadata": {},
   "outputs": [],
   "source": [
    "data=np.array(['1.1','1.2','1.3','1.4','1.5'])\n",
    "data.dtype"
   ]
  },
  {
   "cell_type": "code",
   "execution_count": null,
   "id": "559a0580",
   "metadata": {
    "scrolled": true
   },
   "outputs": [],
   "source": [
    "# 0~1미만값 출력\n",
    "np.random.random() \n",
    "\n",
    "# 리스트형태의 2행 3열 값(하지만 0~1미만값을 아님)\n",
    "data = np.random.randn(2,3) \n",
    "data #array\n",
    "data.shape  # 행열 크기 확인\n",
    "data.dtype"
   ]
  },
  {
   "cell_type": "code",
   "execution_count": null,
   "id": "07fe022c",
   "metadata": {},
   "outputs": [],
   "source": [
    "#ndarray : 0의 값을 10개 만들기\n",
    "data=np.zeros(10) #float형임\n",
    "data\n",
    "data.dtype\n",
    "\n",
    "data2 = np.zeros((2, 3))\n",
    "data2\n",
    "data2[0]\n",
    "data2[0][0]\n",
    "data2[1][1]\n",
    "\n",
    "data3 = np.zeros((2, 3), dtype=np.int32)\n",
    "data3"
   ]
  },
  {
   "cell_type": "code",
   "execution_count": null,
   "id": "d8cd4dfa",
   "metadata": {},
   "outputs": [],
   "source": [
    "data1=np.ones(6)\n",
    "data1\n",
    "data2=np.ones(6,dtype='int32')\n",
    "data2\n",
    "data3=np.ones((2,3), dtype='int32')  #dtype=np.int32\n",
    "data3\n",
    "data3[0]\n",
    "data3[0][1]"
   ]
  },
  {
   "cell_type": "code",
   "execution_count": null,
   "id": "3283c1c2",
   "metadata": {
    "scrolled": true
   },
   "outputs": [],
   "source": [
    "#for i in range(1,10):\n",
    "#    print(type(i))\n",
    "#range와 비슷함\n",
    "np.arange(1,11)\n",
    "data=np.arange(1,11)\n",
    "#값을 출력\n",
    "data[0]\n",
    "data[3:5]  # 3,4번째 인덱스 값이 배열로 리턴  \n",
    "#값을 입력\n",
    "data[0]=100\n",
    "data[0]\n",
    "\n",
    "data[3:5]=[200,300] #가능\n",
    "data[3:5]\n",
    "data[3:5]=np.array([400,500]) #가능\n",
    "data[3:5]\n",
    "\n",
    "#1차원을 2차원형태로 만들어줌\n",
    "data2 = data.reshape(2, 5)\n",
    "data2"
   ]
  },
  {
   "cell_type": "code",
   "execution_count": null,
   "id": "d7c0b338",
   "metadata": {},
   "outputs": [],
   "source": [
    "#문제. data=[1,2,3,4,5] 각 리스트의 값에 1을 더하세요.\n",
    "data=[1,2,3,4,5]\n",
    "#data[0]=data[0]+1\n",
    "for i in range(0,5):\n",
    "    data[i]=data[i]+1\n",
    "data\n",
    "#data+1 # 전체 리스트에 1을 더할 수 없음\n",
    "\n",
    "import numpy as np\n",
    "data=[1,2,3,4,5]\n",
    "data=np.array(data)\n",
    "data\n",
    "data+1 \n",
    "#numpy를 사용하는 이유는 전체 배열에 1이 증가되는 계산이 쉽다.\n",
    "\n",
    "data1=[1,2,3]\n",
    "data2=[4,5,6]\n",
    "data1+data2 # 2개의 리스트 합쳐짐\n",
    "data1=np.array(data1)\n",
    "data2=np.array(data2)\n",
    "data1+data2 # 2개의 리스트 index 값이 더해짐\n",
    "\n",
    "data1[1:3]+2\n"
   ]
  },
  {
   "cell_type": "code",
   "execution_count": null,
   "id": "4c84a6a7",
   "metadata": {},
   "outputs": [],
   "source": [
    "#1차원, 2차원, 3차원\n",
    "data1=[1,2,3]\n",
    "data2=[[1,2],[3,4],[5,6]]\n",
    "data3=[[[1,2,3],[4,5,6],[7,8,9]],\n",
    "       [[11,12,13],[14,15,16],[17,18,19]],\n",
    "       [[111,222,333],[444,555,666],[777,888,999]]\n",
    "      ]\n",
    "data1;data1[0]\n",
    "data2;data2[0];data2[0][0]\n",
    "data3;data3[0];data3[0][0];data3[0][0][0]\n",
    "\n",
    "data1=np.array(data1)\n",
    "data2=np.array(data2)\n",
    "data3=np.array(data3)\n",
    "#현재 차원이 몇인가?\n",
    "data1.ndim \n",
    "data2.ndim\n",
    "data3.ndim\n",
    "\n",
    "#몇행 몇열로 이루어져 있는가?\n",
    "data1.shape\n",
    "data2.shape\n",
    "data3.shape\n",
    "\n",
    "#새로운 접근법에 대해 알아보자\n",
    "data2\n",
    "data2[0,1] #행, 열을 지정하여 위치값 확인\n",
    "data3[0,1,0]\n",
    "data2[0,:] #1행의 모든 값을 출력하세요.\n",
    "#data3에서 1행 1열의 모든 값을 나타내세요.\n",
    "data3[0,0,:]\n",
    "\n",
    "data2[:,0] # 1열의 모든 값을 출력"
   ]
  },
  {
   "cell_type": "code",
   "execution_count": null,
   "id": "a8e8cbf9",
   "metadata": {},
   "outputs": [],
   "source": [
    "#연습문제.다음 행렬과 같은 행렬이 있다.\n",
    "m = np.array([[ 0,  1,  2,  3,  4],\n",
    "            [ 5,  6,  7,  8,  9],\n",
    "            [10, 11, 12, 13, 14]])\n",
    "\n",
    "# 2차원 [[, 몇행몇열? 3행 5열\n",
    "#1)이 행렬에서 값 7 을 인덱싱한다. 2행 3열\n",
    "m[1,2]\n",
    "#2)이 행렬에서 값 14 을 인덱싱한다. 3행 5열\n",
    "m[2,4]\n",
    "#3)이 행렬에서 배열 [6, 7] 을 슬라이싱한다. 2행 2:3열\n",
    "m[1,1:3]\n",
    "#4)이 행렬에서 배열 [7, 12] 을 슬라이싱한다. 2:3행, 3열\n",
    "m[2:4,3]\n",
    "#5)이 행렬에서 배열 [[3, 4], [8, 9]] 을 슬라이싱한다.\n",
    "\n",
    "#참고)\n",
    "m[[0,2],[0]] \n",
    "# 행과 열을  : 을 사용하여 연속적인 값을 가지고 \n",
    "#올수 있지만 [ ]리스트를 이용하여 \n",
    "#건너뛰는 데이터를 가지고 올 수도 있음\n",
    "\n",
    "#넘파이 배열에 특정한 값만을 True, False 리스트를 이용하여 출력\n",
    "data=np.array([1,2,3,4,5])\n",
    "data[[True, False, True, False, True]]\n",
    "\n",
    "data=np.array([1,2,3,4,5])\n",
    "idx=[True, False, True, False, True]\n",
    "data[idx]\n",
    "\n",
    "data%2 == 0\n",
    "data[data%2 == 0]\n",
    "\n",
    "data=np.array([1,2,3,4,5,6,7,8,9])\n",
    "data[data > 5] # 5보다 큰값을 출력하세요.\n",
    "# 3이상 6미만 값을 출력하세요.\n",
    "#data[data > 3 and data < 6] #오류\n",
    "#data[data > 3 & data < 6] #오류 () 연산자 처리\n",
    "#data[(data > 3) & (data < 6)] #오류발생 안함\n",
    "#data[3 < data < 6] #오류\n",
    "#data[(data > 3) and (data < 6)]\n",
    "#data[(data > 3)]\n",
    "#data[(data < 6)]\n",
    "#True and True\n",
    "#(data > 3) & (data < 6)\n",
    "#data[(data > 3) & (data < 6)]\n",
    "\n",
    "#a=10\n",
    "#1<a<11\n",
    "\n",
    "m = np.array([[ 0,  1,  2,  3,  4],\n",
    "            [ 5,  6,  7,  8,  9],\n",
    "            [10, 11, 12, 13, 14]])\n",
    "#문제 . 모든행의 1,3,5열을 True, False이용하여 출력하세요.\n",
    "#m[:,:]\n",
    "m[:,[True, False, True, False, True]]"
   ]
  },
  {
   "cell_type": "code",
   "execution_count": null,
   "id": "811ebf0c",
   "metadata": {},
   "outputs": [],
   "source": [
    "#연습 문제\n",
    "#다음 행렬과 같은 배열이 있다.\n",
    "#x = np.array([1, 2, 3, 4, 5, 6, 7, 8, 9, 10,\n",
    "#             11, 12, 13, 14, 15, 16, 17, 18, 19, 20])\n",
    "x=np.array(range(1,21)) \n",
    "# 주의 사항 [range(1,2)] [[]] 2차원배열이 되므로 유의\n",
    "x\n",
    "#1)이 배열에서 3의 배수를 찾아라.\n",
    "x[x%3==0]\n",
    "#2)이 배열에서 4로 나누면 1이 남는 수를 찾아라.\n",
    "x[x%4==1]\n",
    "#3)배열에서 3으로 나누면 나누어지고 \n",
    "#4로 나누면 1이 남는 수를 찾아라.\n",
    "x[(x%3==0)&(x%4==1)]"
   ]
  },
  {
   "cell_type": "code",
   "execution_count": null,
   "id": "3f16334f",
   "metadata": {},
   "outputs": [],
   "source": [
    "data=np.array([1,2,3,4,5])\n",
    "data.dtype # 정수형(int)\n",
    "data=np.array(range(1,6))\n",
    "data.dtype # 정수형(int)\n",
    "data=np.zeros(10) \n",
    "data.dtype # 실수형(float64)\n",
    "data=np.ones(10) \n",
    "data.dtype # 실수형(float64)\n",
    "\"\"\"\n",
    "dtype 접두사 설명 사용 예\n",
    "b     불리언 b (참 혹은 거짓)\n",
    "i     정수   i8 (64비트)\n",
    "u     부호 없는 정수 u8 (64비트)\n",
    "f     부동소수점 f8 (64비트)\n",
    "c     복소부동소수점 c16 (128비트)\n",
    "O     객체 0 (객체에 대한 포인터)\n",
    "S     바이트 문자열 S24 (24 글자)\n",
    "U     유니코드 문자열 U24 (24 유니코드 글자)\n",
    "\"\"\"\n"
   ]
  },
  {
   "cell_type": "code",
   "execution_count": null,
   "id": "3fd5a15a",
   "metadata": {},
   "outputs": [],
   "source": [
    "data=np.array([1.2,1.3,1.5])\n",
    "data.dtype\n",
    "data=np.array([1.2,1.3,1.5],dtype='i')\n",
    "data.dtype\n",
    "data=np.zeros(10, dtype='i') #i(정수) , f(실수), U(문자열)\n",
    "data.dtype\n",
    "\n",
    "# Inf(infinity 무한대,np.inf), NaN(not a number, np.nan)\n",
    "np.array([0,1,1,-1])/np.array([0,1,0,0])\n",
    "# 결과 array([ nan,   1.,  inf, -inf]) : 결측값\n",
    "\n"
   ]
  },
  {
   "cell_type": "code",
   "execution_count": null,
   "id": "9f1a45cc",
   "metadata": {},
   "outputs": [],
   "source": [
    "np.zeros(10, dtype='i')\n",
    "np.ones(10, dtype='i')\n",
    "data=np.zeros((3,5), dtype='i')\n",
    "data\n",
    "data=np.zeros_like(data) # 행과 열크기를 복사\n",
    "data\n",
    "data=np.ones_like(data) # 행과 열크기를 복사\n",
    "data\n",
    "data=np.empty((3,3))\n",
    "data\n",
    "data=np.linspace(0,100,5) #0~에서 100사이에서 5개 값을 출력\n",
    "data\n",
    "data=np.logspace(0.1,1,10)\n",
    "data\n",
    "data=np.array([[1,2,3],[4,5,6]]) # 2행3열\n",
    "data\n",
    "data.T #행열을 전환하는 명령\n",
    "data=np.array([1,2,3,4,5,6])\n",
    "data=data.reshape(2,3)\n",
    "#data.flatten() #평평하게 바꾸세요. 1차원형태 변환\n",
    "data.ravel() #위와 동일한 함수"
   ]
  },
  {
   "cell_type": "code",
   "execution_count": null,
   "id": "17256c0a",
   "metadata": {},
   "outputs": [],
   "source": [
    "# stack은 합쳐지는 역할을 하는 함수\n",
    "#배열을 합치는 작업\n",
    "data1=np.zeros(6,dtype='i')\n",
    "data1\n",
    "data2=np.ones(6,dtype='i')\n",
    "data2\n",
    "np.stack([data1, data2]) \n",
    "#1차원배열이 2차원으로 변환(차원 증가)"
   ]
  },
  {
   "cell_type": "code",
   "execution_count": null,
   "id": "c76a4100",
   "metadata": {},
   "outputs": [],
   "source": [
    "#배열을 합치는 작업\n",
    "data1=np.zeros((2,3),dtype='i')\n",
    "data1\n",
    "data2=np.ones((2,3),dtype='i')\n",
    "data2\n",
    "np.stack([data1, data2]) \n",
    "#리스트에 합칠 리스트 명을 입력\n",
    "#2->3차원 배열로 합쳐짐.\n"
   ]
  },
  {
   "cell_type": "code",
   "execution_count": null,
   "id": "83a12643",
   "metadata": {},
   "outputs": [],
   "source": [
    "data1=np.zeros(6,dtype='i')\n",
    "data2=np.ones(6,dtype='i')\n",
    "np.hstack([data1, data2]) #1차원 -> 1차원 #h는 수평붙이기\n",
    "np.vstack([data1, data2]) #1차원 -> 2차원 #v는 수직붙이기"
   ]
  },
  {
   "cell_type": "code",
   "execution_count": null,
   "id": "4e68b76d",
   "metadata": {},
   "outputs": [],
   "source": [
    "data1=np.zeros((2,3),dtype='i')\n",
    "data2=np.ones((2,3),dtype='i')\n",
    "np.hstack([data1, data2]) #현재 차원이 유지되고 데이터만 추가\n",
    "np.vstack([data1, data2]) #차원은 유지되고 배열 데이터가 추가"
   ]
  },
  {
   "cell_type": "code",
   "execution_count": null,
   "id": "77e5ef79",
   "metadata": {},
   "outputs": [],
   "source": [
    "data1=np.zeros(3,dtype='i')\n",
    "data2=np.ones(3,dtype='i')\n",
    "np.r_[data1, data2] #hstack()유사, r=row ,행추가\n",
    "np.c_[data1, data2] #vstatck()유사 c=column, 열추가"
   ]
  },
  {
   "cell_type": "code",
   "execution_count": null,
   "id": "ff2b119c",
   "metadata": {},
   "outputs": [],
   "source": [
    "data=np.array([1,2,3,4,5])\n",
    "np.tile(data,3) #타일은 붙이는 것을 의미하며 같은 데이터를 몇번 붙일것인가\n",
    "data=np.array([[1,2,3],[4,5,6]])\n",
    "np.tile(data,3)"
   ]
  },
  {
   "cell_type": "code",
   "execution_count": null,
   "id": "4ab4a828",
   "metadata": {},
   "outputs": [],
   "source": [
    "x=np.arange(3)\n",
    "print(x)\n",
    "y=np.arange(5)\n",
    "print(y)\n",
    "np.meshgrid(x,y)\n",
    "X,Y=np.meshgrid(x,y)\n",
    "X\n",
    "Y"
   ]
  },
  {
   "cell_type": "code",
   "execution_count": null,
   "id": "feadbb7d",
   "metadata": {},
   "outputs": [],
   "source": [
    "data = np.array([[80, 78, 90, 93],[65, 87, 88, 75], [98, 100, 68, 80]])\n",
    "#통계에 필요한 내용(합계(sum), 평균(mean), \n",
    "#카운터, 최대값(max), 최소값(min), \n",
    "#표준편차(std), 중간값(median), 분산(var)\n",
    "data.sum()\n",
    "data.mean()\n",
    "#len(data)*len(data[0])\n",
    "len(data[data>80])\n",
    "data.max()\n",
    "data.min()\n",
    "data.std()\n",
    "np.median([1,4,6,8,100]) #중간값 [1,4,6,8,9] ->6\n",
    "np.var([1,4,6,8,100]) #분산\n",
    "\n",
    "np.all([True, True, True]) #모든 값이 True -> True(and)\n",
    "np.any([True, False, True]) #모든 값 중 하나만 True -> True(or)\n",
    "\n",
    "#data[0].sum()\n",
    "#print(data)\n",
    "#data.max(axis=0) #0은 세로값 중 가장 큰값\n",
    "#data.max(axis=1) #1은 가로 값 중 가장 큰값\n",
    "\n",
    "#index1 = np.argmax(data, axis=0) # 세로축값중 가장 큰값의 위치번호\n",
    "#index1\n"
   ]
  },
  {
   "cell_type": "code",
   "execution_count": null,
   "id": "c24b44f7",
   "metadata": {},
   "outputs": [],
   "source": [
    "x=np.arange(0,11)\n",
    "y=np.arange(100,111)\n",
    "y.shape\n",
    "z=np.zeros_like(x)\n",
    "z=x+y\n",
    "z\n",
    "\n",
    "a=np.array([1,2,3,4])\n",
    "b=np.array([4,2,2,4])\n",
    "# > < >= <= != (True, False결과 리턴)\n",
    "a != b #위의 연산자를 활용하여 실습\n",
    "\n",
    "c=np.array([1,2,3,4])\n",
    "np.all(a==c) #모든 값이 같은지 확인하는 함수\n",
    "\n",
    "# +, - ,*, / % %% 연산한 후 결과를 입력"
   ]
  },
  {
   "cell_type": "code",
   "execution_count": null,
   "id": "42d801b4",
   "metadata": {},
   "outputs": [],
   "source": [
    "#문제.실수로 이루어진 5 x 6 형태의 데이터 행렬을 만들고 \n",
    "#이 데이터에 대해 다음과 같은 값을 구한다.\n",
    "\n",
    "#전체의 최댓값\n",
    "#각 행의 합\n",
    "#각 행의 최댓값\n",
    "#각 열의 평균\n",
    "#각 열의 최솟값"
   ]
  },
  {
   "cell_type": "code",
   "execution_count": null,
   "id": "c4f32398",
   "metadata": {
    "scrolled": true
   },
   "outputs": [],
   "source": [
    "#사분위\n",
    "data=np.arange(1,101)\n",
    "data\n",
    "data=np.array([10,20,25,30,45,70,90])\n",
    "#np.percentile(data,0)\n",
    "np.percentile(data,25)\n",
    "#np.percentile(data,50)\n",
    "#np.percentile(data,75)\n",
    "#np.percentile(data,100)"
   ]
  },
  {
   "cell_type": "code",
   "execution_count": null,
   "id": "b3d61473",
   "metadata": {},
   "outputs": [],
   "source": [
    "data = np.random.randn(3,4)\n",
    "data=data*10\n",
    "data=np.array(data,dtype='i') #정수 변환\n",
    "data\n",
    "data > 0\n",
    "(data>0).sum()\n",
    "print(data)\n",
    "\n",
    "#np.where(data > 0, 1, -1) \n",
    "# 조건을 만족하면 2번째 값으로 변경\n",
    "#그렇지 않으면 3번째 값으로 변경\n",
    "\n",
    "#np.where(data > 0, 1) #참일경우 변경은 되지 않음\n",
    "np.where(data > 0, 5, data)\n"
   ]
  },
  {
   "cell_type": "code",
   "execution_count": 207,
   "id": "a1aaa26d",
   "metadata": {},
   "outputs": [
    {
     "data": {
      "text/plain": [
       "array([[ 1, 10,  1,  1],\n",
       "       [10, 10, 10, 10],\n",
       "       [ 2, 10,  2,  2],\n",
       "       [ 3, 10,  3,  3]])"
      ]
     },
     "execution_count": 207,
     "metadata": {},
     "output_type": "execute_result"
    }
   ],
   "source": [
    "data = np.arange(10)\n",
    "#print(data)\n",
    "np.insert(data, 3, 10) #isert함수는 사이에 값을 넣는 역할, 오른쪽으로 밀려감\n",
    "#data의 배열 중 3번째 인덱스의 위치에 10을 넣고\n",
    "#나머지는 우측으로 이동\n",
    "data = np.array([[1, 1, 1], [2, 2, 2], [3, 3, 3]])\n",
    "#print(data)\n",
    "data=np.insert(data, 1, 10, axis=0) #axis는 2차원행렬에서 처리되는 구조\n",
    "# 0 : 가로(행) , 1행(2번째), 10을 입력(배열)하라\n",
    "data=np.insert(data, 1, 10, axis=1)\n",
    "data"
   ]
  },
  {
   "cell_type": "code",
   "execution_count": 252,
   "id": "7c4eac62",
   "metadata": {
    "scrolled": false
   },
   "outputs": [
    {
     "name": "stdout",
     "output_type": "stream",
     "text": [
      "['지역', '학교명', '학급수', '학생수', '교사수']\n",
      "학급수 134\n",
      "학생수 2916\n",
      "교사수 157\n"
     ]
    },
    {
     "ename": "IndexError",
     "evalue": "boolean index did not match indexed array along dimension 0; dimension is 5 but corresponding boolean dimension is 2",
     "output_type": "error",
     "traceback": [
      "\u001b[1;31m---------------------------------------------------------------------------\u001b[0m",
      "\u001b[1;31mIndexError\u001b[0m                                Traceback (most recent call last)",
      "\u001b[1;32m~\\AppData\\Local\\Temp\\ipykernel_1268\\578632622.py\u001b[0m in \u001b[0;36m<module>\u001b[1;34m\u001b[0m\n\u001b[0;32m     65\u001b[0m \u001b[1;33m\u001b[0m\u001b[0m\n\u001b[0;32m     66\u001b[0m \u001b[1;31m#학생수가 큰 학교 출력\u001b[0m\u001b[1;33m\u001b[0m\u001b[1;33m\u001b[0m\u001b[0m\n\u001b[1;32m---> 67\u001b[1;33m \u001b[0mn1_data\u001b[0m\u001b[1;33m[\u001b[0m\u001b[0mn1_data\u001b[0m\u001b[1;33m[\u001b[0m\u001b[1;36m1\u001b[0m\u001b[1;33m:\u001b[0m\u001b[1;36m3\u001b[0m\u001b[1;33m,\u001b[0m\u001b[1;36m1\u001b[0m\u001b[1;33m]\u001b[0m\u001b[1;33m>\u001b[0m\u001b[0mn1_data\u001b[0m\u001b[1;33m[\u001b[0m\u001b[1;36m1\u001b[0m\u001b[1;33m:\u001b[0m\u001b[1;36m3\u001b[0m\u001b[1;33m,\u001b[0m\u001b[1;36m0\u001b[0m\u001b[1;33m]\u001b[0m\u001b[1;33m]\u001b[0m\u001b[1;33m\u001b[0m\u001b[1;33m\u001b[0m\u001b[0m\n\u001b[0m",
      "\u001b[1;31mIndexError\u001b[0m: boolean index did not match indexed array along dimension 0; dimension is 5 but corresponding boolean dimension is 2"
     ]
    }
   ],
   "source": [
    "#파일로부터 데이터 변수에 입력받음\n",
    "import csv\n",
    "f = open('school_2019.csv', 'r',encoding='utf-8')\n",
    "lines = csv.reader(f)\n",
    "header = next(lines)\n",
    "print(header)\n",
    "data = []\n",
    "for line in lines :\n",
    "    data.append(line[:])\n",
    "#print(data)\n",
    "f.close()\n",
    "#전체데이터 -> 일부데이터를 선별하는 작업(새로운 데이터 저장공간 생성)\n",
    "#필요한 사항 :  \n",
    "#1)데이터 전체길이\n",
    "length=len(data)\n",
    "length\n",
    "#2)새로운 데이터 공간확보(학급수,학생수,교사수, 3열)\n",
    "n1_data=np.zeros((length, 3), dtype='int32')\n",
    "n1_data.shape\n",
    "n1_data.shape[0]\n",
    "#3)새로운 데이터 공간에 데이터입력\n",
    "#for i in range(length):\n",
    "\n",
    "#for i in range(n1_data.shape[0]):\n",
    "#    for j in range(n1_data.shape[1]):\n",
    "#        n1_data[i][j]=data[i][j+2]\n",
    "\n",
    "for i in range(n1_data.shape[0]):\n",
    "    n1_data[i][0]=data[i][2]\n",
    "    n1_data[i][1]=data[i][3]\n",
    "    n1_data[i][2]=data[i][4]\n",
    "        \n",
    "\n",
    "#학급수,학생수,교사수\n",
    "#지역의 학급수,학생수,교사수(합계)\n",
    "n1_data[:,0].sum() #학급수 합\n",
    "n1_data[:,1].sum() #학생수 합\n",
    "n1_data[:,2].sum() #교사수 합\n",
    "\n",
    "for i in range(3): # 0,1,2\n",
    "    print(header[2+i],n1_data[:,i].sum())\n",
    "    \n",
    "#for i in range(len(n1_data[0])):\n",
    "#    print(header[2+i],n1_data[:,i].sum())\n",
    "    \n",
    "#지역의 학급수,학생수,교사수(평균)\n",
    "#for i in range(3): # 0,1,2\n",
    "#    print(header[2+i],n1_data[:,i].mean())\n",
    "\n",
    "#지역의 학급수,학생수,교사수(최소값)\n",
    "#for i in range(3): # 0,1,2\n",
    "#    print(header[2+i],n1_data[:,i].min())\n",
    "\n",
    "#지역의 학급수,학생수,교사수(최대값)\n",
    "#for i in range(3): # 0,1,2\n",
    "#    print(header[2+i],n1_data[:,i].max())\n",
    "    \n",
    "#학생수\n",
    "n1_data[:,1].sum()\n",
    "#교사수\n",
    "n1_data[:,2].sum()\n",
    "\n",
    "#학생수의 합과 교사수의 합을 구해서 전체에 대한 크기 비교\n",
    "n1_data[:,1].sum() > n1_data[:,2].sum()\n",
    "\n",
    "#학생수가 큰 학교 출력\n",
    "n1_data[n1_data[1:3,1]>n1_data[1:3,0]]\n"
   ]
  },
  {
   "cell_type": "code",
   "execution_count": 246,
   "id": "b1c265d9",
   "metadata": {
    "scrolled": true
   },
   "outputs": [
    {
     "data": {
      "text/plain": [
       "13"
      ]
     },
     "execution_count": 246,
     "metadata": {},
     "output_type": "execute_result"
    }
   ],
   "source": [
    "#list(range(3))\n",
    "data=[[1,2,3],[3,4,5],[6,7,8]]\n",
    "data=np.array(data)\n",
    "\n",
    "data[0].sum() # 1행에 합\n",
    "\n",
    "#1열의 합\n",
    "data[:,1].sum() #모든행에 대한 1열의 합을 구하세요.\n",
    "\n",
    "#1열의 합\n",
    "s=0\n",
    "for i in range(3):\n",
    "    s=s+data[i][0]\n",
    "print(s)\n",
    "\n",
    "\n"
   ]
  },
  {
   "cell_type": "code",
   "execution_count": null,
   "id": "218807fd",
   "metadata": {},
   "outputs": [],
   "source": []
  }
 ],
 "metadata": {
  "kernelspec": {
   "display_name": "Python 3 (ipykernel)",
   "language": "python",
   "name": "python3"
  },
  "language_info": {
   "codemirror_mode": {
    "name": "ipython",
    "version": 3
   },
   "file_extension": ".py",
   "mimetype": "text/x-python",
   "name": "python",
   "nbconvert_exporter": "python",
   "pygments_lexer": "ipython3",
   "version": "3.9.13"
  }
 },
 "nbformat": 4,
 "nbformat_minor": 5
}
