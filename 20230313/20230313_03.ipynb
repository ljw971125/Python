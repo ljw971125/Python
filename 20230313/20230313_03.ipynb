{
 "cells": [
  {
   "cell_type": "code",
   "execution_count": 14,
   "metadata": {},
   "outputs": [],
   "source": [
    "import csv"
   ]
  },
  {
   "cell_type": "code",
   "execution_count": 15,
   "metadata": {},
   "outputs": [],
   "source": [
    "f = open('20230313.csv', 'r', encoding='cp949')"
   ]
  },
  {
   "cell_type": "code",
   "execution_count": 16,
   "metadata": {},
   "outputs": [],
   "source": [
    "data = csv.reader(f, delimiter=',')"
   ]
  },
  {
   "cell_type": "code",
   "execution_count": null,
   "metadata": {},
   "outputs": [],
   "source": [
    "for row in data:\n",
    "    print(row)"
   ]
  },
  {
   "cell_type": "code",
   "execution_count": 18,
   "metadata": {},
   "outputs": [],
   "source": [
    "f.close()"
   ]
  },
  {
   "cell_type": "code",
   "execution_count": 19,
   "metadata": {},
   "outputs": [
    {
     "name": "stdout",
     "output_type": "stream",
     "text": [
      "['날짜', '지점', '평균기온(℃)', '최저기온(℃)', '최고기온(℃)']\n"
     ]
    }
   ],
   "source": [
    "f = open('20230313.csv')\n",
    "data = csv.reader(f)\n",
    "\n",
    "header = next(data)\n",
    "print(header)\n",
    "\n",
    "f.close()"
   ]
  },
  {
   "cell_type": "code",
   "execution_count": 49,
   "metadata": {},
   "outputs": [
    {
     "ename": "ValueError",
     "evalue": "could not convert string to float: ''",
     "output_type": "error",
     "traceback": [
      "\u001b[1;31m---------------------------------------------------------------------------\u001b[0m",
      "\u001b[1;31mValueError\u001b[0m                                Traceback (most recent call last)",
      "Cell \u001b[1;32mIn[49], line 13\u001b[0m\n\u001b[0;32m      9\u001b[0m header \u001b[39m=\u001b[39m \u001b[39mnext\u001b[39m(data)\n\u001b[0;32m     11\u001b[0m \u001b[39mfor\u001b[39;00m row \u001b[39min\u001b[39;00m data:\n\u001b[0;32m     12\u001b[0m     \u001b[39m#print(row) 전체 데이터 확인\u001b[39;00m\n\u001b[1;32m---> 13\u001b[0m     row[\u001b[39m-\u001b[39m\u001b[39m1\u001b[39m] \u001b[39m=\u001b[39m \u001b[39mfloat\u001b[39;49m(row[\u001b[39m4\u001b[39;49m])\n\u001b[0;32m     14\u001b[0m     \u001b[39m#if row[-1] == '':\u001b[39;00m\n\u001b[0;32m     15\u001b[0m     \u001b[39m#    print(row)\u001b[39;00m\n\u001b[0;32m     16\u001b[0m \n\u001b[0;32m     17\u001b[0m \u001b[39m#데이터 출력\u001b[39;00m\n\u001b[0;32m     18\u001b[0m \u001b[39mprint\u001b[39m(\u001b[39m\"\u001b[39m\u001b[39m날짜:\u001b[39m\u001b[39m\"\u001b[39m,max_date,\u001b[39m\"\u001b[39m\u001b[39m,\u001b[39m\u001b[39m\"\u001b[39m, \u001b[39m\"\u001b[39m\u001b[39m최고기온:\u001b[39m\u001b[39m\"\u001b[39m,max_temp)\n",
      "\u001b[1;31mValueError\u001b[0m: could not convert string to float: ''"
     ]
    }
   ],
   "source": [
    "#변수 초기화\n",
    "max_date = '' # 최고 기온인 날짜를 저장할 변수\n",
    "max_temp = -100.0       # 최고 기온 저장할 변수\n",
    "\n",
    "#파일 읽기\n",
    "f = open('20230313.csv')\n",
    "data = csv.reader(f)\n",
    "\n",
    "header = next(data)\n",
    "\n",
    "for row in data:\n",
    "    #print(row) 전체 데이터 확인\n",
    "    row[-1] = float(row[4])\n",
    "    #if row[-1] == '':\n",
    "    #    print(row)\n",
    "\n",
    "#데이터 출력\n",
    "print(\"날짜:\",max_date,\",\", \"최고기온:\",max_temp)\n",
    "\n",
    "#파일 닫기\n",
    "f.close()"
   ]
  },
  {
   "cell_type": "code",
   "execution_count": null,
   "metadata": {},
   "outputs": [],
   "source": []
  }
 ],
 "metadata": {
  "kernelspec": {
   "display_name": "Python 3",
   "language": "python",
   "name": "python3"
  },
  "language_info": {
   "codemirror_mode": {
    "name": "ipython",
    "version": 3
   },
   "file_extension": ".py",
   "mimetype": "text/x-python",
   "name": "python",
   "nbconvert_exporter": "python",
   "pygments_lexer": "ipython3",
   "version": "3.10.10"
  },
  "orig_nbformat": 4
 },
 "nbformat": 4,
 "nbformat_minor": 2
}
