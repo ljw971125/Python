{
 "cells": [
  {
   "attachments": {},
   "cell_type": "markdown",
   "metadata": {},
   "source": [
    "# 4.문자열\n",
    "1) 문자열 메서드\n",
    "- upper() : 문자열을 대문자로 변경\n",
    "- lower() : 문자열을 소문자로 변경\n",
    "- swapcase() : 대문자는 소문자로, 소문자는 대문자로 변경\n",
    "- capitalize() : 첫 문자만 대문자로 변경\n",
    "- title() : 각 단어의 첫 문자를 대문자로 변경\n",
    "- <font color = red>strip()</font>: 문자열 양쪽 끝을 잘라냄(기본은 공백)\n",
    "- lstrip() : 문자열 왼쪽 끝을 잘라냄\n",
    "- rstrip() : 문자열 오른쪽 끝을 잘라냄\n",
    "- <font color = red>split()</font> : 문자열을 구분자로 분리해 리스트로 반환\n",
    "- splitlines() : 문자열을 라인 단위로 분리해 리스트로 반환\n",
    "- <font color = red>index()</font> : 해당 문자열의 인덱스를 변환(없는 경우 에러)\n",
    "- <font color = red>find()</font> : 해당 문자열의 인덱스를 반환(없는 경우 -1)\n"
   ]
  },
  {
   "cell_type": "code",
   "execution_count": 2,
   "metadata": {},
   "outputs": [
    {
     "name": "stdout",
     "output_type": "stream",
     "text": [
      "ABCDEFGHI\n"
     ]
    }
   ],
   "source": [
    "str1 = 'abcdefghi'\n",
    "print(str1.upper())"
   ]
  },
  {
   "cell_type": "code",
   "execution_count": 3,
   "metadata": {},
   "outputs": [
    {
     "name": "stdout",
     "output_type": "stream",
     "text": [
      "abcdefghi\n"
     ]
    }
   ],
   "source": [
    "str2 = 'ABCDEFGHI'\n",
    "print(str2.lower())"
   ]
  },
  {
   "cell_type": "code",
   "execution_count": 4,
   "metadata": {},
   "outputs": [
    {
     "name": "stdout",
     "output_type": "stream",
     "text": [
      "ABcdEFghI\n"
     ]
    }
   ],
   "source": [
    "str3 = 'abCDefGHi'\n",
    "print(str3.swapcase())"
   ]
  },
  {
   "cell_type": "code",
   "execution_count": 5,
   "metadata": {},
   "outputs": [
    {
     "name": "stdout",
     "output_type": "stream",
     "text": [
      "Abcd abcd\n"
     ]
    }
   ],
   "source": [
    "str4 = 'abcd abcd'\n",
    "print(str4.capitalize())"
   ]
  },
  {
   "cell_type": "code",
   "execution_count": 6,
   "metadata": {},
   "outputs": [
    {
     "name": "stdout",
     "output_type": "stream",
     "text": [
      "Abcd Abcd\n"
     ]
    }
   ],
   "source": [
    "str5 = 'abcd abcd'\n",
    "print(str5.title())"
   ]
  },
  {
   "cell_type": "code",
   "execution_count": 7,
   "metadata": {},
   "outputs": [
    {
     "name": "stdout",
     "output_type": "stream",
     "text": [
      "     abcd efgh     \n",
      "abcd efgh\n"
     ]
    }
   ],
   "source": [
    "str6 = '     abcd efgh     '\n",
    "print(str6)\n",
    "print(str6.strip())"
   ]
  },
  {
   "cell_type": "code",
   "execution_count": 11,
   "metadata": {},
   "outputs": [
    {
     "name": "stdout",
     "output_type": "stream",
     "text": [
      "     abcd efgh     \n",
      "abcd efgh     \n"
     ]
    }
   ],
   "source": [
    "str7 = '     abcd efgh     '\n",
    "print(str7)\n",
    "print(str7.lstrip())"
   ]
  },
  {
   "cell_type": "code",
   "execution_count": 10,
   "metadata": {},
   "outputs": [
    {
     "name": "stdout",
     "output_type": "stream",
     "text": [
      "     abcd efgh     \n",
      "     abcd efgh\n"
     ]
    }
   ],
   "source": [
    "str8 = '     abcd efgh     '\n",
    "print(str8)\n",
    "print(str8.rstrip())"
   ]
  },
  {
   "cell_type": "code",
   "execution_count": 13,
   "metadata": {},
   "outputs": [
    {
     "name": "stdout",
     "output_type": "stream",
     "text": [
      "['ab', 'de']\n"
     ]
    }
   ],
   "source": [
    "str9 = 'abcde'\n",
    "print(str9.split('c')) #()기준으로 나눔"
   ]
  },
  {
   "cell_type": "code",
   "execution_count": 14,
   "metadata": {},
   "outputs": [
    {
     "name": "stdout",
     "output_type": "stream",
     "text": [
      "abcd\n",
      "efge\n"
     ]
    }
   ],
   "source": [
    "str10 = \"\"\"abcd\n",
    "efge\"\"\"\n",
    "print(str10)"
   ]
  },
  {
   "cell_type": "code",
   "execution_count": 15,
   "metadata": {},
   "outputs": [
    {
     "name": "stdout",
     "output_type": "stream",
     "text": [
      "['abcd', 'efge']\n"
     ]
    }
   ],
   "source": [
    "print(str10.splitlines())"
   ]
  },
  {
   "cell_type": "code",
   "execution_count": 16,
   "metadata": {},
   "outputs": [
    {
     "name": "stdout",
     "output_type": "stream",
     "text": [
      "4\n"
     ]
    }
   ],
   "source": [
    "str11 = 'abcde'\n",
    "print(str11.index('e'))"
   ]
  },
  {
   "cell_type": "code",
   "execution_count": 17,
   "metadata": {},
   "outputs": [
    {
     "ename": "ValueError",
     "evalue": "substring not found",
     "output_type": "error",
     "traceback": [
      "\u001b[1;31m---------------------------------------------------------------------------\u001b[0m",
      "\u001b[1;31mValueError\u001b[0m                                Traceback (most recent call last)",
      "Cell \u001b[1;32mIn[17], line 2\u001b[0m\n\u001b[0;32m      1\u001b[0m str12 \u001b[39m=\u001b[39m \u001b[39m'\u001b[39m\u001b[39mabcde\u001b[39m\u001b[39m'\u001b[39m\n\u001b[1;32m----> 2\u001b[0m \u001b[39mprint\u001b[39m(str12\u001b[39m.\u001b[39;49mindex(\u001b[39m'\u001b[39;49m\u001b[39mi\u001b[39;49m\u001b[39m'\u001b[39;49m))\n",
      "\u001b[1;31mValueError\u001b[0m: substring not found"
     ]
    }
   ],
   "source": [
    "str12 = 'abcde'\n",
    "print(str12.index('i')) #존재하지 않는 것은 에러 (★예외처리)"
   ]
  },
  {
   "cell_type": "code",
   "execution_count": 18,
   "metadata": {},
   "outputs": [
    {
     "name": "stdout",
     "output_type": "stream",
     "text": [
      "4\n"
     ]
    }
   ],
   "source": [
    "str13 = 'abcde'\n",
    "print(str13.find('e'))"
   ]
  },
  {
   "cell_type": "code",
   "execution_count": 20,
   "metadata": {},
   "outputs": [
    {
     "name": "stdout",
     "output_type": "stream",
     "text": [
      "-1\n"
     ]
    }
   ],
   "source": [
    "str14 = 'abcde'\n",
    "print(str14.find('i')) #존재하지 않는 값은 -1로 표시"
   ]
  },
  {
   "cell_type": "code",
   "execution_count": 22,
   "metadata": {},
   "outputs": [
    {
     "name": "stdout",
     "output_type": "stream",
     "text": [
      "Hello, World!!\n"
     ]
    }
   ],
   "source": [
    "new_str1 = \"{}, World!!\".format(\"Hello\")\n",
    "print(new_str1)"
   ]
  },
  {
   "cell_type": "code",
   "execution_count": 25,
   "metadata": {},
   "outputs": [
    {
     "name": "stdout",
     "output_type": "stream",
     "text": [
      "안녕하세요. 반갑습니다.\n"
     ]
    }
   ],
   "source": [
    "new_str2 = \"{} {}\".format(\"안녕하세요.\",\"반갑습니다.\")\n",
    "print(new_str2)"
   ]
  },
  {
   "cell_type": "code",
   "execution_count": 29,
   "metadata": {},
   "outputs": [
    {
     "name": "stdout",
     "output_type": "stream",
     "text": [
      "2 2 (1, 2) [3, 4]\n"
     ]
    }
   ],
   "source": [
    "new_str3 = \"{} {} {} {}\".format(\"2\",2,(1,2),[3,4])\n",
    "print(new_str3)"
   ]
  },
  {
   "cell_type": "code",
   "execution_count": 30,
   "metadata": {},
   "outputs": [
    {
     "name": "stdout",
     "output_type": "stream",
     "text": [
      "안녕하세요. 라이언입니다. 반갑습니다.\n"
     ]
    }
   ],
   "source": [
    "new_str4 = \"{0} {2} {1}\".format(\"안녕하세요.\",\"반갑습니다.\",\"라이언입니다.\") #순번 정하기 가능\n",
    "print(new_str4)"
   ]
  },
  {
   "cell_type": "code",
   "execution_count": 31,
   "metadata": {},
   "outputs": [
    {
     "name": "stdout",
     "output_type": "stream",
     "text": [
      "오늘 화요일, 내일 수요일\n"
     ]
    }
   ],
   "source": [
    "new_str5 =\"오늘 {today}, 내일 {tomorrow}\".format(today=\"화요일\",tomorrow=\"수요일\") #키워드로 가능\n",
    "print(new_str5)"
   ]
  },
  {
   "cell_type": "code",
   "execution_count": 32,
   "metadata": {},
   "outputs": [
    {
     "name": "stdout",
     "output_type": "stream",
     "text": [
      "0.3333333333333333\n",
      "0.33\n",
      "3.000000\n",
      "  4,  10\n"
     ]
    }
   ],
   "source": [
    "str_1 = \"{}\".format(1/3)\n",
    "str_2 = \"{:0.2}\".format(1/3) #소수점 둘째자리까지\n",
    "str_3 = \"{:f}\".format(3) #실수로 표현\n",
    "str_4 = \"{:3},{:4}\".format(4,10) #글자 세개로, 글자 네개로(오른쪽 정렬)\n",
    "print(str_1)\n",
    "print(str_2)\n",
    "print(str_3)\n",
    "print(str_4)"
   ]
  }
 ],
 "metadata": {
  "kernelspec": {
   "display_name": "Python 3",
   "language": "python",
   "name": "python3"
  },
  "language_info": {
   "codemirror_mode": {
    "name": "ipython",
    "version": 3
   },
   "file_extension": ".py",
   "mimetype": "text/x-python",
   "name": "python",
   "nbconvert_exporter": "python",
   "pygments_lexer": "ipython3",
   "version": "3.11.2"
  },
  "orig_nbformat": 4,
  "vscode": {
   "interpreter": {
    "hash": "1682e5d06a6d97c1b1cf6bb4ae6cf16223e994936ddb1d53664597d7d46101fa"
   }
  }
 },
 "nbformat": 4,
 "nbformat_minor": 2
}
