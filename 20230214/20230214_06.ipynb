{
 "cells": [
  {
   "attachments": {},
   "cell_type": "markdown",
   "metadata": {},
   "source": [
    "# 3. 자료형(리스트/튜플/사전/집합) - 변수\n",
    "## 3.1 리스트(list) 자료형\n",
    "1) 정의\n",
    "- 다양한 자료형을 순차적으로 지정하는 집합적 자료형\n",
    "- 문자열이 지닌 대부분의 연산은 리스트도 지원함\n",
    "- 대괄호 지정 -> l = [1,2,3]\n",
    "- 동적 배열, 다차원 배열, 인덱싱 등을 훨씬 쉽고 편리하게 사용 가능\n",
    "2) 특징\n",
    "- 문자열과 같이 인덱스와 슬라이딩 연산 가능\n",
    "- 요소의 값 변경 가능\n",
    "  - 인덱스를 활용해 요소 값을 접근/변경할 수 있음\n",
    "  - 리스트의 요소로 다른 자료형이 올 수 있음\n",
    "3) 활용\n",
    "- insert 함수 : 해당 인덱스에 값 추가\n",
    "- pop 함수 : 해당 인덱스의 값 삭제 (기본 인덱스 -> 마지막)\n",
    "- reverse 함수 : 값을 거꾸로 정렬\n",
    "- count 함수 : 해당 값의 개수\n",
    "- append 함수 : 해당 값을 요소로 추가\n",
    "- extend 함수 : 해당 리스트를 뒤에 가져다 붙임(확장)\n",
    "- sort 함수 : 오름차순으로 값 정렬\n",
    "- index 함수 : 리스트에 해당 값이 있으면 해당 값의 인덱스 반환\n",
    "- copy 함수 : 리스트를 복사\n",
    "- 리스트의 내포\n",
    "  - 리스트를 만드는 반복문을 짧고 간결하게 만들어 줌\n",
    "  - [식 for 변수 in 리스트(튜플,문자열,사전등)]\n",
    "\n",
    "<font color = red>[면접대비]</font>\n",
    "1) 큐(Queue) 구현 - 먼저 집어 넣은 데이터가 먼저 나오는 FIFO(First In First Out) 구조로 저장하는 형식  \n",
    "  - 데이터는 뒤에서 추가되어야 하기 때문에 리스트의 append 함수 사용\n",
    "  - 데이터는 앞에서부터 하나씩 빠져야 하기 때문에 pop[0] 함수 사용\n",
    "2) 스택(Stack) 구현 - 나중에 집어 넣은 데이터가 먼저 나오는 LIFO(Last In First Out) 구조로 저장하는 형식\n",
    " - 데이터는 뒤에서 추가되어야 하기 때문에 리스트의 append 함수 사용\n",
    " - 데이터는 뒤에서 하나씩 빠져야 하기 때문에 리스트의 pop() 함수 사용"
   ]
  },
  {
   "cell_type": "code",
   "execution_count": 1,
   "metadata": {},
   "outputs": [
    {
     "name": "stdout",
     "output_type": "stream",
     "text": [
      "[] <class 'list'>\n"
     ]
    }
   ],
   "source": [
    "list1 = list()\n",
    "print(list1, type(list1))"
   ]
  },
  {
   "cell_type": "code",
   "execution_count": 2,
   "metadata": {},
   "outputs": [
    {
     "name": "stdout",
     "output_type": "stream",
     "text": [
      "[1, 2, 3] <class 'list'>\n"
     ]
    }
   ],
   "source": [
    "list2 = [1,2,3]\n",
    "print(list2, type(list2))"
   ]
  },
  {
   "cell_type": "code",
   "execution_count": 3,
   "metadata": {},
   "outputs": [
    {
     "name": "stdout",
     "output_type": "stream",
     "text": [
      "1\n"
     ]
    }
   ],
   "source": [
    "list3 = [1,2,3,4,5,6,7,8,9]\n",
    "print(list3[0])"
   ]
  },
  {
   "cell_type": "code",
   "execution_count": 4,
   "metadata": {},
   "outputs": [
    {
     "name": "stdout",
     "output_type": "stream",
     "text": [
      "[1, 2, 3, 4]\n"
     ]
    }
   ],
   "source": [
    "print(list3[0:4])"
   ]
  },
  {
   "cell_type": "code",
   "execution_count": 5,
   "metadata": {},
   "outputs": [
    {
     "name": "stdout",
     "output_type": "stream",
     "text": [
      "9\n"
     ]
    }
   ],
   "source": [
    "print(len(list3))"
   ]
  },
  {
   "cell_type": "code",
   "execution_count": 6,
   "metadata": {},
   "outputs": [
    {
     "name": "stdout",
     "output_type": "stream",
     "text": [
      "9\n"
     ]
    }
   ],
   "source": [
    "print(list3[-1])"
   ]
  },
  {
   "cell_type": "code",
   "execution_count": 7,
   "metadata": {},
   "outputs": [
    {
     "name": "stdout",
     "output_type": "stream",
     "text": [
      "9\n"
     ]
    }
   ],
   "source": [
    "print(list3[8])"
   ]
  },
  {
   "cell_type": "code",
   "execution_count": 10,
   "metadata": {},
   "outputs": [
    {
     "name": "stdout",
     "output_type": "stream",
     "text": [
      "9\n"
     ]
    }
   ],
   "source": [
    "print(list3[len(list3)-1])"
   ]
  },
  {
   "cell_type": "code",
   "execution_count": 11,
   "metadata": {},
   "outputs": [],
   "source": [
    "list4 = [1,2,3,4,5,6,7,8,9]"
   ]
  },
  {
   "cell_type": "code",
   "execution_count": 13,
   "metadata": {},
   "outputs": [
    {
     "name": "stdout",
     "output_type": "stream",
     "text": [
      "[99, 2, 3, 4, 5, 6, 7, 8, 9]\n"
     ]
    }
   ],
   "source": [
    "list4[0] = 99\n",
    "print(list4)"
   ]
  },
  {
   "cell_type": "code",
   "execution_count": 14,
   "metadata": {},
   "outputs": [
    {
     "name": "stdout",
     "output_type": "stream",
     "text": [
      "[99, [1, 2, 3], '문자', 4, 5, 6, 7, 8, 9]\n"
     ]
    }
   ],
   "source": [
    "list4[1] = [1,2,3]\n",
    "list4[2] = \"문자\"\n",
    "print(list4)"
   ]
  },
  {
   "cell_type": "code",
   "execution_count": 15,
   "metadata": {},
   "outputs": [
    {
     "name": "stdout",
     "output_type": "stream",
     "text": [
      "[1, 2, 3, 4, 5]\n"
     ]
    }
   ],
   "source": [
    "list5 = [1,2,3,4,5]\n",
    "print(list5)"
   ]
  },
  {
   "cell_type": "code",
   "execution_count": 16,
   "metadata": {},
   "outputs": [
    {
     "name": "stdout",
     "output_type": "stream",
     "text": [
      "[1, 2, 3, 4, 5, 6]\n"
     ]
    }
   ],
   "source": [
    "list5.append(6) #리스트 추가(맨 뒤)\n",
    "print(list5)"
   ]
  },
  {
   "cell_type": "code",
   "execution_count": 22,
   "metadata": {},
   "outputs": [
    {
     "name": "stdout",
     "output_type": "stream",
     "text": [
      "['a', 'b', 'c', 'd']\n"
     ]
    }
   ],
   "source": [
    "list6 = ['a','b','c','d']\n",
    "print(list6)"
   ]
  },
  {
   "cell_type": "code",
   "execution_count": 23,
   "metadata": {},
   "outputs": [
    {
     "name": "stdout",
     "output_type": "stream",
     "text": [
      "['a', 'c', 'd']\n"
     ]
    }
   ],
   "source": [
    "list6.remove('b')\n",
    "print(list6)"
   ]
  },
  {
   "cell_type": "code",
   "execution_count": 24,
   "metadata": {},
   "outputs": [
    {
     "name": "stdout",
     "output_type": "stream",
     "text": [
      "['a', 'c', 'd', 'a', 'c', 'd']\n"
     ]
    }
   ],
   "source": [
    "print(list6 + list6)"
   ]
  },
  {
   "cell_type": "code",
   "execution_count": 1,
   "metadata": {},
   "outputs": [
    {
     "name": "stdout",
     "output_type": "stream",
     "text": [
      "[9, 7, 4, 7, 2, 6, 8, 9]\n"
     ]
    }
   ],
   "source": [
    "list7 = [9,7,4,7,2,6,8,9]\n",
    "print(list7)"
   ]
  },
  {
   "cell_type": "code",
   "execution_count": 3,
   "metadata": {},
   "outputs": [
    {
     "name": "stdout",
     "output_type": "stream",
     "text": [
      "[1, 9, 7, 4, 7, 2, 6, 8, 9]\n"
     ]
    }
   ],
   "source": [
    "list7.insert(0,1)\n",
    "print(list7)"
   ]
  },
  {
   "cell_type": "code",
   "execution_count": 4,
   "metadata": {},
   "outputs": [
    {
     "name": "stdout",
     "output_type": "stream",
     "text": [
      "[1, 9, 7, 4, '안녕하세요', 7, 2, 6, 8, 9]\n"
     ]
    }
   ],
   "source": [
    "list7.insert(4,\"안녕하세요\")\n",
    "print(list7)"
   ]
  },
  {
   "cell_type": "code",
   "execution_count": 6,
   "metadata": {},
   "outputs": [
    {
     "name": "stdout",
     "output_type": "stream",
     "text": [
      "[9, 7, 4, 7, 2, 6, 8, 9]\n"
     ]
    }
   ],
   "source": [
    "list8 = [9,7,4,7,2,6,8,9]\n",
    "print(list8)"
   ]
  },
  {
   "cell_type": "code",
   "execution_count": 7,
   "metadata": {},
   "outputs": [
    {
     "data": {
      "text/plain": [
       "9"
      ]
     },
     "execution_count": 7,
     "metadata": {},
     "output_type": "execute_result"
    }
   ],
   "source": [
    "list8.pop()"
   ]
  },
  {
   "cell_type": "code",
   "execution_count": 9,
   "metadata": {},
   "outputs": [
    {
     "name": "stdout",
     "output_type": "stream",
     "text": [
      "[9, 7, 4, 7, 2, 6, 8]\n"
     ]
    }
   ],
   "source": [
    "print(list8)"
   ]
  },
  {
   "cell_type": "code",
   "execution_count": 11,
   "metadata": {},
   "outputs": [
    {
     "data": {
      "text/plain": [
       "9"
      ]
     },
     "execution_count": 11,
     "metadata": {},
     "output_type": "execute_result"
    }
   ],
   "source": [
    "list8.pop(0)"
   ]
  },
  {
   "cell_type": "code",
   "execution_count": 12,
   "metadata": {},
   "outputs": [
    {
     "name": "stdout",
     "output_type": "stream",
     "text": [
      "[7, 4, 7, 2, 6, 8]\n"
     ]
    }
   ],
   "source": [
    "print(list8)"
   ]
  },
  {
   "cell_type": "code",
   "execution_count": 15,
   "metadata": {},
   "outputs": [
    {
     "name": "stdout",
     "output_type": "stream",
     "text": [
      "[1, 2, 3, 4, 5, 6, 7, 8, 9]\n"
     ]
    }
   ],
   "source": [
    "list9 = [1,2,3,4,5,6,7,8,9]\n",
    "print(list9)"
   ]
  },
  {
   "cell_type": "code",
   "execution_count": 16,
   "metadata": {},
   "outputs": [
    {
     "name": "stdout",
     "output_type": "stream",
     "text": [
      "[9, 8, 7, 6, 5, 4, 3, 2, 1]\n"
     ]
    }
   ],
   "source": [
    "list9.reverse()\n",
    "print(list9)"
   ]
  },
  {
   "cell_type": "code",
   "execution_count": 18,
   "metadata": {},
   "outputs": [
    {
     "name": "stdout",
     "output_type": "stream",
     "text": [
      "1\n"
     ]
    }
   ],
   "source": [
    "print(list9.count(1))"
   ]
  },
  {
   "cell_type": "code",
   "execution_count": 20,
   "metadata": {},
   "outputs": [
    {
     "name": "stdout",
     "output_type": "stream",
     "text": [
      "0\n"
     ]
    }
   ],
   "source": [
    "print(list9.count(10))"
   ]
  },
  {
   "cell_type": "code",
   "execution_count": 21,
   "metadata": {},
   "outputs": [
    {
     "name": "stdout",
     "output_type": "stream",
     "text": [
      "[0, 1, 2, 3, 4]\n"
     ]
    }
   ],
   "source": [
    "list_num = []\n",
    "for i in range(5):\n",
    "    list_num.append(i)\n",
    "\n",
    "print(list_num)"
   ]
  },
  {
   "cell_type": "code",
   "execution_count": 24,
   "metadata": {},
   "outputs": [
    {
     "name": "stdout",
     "output_type": "stream",
     "text": [
      "[0, 1, 2, 3, 4]\n"
     ]
    }
   ],
   "source": [
    "print([i for i in range(5)]) #리스트 내포"
   ]
  },
  {
   "cell_type": "code",
   "execution_count": 32,
   "metadata": {},
   "outputs": [
    {
     "name": "stdout",
     "output_type": "stream",
     "text": [
      "[1, 2, 3]\n",
      "[]\n"
     ]
    }
   ],
   "source": [
    "# 큐만들기\n",
    "# 입력 1 2 3\n",
    "# 출력 1 2 3\n",
    "list_Queue = []\n",
    "list_Queue.append(1)\n",
    "list_Queue.append(2)\n",
    "list_Queue.append(3)\n",
    "print(list_Queue)\n",
    "list_Queue.pop(0)\n",
    "list_Queue.pop(0)\n",
    "list_Queue.pop(0)\n",
    "print(list_Queue)"
   ]
  },
  {
   "cell_type": "code",
   "execution_count": 33,
   "metadata": {},
   "outputs": [
    {
     "name": "stdout",
     "output_type": "stream",
     "text": [
      "[1, 2, 3]\n",
      "[]\n"
     ]
    }
   ],
   "source": [
    "# 스택만들기\n",
    "# 입력 1 2 3\n",
    "# 출력 3 2 1\n",
    "list_Queue = []\n",
    "list_Queue.append(1)\n",
    "list_Queue.append(2)\n",
    "list_Queue.append(3)\n",
    "print(list_Queue)\n",
    "list_Queue.pop()\n",
    "list_Queue.pop()\n",
    "list_Queue.pop()\n",
    "print(list_Queue)"
   ]
  }
 ],
 "metadata": {
  "kernelspec": {
   "display_name": "Python 3",
   "language": "python",
   "name": "python3"
  },
  "language_info": {
   "codemirror_mode": {
    "name": "ipython",
    "version": 3
   },
   "file_extension": ".py",
   "mimetype": "text/x-python",
   "name": "python",
   "nbconvert_exporter": "python",
   "pygments_lexer": "ipython3",
   "version": "3.11.2"
  },
  "orig_nbformat": 4,
  "vscode": {
   "interpreter": {
    "hash": "1682e5d06a6d97c1b1cf6bb4ae6cf16223e994936ddb1d53664597d7d46101fa"
   }
  }
 },
 "nbformat": 4,
 "nbformat_minor": 2
}
