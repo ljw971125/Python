{
 "cells": [
  {
   "attachments": {},
   "cell_type": "markdown",
   "metadata": {},
   "source": [
    "# 2.자료형(수치형/문자열)\n",
    "* 내장 자료형이란\n",
    "- 숫자(수치)자료형 : 정수(int), 실수(float), 복소수(complex)\n",
    "- 불(Bool) 자료형 : True, False\n",
    "- 군집 자료형 : 문자열(str), 리스트(list), 튜플(tuple) , 사전(dict), 집합(set)\n",
    "* 내장 자료형의 구분\n",
    "1) 기억장소의 크기\n",
    "2) 저장되는 데이터의 형태\n",
    "3) 저장방식\n",
    "4) 값의 범위  \n",
    "분류기준 : 종류  \n",
    "데이터 저장방법 : 직접표현, 시퀀스, 매핑  \n",
    "변경 가능성 : 변경 가능, 변경 불가능  \n",
    "저장 개수 : 리터럴(한가지), 컨테이너(여러가지 저장)\n",
    "\n",
    "* 직접 표현 : 직접 데이터를 표현(정수, 실수 등)\n",
    "* 시퀀스 : 여러 데이터를 포함(순서가 있음.)\n",
    "* 매핑 : 여러 데이터를 포함(순서가 없음.)\n",
    "\n",
    "## 2.1 정수형 자료형(int)\n",
    "1) 소수점이 없는 숫자(양수, 0, 음수)\n",
    "2) 기본적으로 10진수\n",
    "- 접두어를 활용해 2,8,16진수를 표현 가능\n",
    "3) 내장 함수 int()를 활용해 정수 자료형으로 변경 가능\n",
    "4) 범위의 제한이 없음\n",
    "- 파이썬 버전3부터 long형 또한 정수형으로 통합"
   ]
  },
  {
   "cell_type": "code",
   "execution_count": 1,
   "metadata": {},
   "outputs": [
    {
     "name": "stdout",
     "output_type": "stream",
     "text": [
      "10\n"
     ]
    }
   ],
   "source": [
    "num1 = 10\n",
    "print(num1)"
   ]
  },
  {
   "cell_type": "code",
   "execution_count": 2,
   "metadata": {},
   "outputs": [
    {
     "name": "stdout",
     "output_type": "stream",
     "text": [
      "10\n"
     ]
    }
   ],
   "source": [
    "num2 = 10\n",
    "print(num2)"
   ]
  },
  {
   "cell_type": "code",
   "execution_count": 3,
   "metadata": {},
   "outputs": [
    {
     "name": "stdout",
     "output_type": "stream",
     "text": [
      "140711134360648\n",
      "140711134360648\n"
     ]
    }
   ],
   "source": [
    "print(id(num1)) #같은 값을 가질 경우 같은주소를 가지고있음\n",
    "print(id(num2))"
   ]
  },
  {
   "cell_type": "code",
   "execution_count": 4,
   "metadata": {},
   "outputs": [
    {
     "name": "stdout",
     "output_type": "stream",
     "text": [
      "20\n"
     ]
    }
   ],
   "source": [
    "num2 = 20\n",
    "print(num2)"
   ]
  },
  {
   "cell_type": "code",
   "execution_count": 5,
   "metadata": {},
   "outputs": [
    {
     "name": "stdout",
     "output_type": "stream",
     "text": [
      "140711134360648\n",
      "140711134360968\n"
     ]
    }
   ],
   "source": [
    "print(id(num1))\n",
    "print(id(num2))"
   ]
  },
  {
   "cell_type": "code",
   "execution_count": 6,
   "metadata": {},
   "outputs": [
    {
     "name": "stdout",
     "output_type": "stream",
     "text": [
      "<class 'int'>\n",
      "12345\n"
     ]
    }
   ],
   "source": [
    "num3 = 12345 #10진수\n",
    "print(type(num3))\n",
    "print(num3)"
   ]
  },
  {
   "cell_type": "code",
   "execution_count": 7,
   "metadata": {},
   "outputs": [
    {
     "name": "stdout",
     "output_type": "stream",
     "text": [
      "<class 'int'>\n",
      "3\n"
     ]
    }
   ],
   "source": [
    "num4 = 0b11 #2진수 11 \n",
    "print(type(num4))\n",
    "print(num4)"
   ]
  },
  {
   "cell_type": "code",
   "execution_count": 8,
   "metadata": {},
   "outputs": [
    {
     "name": "stdout",
     "output_type": "stream",
     "text": [
      "<class 'int'>\n",
      "10\n"
     ]
    }
   ],
   "source": [
    "num5 = 0o12 #8진수 12\n",
    "print(type(num5))\n",
    "print(num5)"
   ]
  },
  {
   "cell_type": "code",
   "execution_count": 9,
   "metadata": {},
   "outputs": [
    {
     "name": "stdout",
     "output_type": "stream",
     "text": [
      "<class 'int'>\n",
      "35\n"
     ]
    }
   ],
   "source": [
    "num6 = 0x23 #16진수 23\n",
    "print(type(num6))\n",
    "print(num6)"
   ]
  },
  {
   "cell_type": "code",
   "execution_count": 10,
   "metadata": {},
   "outputs": [
    {
     "name": "stdout",
     "output_type": "stream",
     "text": [
      "<class 'str'>\n",
      "123\n"
     ]
    }
   ],
   "source": [
    "str1 = \"123\"\n",
    "print(type(str1))\n",
    "print(str1)"
   ]
  },
  {
   "cell_type": "code",
   "execution_count": 11,
   "metadata": {},
   "outputs": [
    {
     "name": "stdout",
     "output_type": "stream",
     "text": [
      "<class 'int'>\n",
      "123\n"
     ]
    }
   ],
   "source": [
    "num7 = int(str1) #형변환\n",
    "print(type(num7))\n",
    "print(num7)"
   ]
  }
 ],
 "metadata": {
  "kernelspec": {
   "display_name": "Python 3",
   "language": "python",
   "name": "python3"
  },
  "language_info": {
   "codemirror_mode": {
    "name": "ipython",
    "version": 3
   },
   "file_extension": ".py",
   "mimetype": "text/x-python",
   "name": "python",
   "nbconvert_exporter": "python",
   "pygments_lexer": "ipython3",
   "version": "3.11.2"
  },
  "orig_nbformat": 4,
  "vscode": {
   "interpreter": {
    "hash": "1682e5d06a6d97c1b1cf6bb4ae6cf16223e994936ddb1d53664597d7d46101fa"
   }
  }
 },
 "nbformat": 4,
 "nbformat_minor": 2
}
