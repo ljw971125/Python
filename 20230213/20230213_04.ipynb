{
 "cells": [
  {
   "attachments": {},
   "cell_type": "markdown",
   "metadata": {},
   "source": [
    "## 1.4 파이썬의 주석\n",
    "1) 주석 : # 뒤에 오는 문장\n",
    "2) 첫 번째 줄에, 일반적인 파이썬 문장 뒤에 올 수 있음.\n",
    "3) 작은 따옴표('') 또는 큰 따옴표(\"\")를 사용할 수 있음."
   ]
  },
  {
   "cell_type": "code",
   "execution_count": 1,
   "metadata": {},
   "outputs": [
    {
     "name": "stdout",
     "output_type": "stream",
     "text": [
      "파이썬 프로젝트입니다.\n"
     ]
    }
   ],
   "source": [
    "#주석1\n",
    "print(\"파이썬 프로젝트입니다.\")"
   ]
  },
  {
   "cell_type": "code",
   "execution_count": 4,
   "metadata": {},
   "outputs": [
    {
     "name": "stdout",
     "output_type": "stream",
     "text": [
      "빅데이터 수집 프로젝트 입니다.\n"
     ]
    }
   ],
   "source": [
    "print(\"빅데이터 수집 프로젝트 입니다.\") # 주석2"
   ]
  },
  {
   "cell_type": "code",
   "execution_count": 2,
   "metadata": {},
   "outputs": [
    {
     "data": {
      "text/plain": [
       "'\\n프로젝트명 : 빅데이터 시각화 프로젝트\\n프로젝트기간 : 2023.02.13 ~ 02.17\\n'"
      ]
     },
     "execution_count": 2,
     "metadata": {},
     "output_type": "execute_result"
    }
   ],
   "source": [
    "'''\n",
    "프로젝트명 : 빅데이터 시각화 프로젝트\n",
    "프로젝트기간 : 2023.02.13 ~ 02.17\n",
    "'''"
   ]
  },
  {
   "cell_type": "code",
   "execution_count": 3,
   "metadata": {},
   "outputs": [
    {
     "data": {
      "text/plain": [
       "'\\n프로젝트명 : 빅데이터 수집 프로젝트\\n프로젝트기간 : 2023.02.13 ~ 02.17\\n프로젝트내용 : 네이버 뉴스에서 ~~정보를 수집하고자 함\\n'"
      ]
     },
     "execution_count": 3,
     "metadata": {},
     "output_type": "execute_result"
    }
   ],
   "source": [
    "\"\"\"\n",
    "프로젝트명 : 빅데이터 수집 프로젝트\n",
    "프로젝트기간 : 2023.02.13 ~ 02.17\n",
    "프로젝트내용 : 네이버 뉴스에서 ~~정보를 수집하고자 함\n",
    "\"\"\""
   ]
  }
 ],
 "metadata": {
  "kernelspec": {
   "display_name": "Python 3",
   "language": "python",
   "name": "python3"
  },
  "language_info": {
   "codemirror_mode": {
    "name": "ipython",
    "version": 3
   },
   "file_extension": ".py",
   "mimetype": "text/x-python",
   "name": "python",
   "nbconvert_exporter": "python",
   "pygments_lexer": "ipython3",
   "version": "3.11.2"
  },
  "orig_nbformat": 4,
  "vscode": {
   "interpreter": {
    "hash": "1682e5d06a6d97c1b1cf6bb4ae6cf16223e994936ddb1d53664597d7d46101fa"
   }
  }
 },
 "nbformat": 4,
 "nbformat_minor": 2
}
